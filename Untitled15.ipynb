{
  "nbformat": 4,
  "nbformat_minor": 0,
  "metadata": {
    "colab": {
      "provenance": []
    },
    "kernelspec": {
      "name": "python3",
      "display_name": "Python 3"
    },
    "language_info": {
      "name": "python"
    }
  },
  "cells": [
    {
      "cell_type": "code",
      "execution_count": null,
      "metadata": {
        "id": "A6MCW65v6lhQ"
      },
      "outputs": [],
      "source": [
        "import pandas as pd\n",
        "from sklearn.model_selection import train_test_split\n",
        "from tensorflow.keras.models import Sequential\n",
        "from tensorflow.keras.models import load_model\n",
        "import pickle\n",
        "from tensorflow.keras.layers import Dense\n",
        "from tensorflow.keras.layers import Dropout\n",
        "from tensorflow.keras.layers import BatchNormalization\n",
        "import tensorflow as tf\n",
        "import seaborn as sns\n",
        "from tensorflow.keras.callbacks import EarlyStopping\n",
        "from sklearn.preprocessing import MinMaxScaler\n",
        "from sklearn.preprocessing import LabelEncoder\n",
        "from sklearn.preprocessing import OneHotEncoder\n",
        "from sklearn.preprocessing import OrdinalEncoder\n",
        "from sklearn.metrics import classification_report,confusion_matrix\n",
        "import numpy as np\n",
        "import matplotlib.pylab as plt"
      ]
    },
    {
      "cell_type": "code",
      "source": [
        "customer_df = pd.read_csv('customers.csv')"
      ],
      "metadata": {
        "id": "MGVT3t1G9QNB"
      },
      "execution_count": null,
      "outputs": []
    },
    {
      "cell_type": "code",
      "source": [
        "customer_df.columns"
      ],
      "metadata": {
        "colab": {
          "base_uri": "https://localhost:8080/"
        },
        "id": "qEIljzt-9d06",
        "outputId": "c035875a-3689-4f57-c32c-57330cef44fc"
      },
      "execution_count": null,
      "outputs": [
        {
          "output_type": "execute_result",
          "data": {
            "text/plain": [
              "Index(['ID', 'Gender', 'Ever_Married', 'Age', 'Graduated', 'Profession',\n",
              "       'Work_Experience', 'Spending_Score', 'Family_Size', 'Var_1',\n",
              "       'Segmentation'],\n",
              "      dtype='object')"
            ]
          },
          "metadata": {},
          "execution_count": 3
        }
      ]
    },
    {
      "cell_type": "code",
      "source": [
        "customer_df.dtypes"
      ],
      "metadata": {
        "colab": {
          "base_uri": "https://localhost:8080/"
        },
        "id": "GhVaa-OR9ojI",
        "outputId": "ed0db897-fd25-4d3b-e92a-25a98c22a0c4"
      },
      "execution_count": null,
      "outputs": [
        {
          "output_type": "execute_result",
          "data": {
            "text/plain": [
              "ID                   int64\n",
              "Gender              object\n",
              "Ever_Married        object\n",
              "Age                  int64\n",
              "Graduated           object\n",
              "Profession          object\n",
              "Work_Experience    float64\n",
              "Spending_Score      object\n",
              "Family_Size        float64\n",
              "Var_1               object\n",
              "Segmentation        object\n",
              "dtype: object"
            ]
          },
          "metadata": {},
          "execution_count": 4
        }
      ]
    },
    {
      "cell_type": "code",
      "source": [
        "customer_df.shape"
      ],
      "metadata": {
        "colab": {
          "base_uri": "https://localhost:8080/"
        },
        "id": "QJpqqAxq9qj-",
        "outputId": "9d879368-48c1-4026-ef8a-06acbcb8cd08"
      },
      "execution_count": null,
      "outputs": [
        {
          "output_type": "execute_result",
          "data": {
            "text/plain": [
              "(10695, 11)"
            ]
          },
          "metadata": {},
          "execution_count": 5
        }
      ]
    },
    {
      "cell_type": "code",
      "source": [
        "customer_df.isnull().sum()"
      ],
      "metadata": {
        "colab": {
          "base_uri": "https://localhost:8080/"
        },
        "id": "hdM0ct-8-MIK",
        "outputId": "604f8609-8935-4a56-e9ee-db75ce802d37"
      },
      "execution_count": null,
      "outputs": [
        {
          "output_type": "execute_result",
          "data": {
            "text/plain": [
              "ID                    0\n",
              "Gender                0\n",
              "Ever_Married        190\n",
              "Age                   0\n",
              "Graduated           102\n",
              "Profession          162\n",
              "Work_Experience    1098\n",
              "Spending_Score        0\n",
              "Family_Size         448\n",
              "Var_1               108\n",
              "Segmentation          0\n",
              "dtype: int64"
            ]
          },
          "metadata": {},
          "execution_count": 7
        }
      ]
    },
    {
      "cell_type": "code",
      "source": [
        "customer_df_cleaned = customer_df.dropna(axis=0)"
      ],
      "metadata": {
        "id": "HdYP3xTz-MJh"
      },
      "execution_count": null,
      "outputs": []
    },
    {
      "cell_type": "code",
      "source": [
        "customer_df_cleaned.isnull().sum()"
      ],
      "metadata": {
        "colab": {
          "base_uri": "https://localhost:8080/"
        },
        "id": "79ahEcXw-MM_",
        "outputId": "2fe37a38-e39c-4e6b-b0f3-9b6099edec6f"
      },
      "execution_count": null,
      "outputs": [
        {
          "output_type": "execute_result",
          "data": {
            "text/plain": [
              "ID                 0\n",
              "Gender             0\n",
              "Ever_Married       0\n",
              "Age                0\n",
              "Graduated          0\n",
              "Profession         0\n",
              "Work_Experience    0\n",
              "Spending_Score     0\n",
              "Family_Size        0\n",
              "Var_1              0\n",
              "Segmentation       0\n",
              "dtype: int64"
            ]
          },
          "metadata": {},
          "execution_count": 9
        }
      ]
    },
    {
      "cell_type": "code",
      "source": [
        "customer_df_cleaned.shape"
      ],
      "metadata": {
        "colab": {
          "base_uri": "https://localhost:8080/"
        },
        "id": "H6iZXVBP-aaG",
        "outputId": "ad52cea7-c1df-4dcc-f2ae-4eea8f5569d1"
      },
      "execution_count": null,
      "outputs": [
        {
          "output_type": "execute_result",
          "data": {
            "text/plain": [
              "(8819, 11)"
            ]
          },
          "metadata": {},
          "execution_count": 10
        }
      ]
    },
    {
      "cell_type": "code",
      "source": [
        "customer_df_cleaned.dtypes"
      ],
      "metadata": {
        "colab": {
          "base_uri": "https://localhost:8080/"
        },
        "id": "ThBV7cAS-acQ",
        "outputId": "bb13fc25-1b11-4654-ad58-6cffca32d46f"
      },
      "execution_count": null,
      "outputs": [
        {
          "output_type": "execute_result",
          "data": {
            "text/plain": [
              "ID                   int64\n",
              "Gender              object\n",
              "Ever_Married        object\n",
              "Age                  int64\n",
              "Graduated           object\n",
              "Profession          object\n",
              "Work_Experience    float64\n",
              "Spending_Score      object\n",
              "Family_Size        float64\n",
              "Var_1               object\n",
              "Segmentation        object\n",
              "dtype: object"
            ]
          },
          "metadata": {},
          "execution_count": 11
        }
      ]
    },
    {
      "cell_type": "code",
      "source": [
        "customer_df_cleaned['Gender'].unique()"
      ],
      "metadata": {
        "colab": {
          "base_uri": "https://localhost:8080/"
        },
        "id": "z_CUZk7T-af1",
        "outputId": "9d0d2d3c-ed09-4298-f69b-0deafb1714f9"
      },
      "execution_count": null,
      "outputs": [
        {
          "output_type": "execute_result",
          "data": {
            "text/plain": [
              "array(['Male', 'Female'], dtype=object)"
            ]
          },
          "metadata": {},
          "execution_count": 12
        }
      ]
    },
    {
      "cell_type": "code",
      "source": [
        "customer_df_cleaned['Ever_Married'].unique()"
      ],
      "metadata": {
        "colab": {
          "base_uri": "https://localhost:8080/"
        },
        "id": "nuWDOtEq-k_R",
        "outputId": "c1bc16fa-64c0-44e4-d080-d88d2c6bc67b"
      },
      "execution_count": null,
      "outputs": [
        {
          "output_type": "execute_result",
          "data": {
            "text/plain": [
              "array(['No', 'Yes'], dtype=object)"
            ]
          },
          "metadata": {},
          "execution_count": 13
        }
      ]
    },
    {
      "cell_type": "code",
      "source": [
        "customer_df_cleaned['Graduated'].unique()"
      ],
      "metadata": {
        "colab": {
          "base_uri": "https://localhost:8080/"
        },
        "id": "KoRFaJxp-lBD",
        "outputId": "b5485a8f-4f62-456a-cbd3-a90edeca3b04"
      },
      "execution_count": null,
      "outputs": [
        {
          "output_type": "execute_result",
          "data": {
            "text/plain": [
              "array(['No', 'Yes'], dtype=object)"
            ]
          },
          "metadata": {},
          "execution_count": 14
        }
      ]
    },
    {
      "cell_type": "code",
      "source": [
        "customer_df_cleaned['Profession'].unique()"
      ],
      "metadata": {
        "colab": {
          "base_uri": "https://localhost:8080/"
        },
        "id": "0in3hmLT-lE-",
        "outputId": "e3c0f2f9-68df-465b-fcd9-852b0971b39d"
      },
      "execution_count": null,
      "outputs": [
        {
          "output_type": "execute_result",
          "data": {
            "text/plain": [
              "array(['Healthcare', 'Engineer', 'Lawyer', 'Artist', 'Doctor',\n",
              "       'Homemaker', 'Entertainment', 'Marketing', 'Executive'],\n",
              "      dtype=object)"
            ]
          },
          "metadata": {},
          "execution_count": 15
        }
      ]
    },
    {
      "cell_type": "code",
      "source": [
        "customer_df_cleaned['Spending_Score'].unique()"
      ],
      "metadata": {
        "colab": {
          "base_uri": "https://localhost:8080/"
        },
        "id": "xkhUghy1-lSp",
        "outputId": "122942ed-c1a5-404e-cf2d-efdd18176190"
      },
      "execution_count": null,
      "outputs": [
        {
          "output_type": "execute_result",
          "data": {
            "text/plain": [
              "array(['Low', 'High', 'Average'], dtype=object)"
            ]
          },
          "metadata": {},
          "execution_count": 16
        }
      ]
    },
    {
      "cell_type": "code",
      "source": [
        "customer_df_cleaned['Var_1'].unique()"
      ],
      "metadata": {
        "colab": {
          "base_uri": "https://localhost:8080/"
        },
        "id": "Md_RG0ya-036",
        "outputId": "45493c80-f314-48c2-8aa6-0e749c46e265"
      },
      "execution_count": null,
      "outputs": [
        {
          "output_type": "execute_result",
          "data": {
            "text/plain": [
              "array(['Cat_4', 'Cat_6', 'Cat_7', 'Cat_3', 'Cat_1', 'Cat_2', 'Cat_5'],\n",
              "      dtype=object)"
            ]
          },
          "metadata": {},
          "execution_count": 17
        }
      ]
    },
    {
      "cell_type": "code",
      "source": [
        "customer_df_cleaned['Segmentation'].unique()"
      ],
      "metadata": {
        "colab": {
          "base_uri": "https://localhost:8080/"
        },
        "id": "ygehOTnn-07M",
        "outputId": "65d014ec-c1be-4fdc-9c06-d6de64831a94"
      },
      "execution_count": null,
      "outputs": [
        {
          "output_type": "execute_result",
          "data": {
            "text/plain": [
              "array(['D', 'B', 'C', 'A'], dtype=object)"
            ]
          },
          "metadata": {},
          "execution_count": 18
        }
      ]
    },
    {
      "cell_type": "code",
      "source": [
        "\n",
        "categories_list=[['Male', 'Female'],\n",
        "           ['No', 'Yes'],\n",
        "           ['No', 'Yes'],\n",
        "           ['Healthcare', 'Engineer', 'Lawyer', 'Artist', 'Doctor',\n",
        "            'Homemaker', 'Entertainment', 'Marketing', 'Executive'],\n",
        "           ['Low', 'Average', 'High']\n",
        "           ]\n",
        "enc = OrdinalEncoder(categories=categories_list)"
      ],
      "metadata": {
        "id": "nZTQntFJ-7Ib"
      },
      "execution_count": null,
      "outputs": []
    },
    {
      "cell_type": "code",
      "source": [
        "customers_1 = customer_df_cleaned.copy()"
      ],
      "metadata": {
        "id": "gTxCujOn-7Kj"
      },
      "execution_count": null,
      "outputs": []
    },
    {
      "cell_type": "code",
      "source": [
        "customers_1[['Gender',\n",
        "             'Ever_Married',\n",
        "              'Graduated','Profession',\n",
        "              'Spending_Score']] = enc.fit_transform(customers_1[['Gender',\n",
        "                                                                 'Ever_Married',\n",
        "                                                                 'Graduated','Profession',\n",
        "                                                                 'Spending_Score']])"
      ],
      "metadata": {
        "id": "_2cdr61C-7Oi"
      },
      "execution_count": null,
      "outputs": []
    },
    {
      "cell_type": "code",
      "source": [
        "\n",
        "customers_1.dtypes"
      ],
      "metadata": {
        "colab": {
          "base_uri": "https://localhost:8080/"
        },
        "id": "eHq1UXxX_SWe",
        "outputId": "1f83d943-6030-4efd-b8d6-fb664d624361"
      },
      "execution_count": null,
      "outputs": [
        {
          "output_type": "execute_result",
          "data": {
            "text/plain": [
              "ID                   int64\n",
              "Gender             float64\n",
              "Ever_Married       float64\n",
              "Age                  int64\n",
              "Graduated          float64\n",
              "Profession         float64\n",
              "Work_Experience    float64\n",
              "Spending_Score     float64\n",
              "Family_Size        float64\n",
              "Var_1               object\n",
              "Segmentation        object\n",
              "dtype: object"
            ]
          },
          "metadata": {},
          "execution_count": 22
        }
      ]
    },
    {
      "cell_type": "code",
      "source": [
        "le = LabelEncoder()"
      ],
      "metadata": {
        "id": "WQUE5jV__SZ6"
      },
      "execution_count": null,
      "outputs": []
    },
    {
      "cell_type": "code",
      "source": [
        "customers_1['Segmentation'] = le.fit_transform(customers_1['Segmentation'])"
      ],
      "metadata": {
        "id": "j8L2-Vmf_Zhp"
      },
      "execution_count": null,
      "outputs": []
    },
    {
      "cell_type": "code",
      "source": [
        "customers_1.dtypes"
      ],
      "metadata": {
        "colab": {
          "base_uri": "https://localhost:8080/"
        },
        "id": "U0ui8xck_ZjX",
        "outputId": "f664f080-9024-4b05-f22a-5efe755fe64b"
      },
      "execution_count": null,
      "outputs": [
        {
          "output_type": "execute_result",
          "data": {
            "text/plain": [
              "ID                   int64\n",
              "Gender             float64\n",
              "Ever_Married       float64\n",
              "Age                  int64\n",
              "Graduated          float64\n",
              "Profession         float64\n",
              "Work_Experience    float64\n",
              "Spending_Score     float64\n",
              "Family_Size        float64\n",
              "Var_1               object\n",
              "Segmentation         int64\n",
              "dtype: object"
            ]
          },
          "metadata": {},
          "execution_count": 25
        }
      ]
    },
    {
      "cell_type": "code",
      "source": [
        "customers_1 = customers_1.drop('ID',axis=1)\n",
        "customers_1 = customers_1.drop('Var_1',axis=1)"
      ],
      "metadata": {
        "id": "wEhu9FgO_Zk-"
      },
      "execution_count": null,
      "outputs": []
    },
    {
      "cell_type": "code",
      "source": [
        "customers_1.dtypes"
      ],
      "metadata": {
        "colab": {
          "base_uri": "https://localhost:8080/"
        },
        "id": "_98S17mM_ZoU",
        "outputId": "b7dd9640-a3c6-42aa-fe27-d72fa928f441"
      },
      "execution_count": null,
      "outputs": [
        {
          "output_type": "execute_result",
          "data": {
            "text/plain": [
              "Gender             float64\n",
              "Ever_Married       float64\n",
              "Age                  int64\n",
              "Graduated          float64\n",
              "Profession         float64\n",
              "Work_Experience    float64\n",
              "Spending_Score     float64\n",
              "Family_Size        float64\n",
              "Segmentation         int64\n",
              "dtype: object"
            ]
          },
          "metadata": {},
          "execution_count": 27
        }
      ]
    },
    {
      "cell_type": "code",
      "source": [
        "customers_1['Segmentation'].unique()"
      ],
      "metadata": {
        "colab": {
          "base_uri": "https://localhost:8080/"
        },
        "id": "zGm4DY8N_qBG",
        "outputId": "5a6a8a18-49c2-4e3c-980e-65972852ca42"
      },
      "execution_count": null,
      "outputs": [
        {
          "output_type": "execute_result",
          "data": {
            "text/plain": [
              "array([3, 1, 2, 0])"
            ]
          },
          "metadata": {},
          "execution_count": 28
        }
      ]
    },
    {
      "cell_type": "code",
      "source": [
        "X=customers_1[['Gender','Ever_Married','Age','Graduated','Profession','Work_Experience','Spending_Score','Family_Size']].values\n"
      ],
      "metadata": {
        "id": "OUPKowzo_qEg"
      },
      "execution_count": null,
      "outputs": []
    },
    {
      "cell_type": "code",
      "source": [
        "y1 = customers_1[['Segmentation']].values\n"
      ],
      "metadata": {
        "id": "-CEdjjNIAc7H"
      },
      "execution_count": null,
      "outputs": []
    },
    {
      "cell_type": "code",
      "source": [
        "one_hot_enc = OneHotEncoder()\n"
      ],
      "metadata": {
        "id": "ItXQQtjeAc-g"
      },
      "execution_count": null,
      "outputs": []
    },
    {
      "cell_type": "code",
      "source": [
        "one_hot_enc.fit(y1)\n"
      ],
      "metadata": {
        "colab": {
          "base_uri": "https://localhost:8080/",
          "height": 74
        },
        "id": "zaNmJepKAdHH",
        "outputId": "e2a454f3-aab4-4697-d5c2-35d515d6060e"
      },
      "execution_count": null,
      "outputs": [
        {
          "output_type": "execute_result",
          "data": {
            "text/plain": [
              "OneHotEncoder()"
            ],
            "text/html": [
              "<style>#sk-container-id-1 {color: black;background-color: white;}#sk-container-id-1 pre{padding: 0;}#sk-container-id-1 div.sk-toggleable {background-color: white;}#sk-container-id-1 label.sk-toggleable__label {cursor: pointer;display: block;width: 100%;margin-bottom: 0;padding: 0.3em;box-sizing: border-box;text-align: center;}#sk-container-id-1 label.sk-toggleable__label-arrow:before {content: \"▸\";float: left;margin-right: 0.25em;color: #696969;}#sk-container-id-1 label.sk-toggleable__label-arrow:hover:before {color: black;}#sk-container-id-1 div.sk-estimator:hover label.sk-toggleable__label-arrow:before {color: black;}#sk-container-id-1 div.sk-toggleable__content {max-height: 0;max-width: 0;overflow: hidden;text-align: left;background-color: #f0f8ff;}#sk-container-id-1 div.sk-toggleable__content pre {margin: 0.2em;color: black;border-radius: 0.25em;background-color: #f0f8ff;}#sk-container-id-1 input.sk-toggleable__control:checked~div.sk-toggleable__content {max-height: 200px;max-width: 100%;overflow: auto;}#sk-container-id-1 input.sk-toggleable__control:checked~label.sk-toggleable__label-arrow:before {content: \"▾\";}#sk-container-id-1 div.sk-estimator input.sk-toggleable__control:checked~label.sk-toggleable__label {background-color: #d4ebff;}#sk-container-id-1 div.sk-label input.sk-toggleable__control:checked~label.sk-toggleable__label {background-color: #d4ebff;}#sk-container-id-1 input.sk-hidden--visually {border: 0;clip: rect(1px 1px 1px 1px);clip: rect(1px, 1px, 1px, 1px);height: 1px;margin: -1px;overflow: hidden;padding: 0;position: absolute;width: 1px;}#sk-container-id-1 div.sk-estimator {font-family: monospace;background-color: #f0f8ff;border: 1px dotted black;border-radius: 0.25em;box-sizing: border-box;margin-bottom: 0.5em;}#sk-container-id-1 div.sk-estimator:hover {background-color: #d4ebff;}#sk-container-id-1 div.sk-parallel-item::after {content: \"\";width: 100%;border-bottom: 1px solid gray;flex-grow: 1;}#sk-container-id-1 div.sk-label:hover label.sk-toggleable__label {background-color: #d4ebff;}#sk-container-id-1 div.sk-serial::before {content: \"\";position: absolute;border-left: 1px solid gray;box-sizing: border-box;top: 0;bottom: 0;left: 50%;z-index: 0;}#sk-container-id-1 div.sk-serial {display: flex;flex-direction: column;align-items: center;background-color: white;padding-right: 0.2em;padding-left: 0.2em;position: relative;}#sk-container-id-1 div.sk-item {position: relative;z-index: 1;}#sk-container-id-1 div.sk-parallel {display: flex;align-items: stretch;justify-content: center;background-color: white;position: relative;}#sk-container-id-1 div.sk-item::before, #sk-container-id-1 div.sk-parallel-item::before {content: \"\";position: absolute;border-left: 1px solid gray;box-sizing: border-box;top: 0;bottom: 0;left: 50%;z-index: -1;}#sk-container-id-1 div.sk-parallel-item {display: flex;flex-direction: column;z-index: 1;position: relative;background-color: white;}#sk-container-id-1 div.sk-parallel-item:first-child::after {align-self: flex-end;width: 50%;}#sk-container-id-1 div.sk-parallel-item:last-child::after {align-self: flex-start;width: 50%;}#sk-container-id-1 div.sk-parallel-item:only-child::after {width: 0;}#sk-container-id-1 div.sk-dashed-wrapped {border: 1px dashed gray;margin: 0 0.4em 0.5em 0.4em;box-sizing: border-box;padding-bottom: 0.4em;background-color: white;}#sk-container-id-1 div.sk-label label {font-family: monospace;font-weight: bold;display: inline-block;line-height: 1.2em;}#sk-container-id-1 div.sk-label-container {text-align: center;}#sk-container-id-1 div.sk-container {/* jupyter's `normalize.less` sets `[hidden] { display: none; }` but bootstrap.min.css set `[hidden] { display: none !important; }` so we also need the `!important` here to be able to override the default hidden behavior on the sphinx rendered scikit-learn.org. See: https://github.com/scikit-learn/scikit-learn/issues/21755 */display: inline-block !important;position: relative;}#sk-container-id-1 div.sk-text-repr-fallback {display: none;}</style><div id=\"sk-container-id-1\" class=\"sk-top-container\"><div class=\"sk-text-repr-fallback\"><pre>OneHotEncoder()</pre><b>In a Jupyter environment, please rerun this cell to show the HTML representation or trust the notebook. <br />On GitHub, the HTML representation is unable to render, please try loading this page with nbviewer.org.</b></div><div class=\"sk-container\" hidden><div class=\"sk-item\"><div class=\"sk-estimator sk-toggleable\"><input class=\"sk-toggleable__control sk-hidden--visually\" id=\"sk-estimator-id-1\" type=\"checkbox\" checked><label for=\"sk-estimator-id-1\" class=\"sk-toggleable__label sk-toggleable__label-arrow\">OneHotEncoder</label><div class=\"sk-toggleable__content\"><pre>OneHotEncoder()</pre></div></div></div></div></div>"
            ]
          },
          "metadata": {},
          "execution_count": 32
        }
      ]
    },
    {
      "cell_type": "code",
      "source": [
        "y1.shape\n"
      ],
      "metadata": {
        "colab": {
          "base_uri": "https://localhost:8080/"
        },
        "id": "-_VustZlAdJv",
        "outputId": "138b643b-f891-4199-e17e-bdcc4800352b"
      },
      "execution_count": null,
      "outputs": [
        {
          "output_type": "execute_result",
          "data": {
            "text/plain": [
              "(8819, 1)"
            ]
          },
          "metadata": {},
          "execution_count": 33
        }
      ]
    },
    {
      "cell_type": "code",
      "source": [
        "y = one_hot_enc.transform(y1).toarray()\n"
      ],
      "metadata": {
        "id": "hJCqnN5FAqDx"
      },
      "execution_count": null,
      "outputs": []
    },
    {
      "cell_type": "code",
      "source": [
        "y.shape\n"
      ],
      "metadata": {
        "colab": {
          "base_uri": "https://localhost:8080/"
        },
        "id": "bMHrct68AqFf",
        "outputId": "fa6f61ae-7f0a-4a86-85a8-f7a6a203ab89"
      },
      "execution_count": null,
      "outputs": [
        {
          "output_type": "execute_result",
          "data": {
            "text/plain": [
              "(8819, 4)"
            ]
          },
          "metadata": {},
          "execution_count": 35
        }
      ]
    },
    {
      "cell_type": "code",
      "source": [
        "y1[0]\n"
      ],
      "metadata": {
        "colab": {
          "base_uri": "https://localhost:8080/"
        },
        "id": "arWqTwl7AqJh",
        "outputId": "2bd9b5b2-f446-4e49-a106-f9e8e389e1c8"
      },
      "execution_count": null,
      "outputs": [
        {
          "output_type": "execute_result",
          "data": {
            "text/plain": [
              "array([3])"
            ]
          },
          "metadata": {},
          "execution_count": 36
        }
      ]
    },
    {
      "cell_type": "code",
      "source": [
        "y[0]\n"
      ],
      "metadata": {
        "colab": {
          "base_uri": "https://localhost:8080/"
        },
        "id": "gtW2gTHQAqK9",
        "outputId": "ea62e5e4-155f-417e-f1ed-75e788b20684"
      },
      "execution_count": null,
      "outputs": [
        {
          "output_type": "execute_result",
          "data": {
            "text/plain": [
              "array([0., 0., 0., 1.])"
            ]
          },
          "metadata": {},
          "execution_count": 37
        }
      ]
    },
    {
      "cell_type": "code",
      "source": [
        "X.shape\n"
      ],
      "metadata": {
        "colab": {
          "base_uri": "https://localhost:8080/"
        },
        "id": "qTlwh6ceAqMj",
        "outputId": "b5eefe06-04e0-472f-f129-7b5ba403c963"
      },
      "execution_count": null,
      "outputs": [
        {
          "output_type": "execute_result",
          "data": {
            "text/plain": [
              "(8819, 8)"
            ]
          },
          "metadata": {},
          "execution_count": 38
        }
      ]
    },
    {
      "cell_type": "code",
      "source": [
        "X_train,X_test,y_train,y_test=train_test_split(X,y,\n",
        "                                               test_size=0.33,\n",
        "                                               random_state=50)\n",
        "\n"
      ],
      "metadata": {
        "id": "kessAkHJAqQK"
      },
      "execution_count": null,
      "outputs": []
    },
    {
      "cell_type": "code",
      "source": [
        "X_train[0]\n"
      ],
      "metadata": {
        "colab": {
          "base_uri": "https://localhost:8080/"
        },
        "id": "R9kbFi4kAqWx",
        "outputId": "546f2948-f095-48fa-f0a5-5ce132c227fc"
      },
      "execution_count": null,
      "outputs": [
        {
          "output_type": "execute_result",
          "data": {
            "text/plain": [
              "array([ 1.,  1., 85.,  0.,  2.,  0.,  0.,  1.])"
            ]
          },
          "metadata": {},
          "execution_count": 40
        }
      ]
    },
    {
      "cell_type": "code",
      "source": [
        "X_train.shape"
      ],
      "metadata": {
        "colab": {
          "base_uri": "https://localhost:8080/"
        },
        "id": "jiiZlf_1AqZ7",
        "outputId": "058afcb0-7942-4bc2-f8df-93e73a76ea65"
      },
      "execution_count": null,
      "outputs": [
        {
          "output_type": "execute_result",
          "data": {
            "text/plain": [
              "(5908, 8)"
            ]
          },
          "metadata": {},
          "execution_count": 41
        }
      ]
    },
    {
      "cell_type": "code",
      "source": [
        "scaler_age = MinMaxScaler()\n"
      ],
      "metadata": {
        "id": "57FHbuDKBHXu"
      },
      "execution_count": null,
      "outputs": []
    },
    {
      "cell_type": "code",
      "source": [
        "scaler_age.fit(X_train[:,2].reshape(-1,1))\n"
      ],
      "metadata": {
        "colab": {
          "base_uri": "https://localhost:8080/",
          "height": 74
        },
        "id": "E7pviYXhBHZu",
        "outputId": "49c2c2fb-9b25-4e57-ce8d-041498f38348"
      },
      "execution_count": null,
      "outputs": [
        {
          "output_type": "execute_result",
          "data": {
            "text/plain": [
              "MinMaxScaler()"
            ],
            "text/html": [
              "<style>#sk-container-id-2 {color: black;background-color: white;}#sk-container-id-2 pre{padding: 0;}#sk-container-id-2 div.sk-toggleable {background-color: white;}#sk-container-id-2 label.sk-toggleable__label {cursor: pointer;display: block;width: 100%;margin-bottom: 0;padding: 0.3em;box-sizing: border-box;text-align: center;}#sk-container-id-2 label.sk-toggleable__label-arrow:before {content: \"▸\";float: left;margin-right: 0.25em;color: #696969;}#sk-container-id-2 label.sk-toggleable__label-arrow:hover:before {color: black;}#sk-container-id-2 div.sk-estimator:hover label.sk-toggleable__label-arrow:before {color: black;}#sk-container-id-2 div.sk-toggleable__content {max-height: 0;max-width: 0;overflow: hidden;text-align: left;background-color: #f0f8ff;}#sk-container-id-2 div.sk-toggleable__content pre {margin: 0.2em;color: black;border-radius: 0.25em;background-color: #f0f8ff;}#sk-container-id-2 input.sk-toggleable__control:checked~div.sk-toggleable__content {max-height: 200px;max-width: 100%;overflow: auto;}#sk-container-id-2 input.sk-toggleable__control:checked~label.sk-toggleable__label-arrow:before {content: \"▾\";}#sk-container-id-2 div.sk-estimator input.sk-toggleable__control:checked~label.sk-toggleable__label {background-color: #d4ebff;}#sk-container-id-2 div.sk-label input.sk-toggleable__control:checked~label.sk-toggleable__label {background-color: #d4ebff;}#sk-container-id-2 input.sk-hidden--visually {border: 0;clip: rect(1px 1px 1px 1px);clip: rect(1px, 1px, 1px, 1px);height: 1px;margin: -1px;overflow: hidden;padding: 0;position: absolute;width: 1px;}#sk-container-id-2 div.sk-estimator {font-family: monospace;background-color: #f0f8ff;border: 1px dotted black;border-radius: 0.25em;box-sizing: border-box;margin-bottom: 0.5em;}#sk-container-id-2 div.sk-estimator:hover {background-color: #d4ebff;}#sk-container-id-2 div.sk-parallel-item::after {content: \"\";width: 100%;border-bottom: 1px solid gray;flex-grow: 1;}#sk-container-id-2 div.sk-label:hover label.sk-toggleable__label {background-color: #d4ebff;}#sk-container-id-2 div.sk-serial::before {content: \"\";position: absolute;border-left: 1px solid gray;box-sizing: border-box;top: 0;bottom: 0;left: 50%;z-index: 0;}#sk-container-id-2 div.sk-serial {display: flex;flex-direction: column;align-items: center;background-color: white;padding-right: 0.2em;padding-left: 0.2em;position: relative;}#sk-container-id-2 div.sk-item {position: relative;z-index: 1;}#sk-container-id-2 div.sk-parallel {display: flex;align-items: stretch;justify-content: center;background-color: white;position: relative;}#sk-container-id-2 div.sk-item::before, #sk-container-id-2 div.sk-parallel-item::before {content: \"\";position: absolute;border-left: 1px solid gray;box-sizing: border-box;top: 0;bottom: 0;left: 50%;z-index: -1;}#sk-container-id-2 div.sk-parallel-item {display: flex;flex-direction: column;z-index: 1;position: relative;background-color: white;}#sk-container-id-2 div.sk-parallel-item:first-child::after {align-self: flex-end;width: 50%;}#sk-container-id-2 div.sk-parallel-item:last-child::after {align-self: flex-start;width: 50%;}#sk-container-id-2 div.sk-parallel-item:only-child::after {width: 0;}#sk-container-id-2 div.sk-dashed-wrapped {border: 1px dashed gray;margin: 0 0.4em 0.5em 0.4em;box-sizing: border-box;padding-bottom: 0.4em;background-color: white;}#sk-container-id-2 div.sk-label label {font-family: monospace;font-weight: bold;display: inline-block;line-height: 1.2em;}#sk-container-id-2 div.sk-label-container {text-align: center;}#sk-container-id-2 div.sk-container {/* jupyter's `normalize.less` sets `[hidden] { display: none; }` but bootstrap.min.css set `[hidden] { display: none !important; }` so we also need the `!important` here to be able to override the default hidden behavior on the sphinx rendered scikit-learn.org. See: https://github.com/scikit-learn/scikit-learn/issues/21755 */display: inline-block !important;position: relative;}#sk-container-id-2 div.sk-text-repr-fallback {display: none;}</style><div id=\"sk-container-id-2\" class=\"sk-top-container\"><div class=\"sk-text-repr-fallback\"><pre>MinMaxScaler()</pre><b>In a Jupyter environment, please rerun this cell to show the HTML representation or trust the notebook. <br />On GitHub, the HTML representation is unable to render, please try loading this page with nbviewer.org.</b></div><div class=\"sk-container\" hidden><div class=\"sk-item\"><div class=\"sk-estimator sk-toggleable\"><input class=\"sk-toggleable__control sk-hidden--visually\" id=\"sk-estimator-id-2\" type=\"checkbox\" checked><label for=\"sk-estimator-id-2\" class=\"sk-toggleable__label sk-toggleable__label-arrow\">MinMaxScaler</label><div class=\"sk-toggleable__content\"><pre>MinMaxScaler()</pre></div></div></div></div></div>"
            ]
          },
          "metadata": {},
          "execution_count": 43
        }
      ]
    },
    {
      "cell_type": "code",
      "source": [
        "X_train_scaled = np.copy(X_train)\n",
        "X_test_scaled = np.copy(X_test)"
      ],
      "metadata": {
        "id": "HWFHLzN-BHbN"
      },
      "execution_count": null,
      "outputs": []
    },
    {
      "cell_type": "code",
      "source": [
        "X_train_scaled[:,2] = scaler_age.transform(X_train[:,2].reshape(-1,1)).reshape(-1)\n",
        "X_test_scaled[:,2] = scaler_age.transform(X_test[:,2].reshape(-1,1)).reshape(-1)"
      ],
      "metadata": {
        "id": "-wp2witjBHd8"
      },
      "execution_count": null,
      "outputs": []
    },
    {
      "cell_type": "code",
      "source": [
        "ai_brain = Sequential([\n",
        "  Dense(units = 8, input_shape=[8]),\n",
        "  Dense(units =16, activation='relu'),\n",
        "\n",
        "  Dense(units =4, activation ='softmax')\n",
        "])\n"
      ],
      "metadata": {
        "id": "9tA3O8jbBHhA"
      },
      "execution_count": null,
      "outputs": []
    },
    {
      "cell_type": "code",
      "source": [
        "ai_brain.compile(optimizer='adam',\n",
        "                 loss='categorical_crossentropy',\n",
        "                 metrics=['accuracy'])"
      ],
      "metadata": {
        "id": "EFbi6xfEBZWX"
      },
      "execution_count": null,
      "outputs": []
    },
    {
      "cell_type": "code",
      "source": [
        "ai_brain.fit(x=X_train_scaled,y=y_train,\n",
        "             epochs=500,batch_size=256,\n",
        "             validation_data=(X_test_scaled,y_test),\n",
        "             )"
      ],
      "metadata": {
        "colab": {
          "base_uri": "https://localhost:8080/"
        },
        "id": "KulyeqS0BZZz",
        "outputId": "8cf36f74-43e1-4842-d5fb-88ae92c62412"
      },
      "execution_count": null,
      "outputs": [
        {
          "output_type": "stream",
          "name": "stdout",
          "text": [
            "Epoch 1/500\n",
            "24/24 [==============================] - 1s 14ms/step - loss: 2.0046 - accuracy: 0.2414 - val_loss: 1.6669 - val_accuracy: 0.2521\n",
            "Epoch 2/500\n",
            "24/24 [==============================] - 0s 4ms/step - loss: 1.5926 - accuracy: 0.2613 - val_loss: 1.4353 - val_accuracy: 0.3095\n",
            "Epoch 3/500\n",
            "24/24 [==============================] - 0s 5ms/step - loss: 1.3903 - accuracy: 0.3301 - val_loss: 1.3458 - val_accuracy: 0.3590\n",
            "Epoch 4/500\n",
            "24/24 [==============================] - 0s 4ms/step - loss: 1.3319 - accuracy: 0.3732 - val_loss: 1.3283 - val_accuracy: 0.3734\n",
            "Epoch 5/500\n",
            "24/24 [==============================] - 0s 4ms/step - loss: 1.3141 - accuracy: 0.3940 - val_loss: 1.3177 - val_accuracy: 0.3899\n",
            "Epoch 6/500\n",
            "24/24 [==============================] - 0s 4ms/step - loss: 1.3044 - accuracy: 0.3952 - val_loss: 1.3111 - val_accuracy: 0.3940\n",
            "Epoch 7/500\n",
            "24/24 [==============================] - 0s 4ms/step - loss: 1.2967 - accuracy: 0.4045 - val_loss: 1.3055 - val_accuracy: 0.3913\n",
            "Epoch 8/500\n",
            "24/24 [==============================] - 0s 4ms/step - loss: 1.2915 - accuracy: 0.4039 - val_loss: 1.3010 - val_accuracy: 0.3933\n",
            "Epoch 9/500\n",
            "24/24 [==============================] - 0s 5ms/step - loss: 1.2858 - accuracy: 0.4059 - val_loss: 1.2994 - val_accuracy: 0.3957\n",
            "Epoch 10/500\n",
            "24/24 [==============================] - 0s 4ms/step - loss: 1.2836 - accuracy: 0.4105 - val_loss: 1.2962 - val_accuracy: 0.3981\n",
            "Epoch 11/500\n",
            "24/24 [==============================] - 0s 4ms/step - loss: 1.2787 - accuracy: 0.4071 - val_loss: 1.2938 - val_accuracy: 0.3975\n",
            "Epoch 12/500\n",
            "24/24 [==============================] - 0s 4ms/step - loss: 1.2768 - accuracy: 0.4083 - val_loss: 1.2924 - val_accuracy: 0.3992\n",
            "Epoch 13/500\n",
            "24/24 [==============================] - 0s 4ms/step - loss: 1.2740 - accuracy: 0.4110 - val_loss: 1.2898 - val_accuracy: 0.3971\n",
            "Epoch 14/500\n",
            "24/24 [==============================] - 0s 4ms/step - loss: 1.2722 - accuracy: 0.4116 - val_loss: 1.2869 - val_accuracy: 0.4074\n",
            "Epoch 15/500\n",
            "24/24 [==============================] - 0s 4ms/step - loss: 1.2700 - accuracy: 0.4094 - val_loss: 1.2874 - val_accuracy: 0.3999\n",
            "Epoch 16/500\n",
            "24/24 [==============================] - 0s 4ms/step - loss: 1.2685 - accuracy: 0.4083 - val_loss: 1.2837 - val_accuracy: 0.4102\n",
            "Epoch 17/500\n",
            "24/24 [==============================] - 0s 4ms/step - loss: 1.2668 - accuracy: 0.4122 - val_loss: 1.2837 - val_accuracy: 0.4078\n",
            "Epoch 18/500\n",
            "24/24 [==============================] - 0s 4ms/step - loss: 1.2657 - accuracy: 0.4184 - val_loss: 1.2806 - val_accuracy: 0.4133\n",
            "Epoch 19/500\n",
            "24/24 [==============================] - 0s 4ms/step - loss: 1.2632 - accuracy: 0.4177 - val_loss: 1.2820 - val_accuracy: 0.4098\n",
            "Epoch 20/500\n",
            "24/24 [==============================] - 0s 4ms/step - loss: 1.2641 - accuracy: 0.4150 - val_loss: 1.2786 - val_accuracy: 0.4146\n",
            "Epoch 21/500\n",
            "24/24 [==============================] - 0s 4ms/step - loss: 1.2606 - accuracy: 0.4196 - val_loss: 1.2790 - val_accuracy: 0.4136\n",
            "Epoch 22/500\n",
            "24/24 [==============================] - 0s 4ms/step - loss: 1.2600 - accuracy: 0.4194 - val_loss: 1.2762 - val_accuracy: 0.4174\n",
            "Epoch 23/500\n",
            "24/24 [==============================] - 0s 4ms/step - loss: 1.2583 - accuracy: 0.4216 - val_loss: 1.2757 - val_accuracy: 0.4164\n",
            "Epoch 24/500\n",
            "24/24 [==============================] - 0s 4ms/step - loss: 1.2575 - accuracy: 0.4232 - val_loss: 1.2736 - val_accuracy: 0.4164\n",
            "Epoch 25/500\n",
            "24/24 [==============================] - 0s 3ms/step - loss: 1.2556 - accuracy: 0.4303 - val_loss: 1.2729 - val_accuracy: 0.4222\n",
            "Epoch 26/500\n",
            "24/24 [==============================] - 0s 4ms/step - loss: 1.2542 - accuracy: 0.4284 - val_loss: 1.2716 - val_accuracy: 0.4222\n",
            "Epoch 27/500\n",
            "24/24 [==============================] - 0s 4ms/step - loss: 1.2536 - accuracy: 0.4314 - val_loss: 1.2710 - val_accuracy: 0.4170\n",
            "Epoch 28/500\n",
            "24/24 [==============================] - 0s 6ms/step - loss: 1.2530 - accuracy: 0.4262 - val_loss: 1.2710 - val_accuracy: 0.4205\n",
            "Epoch 29/500\n",
            "24/24 [==============================] - 0s 4ms/step - loss: 1.2518 - accuracy: 0.4306 - val_loss: 1.2686 - val_accuracy: 0.4239\n",
            "Epoch 30/500\n",
            "24/24 [==============================] - 0s 4ms/step - loss: 1.2510 - accuracy: 0.4276 - val_loss: 1.2682 - val_accuracy: 0.4232\n",
            "Epoch 31/500\n",
            "24/24 [==============================] - 0s 4ms/step - loss: 1.2490 - accuracy: 0.4259 - val_loss: 1.2683 - val_accuracy: 0.4191\n",
            "Epoch 32/500\n",
            "24/24 [==============================] - 0s 4ms/step - loss: 1.2489 - accuracy: 0.4350 - val_loss: 1.2670 - val_accuracy: 0.4243\n",
            "Epoch 33/500\n",
            "24/24 [==============================] - 0s 4ms/step - loss: 1.2488 - accuracy: 0.4269 - val_loss: 1.2653 - val_accuracy: 0.4249\n",
            "Epoch 34/500\n",
            "24/24 [==============================] - 0s 4ms/step - loss: 1.2460 - accuracy: 0.4353 - val_loss: 1.2653 - val_accuracy: 0.4215\n",
            "Epoch 35/500\n",
            "24/24 [==============================] - 0s 4ms/step - loss: 1.2467 - accuracy: 0.4301 - val_loss: 1.2627 - val_accuracy: 0.4315\n",
            "Epoch 36/500\n",
            "24/24 [==============================] - 0s 4ms/step - loss: 1.2446 - accuracy: 0.4358 - val_loss: 1.2620 - val_accuracy: 0.4256\n",
            "Epoch 37/500\n",
            "24/24 [==============================] - 0s 4ms/step - loss: 1.2439 - accuracy: 0.4382 - val_loss: 1.2620 - val_accuracy: 0.4267\n",
            "Epoch 38/500\n",
            "24/24 [==============================] - 0s 4ms/step - loss: 1.2432 - accuracy: 0.4338 - val_loss: 1.2613 - val_accuracy: 0.4205\n",
            "Epoch 39/500\n",
            "24/24 [==============================] - 0s 4ms/step - loss: 1.2419 - accuracy: 0.4377 - val_loss: 1.2596 - val_accuracy: 0.4294\n",
            "Epoch 40/500\n",
            "24/24 [==============================] - 0s 4ms/step - loss: 1.2424 - accuracy: 0.4423 - val_loss: 1.2602 - val_accuracy: 0.4277\n",
            "Epoch 41/500\n",
            "24/24 [==============================] - 0s 4ms/step - loss: 1.2412 - accuracy: 0.4347 - val_loss: 1.2600 - val_accuracy: 0.4232\n",
            "Epoch 42/500\n",
            "24/24 [==============================] - 0s 4ms/step - loss: 1.2412 - accuracy: 0.4401 - val_loss: 1.2590 - val_accuracy: 0.4284\n",
            "Epoch 43/500\n",
            "24/24 [==============================] - 0s 4ms/step - loss: 1.2407 - accuracy: 0.4382 - val_loss: 1.2587 - val_accuracy: 0.4243\n",
            "Epoch 44/500\n",
            "24/24 [==============================] - 0s 4ms/step - loss: 1.2397 - accuracy: 0.4370 - val_loss: 1.2581 - val_accuracy: 0.4249\n",
            "Epoch 45/500\n",
            "24/24 [==============================] - 0s 4ms/step - loss: 1.2385 - accuracy: 0.4430 - val_loss: 1.2576 - val_accuracy: 0.4270\n",
            "Epoch 46/500\n",
            "24/24 [==============================] - 0s 4ms/step - loss: 1.2374 - accuracy: 0.4370 - val_loss: 1.2562 - val_accuracy: 0.4291\n",
            "Epoch 47/500\n",
            "24/24 [==============================] - 0s 4ms/step - loss: 1.2367 - accuracy: 0.4379 - val_loss: 1.2568 - val_accuracy: 0.4246\n",
            "Epoch 48/500\n",
            "24/24 [==============================] - 0s 4ms/step - loss: 1.2362 - accuracy: 0.4348 - val_loss: 1.2561 - val_accuracy: 0.4325\n",
            "Epoch 49/500\n",
            "24/24 [==============================] - 0s 4ms/step - loss: 1.2364 - accuracy: 0.4419 - val_loss: 1.2553 - val_accuracy: 0.4301\n",
            "Epoch 50/500\n",
            "24/24 [==============================] - 0s 4ms/step - loss: 1.2354 - accuracy: 0.4396 - val_loss: 1.2548 - val_accuracy: 0.4270\n",
            "Epoch 51/500\n",
            "24/24 [==============================] - 0s 3ms/step - loss: 1.2355 - accuracy: 0.4377 - val_loss: 1.2538 - val_accuracy: 0.4291\n",
            "Epoch 52/500\n",
            "24/24 [==============================] - 0s 4ms/step - loss: 1.2339 - accuracy: 0.4387 - val_loss: 1.2528 - val_accuracy: 0.4284\n",
            "Epoch 53/500\n",
            "24/24 [==============================] - 0s 5ms/step - loss: 1.2332 - accuracy: 0.4418 - val_loss: 1.2540 - val_accuracy: 0.4325\n",
            "Epoch 54/500\n",
            "24/24 [==============================] - 0s 4ms/step - loss: 1.2334 - accuracy: 0.4414 - val_loss: 1.2524 - val_accuracy: 0.4270\n",
            "Epoch 55/500\n",
            "24/24 [==============================] - 0s 4ms/step - loss: 1.2324 - accuracy: 0.4377 - val_loss: 1.2528 - val_accuracy: 0.4328\n",
            "Epoch 56/500\n",
            "24/24 [==============================] - 0s 4ms/step - loss: 1.2320 - accuracy: 0.4453 - val_loss: 1.2511 - val_accuracy: 0.4325\n",
            "Epoch 57/500\n",
            "24/24 [==============================] - 0s 4ms/step - loss: 1.2309 - accuracy: 0.4438 - val_loss: 1.2511 - val_accuracy: 0.4325\n",
            "Epoch 58/500\n",
            "24/24 [==============================] - 0s 6ms/step - loss: 1.2320 - accuracy: 0.4409 - val_loss: 1.2508 - val_accuracy: 0.4377\n",
            "Epoch 59/500\n",
            "24/24 [==============================] - 0s 4ms/step - loss: 1.2310 - accuracy: 0.4475 - val_loss: 1.2515 - val_accuracy: 0.4253\n",
            "Epoch 60/500\n",
            "24/24 [==============================] - 0s 4ms/step - loss: 1.2314 - accuracy: 0.4318 - val_loss: 1.2507 - val_accuracy: 0.4373\n",
            "Epoch 61/500\n",
            "24/24 [==============================] - 0s 3ms/step - loss: 1.2306 - accuracy: 0.4448 - val_loss: 1.2488 - val_accuracy: 0.4291\n",
            "Epoch 62/500\n",
            "24/24 [==============================] - 0s 3ms/step - loss: 1.2299 - accuracy: 0.4419 - val_loss: 1.2489 - val_accuracy: 0.4328\n",
            "Epoch 63/500\n",
            "24/24 [==============================] - 0s 4ms/step - loss: 1.2287 - accuracy: 0.4443 - val_loss: 1.2491 - val_accuracy: 0.4332\n",
            "Epoch 64/500\n",
            "24/24 [==============================] - 0s 4ms/step - loss: 1.2287 - accuracy: 0.4475 - val_loss: 1.2483 - val_accuracy: 0.4335\n",
            "Epoch 65/500\n",
            "24/24 [==============================] - 0s 4ms/step - loss: 1.2283 - accuracy: 0.4474 - val_loss: 1.2477 - val_accuracy: 0.4260\n",
            "Epoch 66/500\n",
            "24/24 [==============================] - 0s 4ms/step - loss: 1.2275 - accuracy: 0.4419 - val_loss: 1.2491 - val_accuracy: 0.4328\n",
            "Epoch 67/500\n",
            "24/24 [==============================] - 0s 4ms/step - loss: 1.2294 - accuracy: 0.4472 - val_loss: 1.2487 - val_accuracy: 0.4284\n",
            "Epoch 68/500\n",
            "24/24 [==============================] - 0s 4ms/step - loss: 1.2271 - accuracy: 0.4463 - val_loss: 1.2472 - val_accuracy: 0.4335\n",
            "Epoch 69/500\n",
            "24/24 [==============================] - 0s 6ms/step - loss: 1.2268 - accuracy: 0.4479 - val_loss: 1.2475 - val_accuracy: 0.4339\n",
            "Epoch 70/500\n",
            "24/24 [==============================] - 0s 6ms/step - loss: 1.2262 - accuracy: 0.4487 - val_loss: 1.2473 - val_accuracy: 0.4304\n",
            "Epoch 71/500\n",
            "24/24 [==============================] - 0s 7ms/step - loss: 1.2267 - accuracy: 0.4465 - val_loss: 1.2467 - val_accuracy: 0.4280\n",
            "Epoch 72/500\n",
            "24/24 [==============================] - 0s 6ms/step - loss: 1.2261 - accuracy: 0.4462 - val_loss: 1.2477 - val_accuracy: 0.4328\n",
            "Epoch 73/500\n",
            "24/24 [==============================] - 0s 5ms/step - loss: 1.2267 - accuracy: 0.4463 - val_loss: 1.2489 - val_accuracy: 0.4311\n",
            "Epoch 74/500\n",
            "24/24 [==============================] - 0s 6ms/step - loss: 1.2252 - accuracy: 0.4502 - val_loss: 1.2461 - val_accuracy: 0.4346\n",
            "Epoch 75/500\n",
            "24/24 [==============================] - 0s 6ms/step - loss: 1.2249 - accuracy: 0.4475 - val_loss: 1.2454 - val_accuracy: 0.4332\n",
            "Epoch 76/500\n",
            "24/24 [==============================] - 0s 6ms/step - loss: 1.2244 - accuracy: 0.4506 - val_loss: 1.2455 - val_accuracy: 0.4352\n",
            "Epoch 77/500\n",
            "24/24 [==============================] - 0s 6ms/step - loss: 1.2247 - accuracy: 0.4519 - val_loss: 1.2456 - val_accuracy: 0.4311\n",
            "Epoch 78/500\n",
            "24/24 [==============================] - 0s 6ms/step - loss: 1.2241 - accuracy: 0.4496 - val_loss: 1.2455 - val_accuracy: 0.4328\n",
            "Epoch 79/500\n",
            "24/24 [==============================] - 0s 6ms/step - loss: 1.2233 - accuracy: 0.4497 - val_loss: 1.2444 - val_accuracy: 0.4318\n",
            "Epoch 80/500\n",
            "24/24 [==============================] - 0s 6ms/step - loss: 1.2236 - accuracy: 0.4470 - val_loss: 1.2461 - val_accuracy: 0.4325\n",
            "Epoch 81/500\n",
            "24/24 [==============================] - 0s 6ms/step - loss: 1.2227 - accuracy: 0.4499 - val_loss: 1.2442 - val_accuracy: 0.4297\n",
            "Epoch 82/500\n",
            "24/24 [==============================] - 0s 7ms/step - loss: 1.2232 - accuracy: 0.4489 - val_loss: 1.2451 - val_accuracy: 0.4328\n",
            "Epoch 83/500\n",
            "24/24 [==============================] - 0s 6ms/step - loss: 1.2223 - accuracy: 0.4497 - val_loss: 1.2435 - val_accuracy: 0.4318\n",
            "Epoch 84/500\n",
            "24/24 [==============================] - 0s 6ms/step - loss: 1.2217 - accuracy: 0.4477 - val_loss: 1.2436 - val_accuracy: 0.4328\n",
            "Epoch 85/500\n",
            "24/24 [==============================] - 0s 7ms/step - loss: 1.2214 - accuracy: 0.4487 - val_loss: 1.2430 - val_accuracy: 0.4308\n",
            "Epoch 86/500\n",
            "24/24 [==============================] - 0s 8ms/step - loss: 1.2219 - accuracy: 0.4516 - val_loss: 1.2429 - val_accuracy: 0.4318\n",
            "Epoch 87/500\n",
            "24/24 [==============================] - 0s 8ms/step - loss: 1.2204 - accuracy: 0.4523 - val_loss: 1.2452 - val_accuracy: 0.4315\n",
            "Epoch 88/500\n",
            "24/24 [==============================] - 0s 4ms/step - loss: 1.2210 - accuracy: 0.4497 - val_loss: 1.2425 - val_accuracy: 0.4332\n",
            "Epoch 89/500\n",
            "24/24 [==============================] - 0s 5ms/step - loss: 1.2199 - accuracy: 0.4550 - val_loss: 1.2417 - val_accuracy: 0.4342\n",
            "Epoch 90/500\n",
            "24/24 [==============================] - 0s 4ms/step - loss: 1.2211 - accuracy: 0.4499 - val_loss: 1.2425 - val_accuracy: 0.4359\n",
            "Epoch 91/500\n",
            "24/24 [==============================] - 0s 4ms/step - loss: 1.2192 - accuracy: 0.4523 - val_loss: 1.2417 - val_accuracy: 0.4342\n",
            "Epoch 92/500\n",
            "24/24 [==============================] - 0s 4ms/step - loss: 1.2192 - accuracy: 0.4550 - val_loss: 1.2408 - val_accuracy: 0.4332\n",
            "Epoch 93/500\n",
            "24/24 [==============================] - 0s 4ms/step - loss: 1.2192 - accuracy: 0.4485 - val_loss: 1.2410 - val_accuracy: 0.4349\n",
            "Epoch 94/500\n",
            "24/24 [==============================] - 0s 6ms/step - loss: 1.2187 - accuracy: 0.4529 - val_loss: 1.2454 - val_accuracy: 0.4346\n",
            "Epoch 95/500\n",
            "24/24 [==============================] - 0s 4ms/step - loss: 1.2190 - accuracy: 0.4541 - val_loss: 1.2405 - val_accuracy: 0.4342\n",
            "Epoch 96/500\n",
            "24/24 [==============================] - 0s 4ms/step - loss: 1.2189 - accuracy: 0.4509 - val_loss: 1.2391 - val_accuracy: 0.4377\n",
            "Epoch 97/500\n",
            "24/24 [==============================] - 0s 4ms/step - loss: 1.2190 - accuracy: 0.4479 - val_loss: 1.2398 - val_accuracy: 0.4377\n",
            "Epoch 98/500\n",
            "24/24 [==============================] - 0s 4ms/step - loss: 1.2182 - accuracy: 0.4501 - val_loss: 1.2393 - val_accuracy: 0.4356\n",
            "Epoch 99/500\n",
            "24/24 [==============================] - 0s 4ms/step - loss: 1.2166 - accuracy: 0.4533 - val_loss: 1.2392 - val_accuracy: 0.4377\n",
            "Epoch 100/500\n",
            "24/24 [==============================] - 0s 4ms/step - loss: 1.2161 - accuracy: 0.4514 - val_loss: 1.2383 - val_accuracy: 0.4397\n",
            "Epoch 101/500\n",
            "24/24 [==============================] - 0s 4ms/step - loss: 1.2164 - accuracy: 0.4536 - val_loss: 1.2378 - val_accuracy: 0.4373\n",
            "Epoch 102/500\n",
            "24/24 [==============================] - 0s 4ms/step - loss: 1.2156 - accuracy: 0.4545 - val_loss: 1.2384 - val_accuracy: 0.4363\n",
            "Epoch 103/500\n",
            "24/24 [==============================] - 0s 4ms/step - loss: 1.2178 - accuracy: 0.4507 - val_loss: 1.2366 - val_accuracy: 0.4387\n",
            "Epoch 104/500\n",
            "24/24 [==============================] - 0s 4ms/step - loss: 1.2158 - accuracy: 0.4572 - val_loss: 1.2375 - val_accuracy: 0.4346\n",
            "Epoch 105/500\n",
            "24/24 [==============================] - 0s 4ms/step - loss: 1.2148 - accuracy: 0.4501 - val_loss: 1.2368 - val_accuracy: 0.4335\n",
            "Epoch 106/500\n",
            "24/24 [==============================] - 0s 4ms/step - loss: 1.2139 - accuracy: 0.4548 - val_loss: 1.2367 - val_accuracy: 0.4359\n",
            "Epoch 107/500\n",
            "24/24 [==============================] - 0s 4ms/step - loss: 1.2144 - accuracy: 0.4507 - val_loss: 1.2385 - val_accuracy: 0.4352\n",
            "Epoch 108/500\n",
            "24/24 [==============================] - 0s 4ms/step - loss: 1.2140 - accuracy: 0.4519 - val_loss: 1.2353 - val_accuracy: 0.4390\n",
            "Epoch 109/500\n",
            "24/24 [==============================] - 0s 4ms/step - loss: 1.2132 - accuracy: 0.4562 - val_loss: 1.2346 - val_accuracy: 0.4383\n",
            "Epoch 110/500\n",
            "24/24 [==============================] - 0s 4ms/step - loss: 1.2119 - accuracy: 0.4555 - val_loss: 1.2340 - val_accuracy: 0.4397\n",
            "Epoch 111/500\n",
            "24/24 [==============================] - 0s 4ms/step - loss: 1.2122 - accuracy: 0.4545 - val_loss: 1.2344 - val_accuracy: 0.4377\n",
            "Epoch 112/500\n",
            "24/24 [==============================] - 0s 4ms/step - loss: 1.2119 - accuracy: 0.4558 - val_loss: 1.2333 - val_accuracy: 0.4394\n",
            "Epoch 113/500\n",
            "24/24 [==============================] - 0s 4ms/step - loss: 1.2115 - accuracy: 0.4550 - val_loss: 1.2340 - val_accuracy: 0.4380\n",
            "Epoch 114/500\n",
            "24/24 [==============================] - 0s 4ms/step - loss: 1.2116 - accuracy: 0.4555 - val_loss: 1.2341 - val_accuracy: 0.4401\n",
            "Epoch 115/500\n",
            "24/24 [==============================] - 0s 4ms/step - loss: 1.2107 - accuracy: 0.4563 - val_loss: 1.2326 - val_accuracy: 0.4359\n",
            "Epoch 116/500\n",
            "24/24 [==============================] - 0s 4ms/step - loss: 1.2098 - accuracy: 0.4538 - val_loss: 1.2334 - val_accuracy: 0.4397\n",
            "Epoch 117/500\n",
            "24/24 [==============================] - 0s 4ms/step - loss: 1.2092 - accuracy: 0.4560 - val_loss: 1.2335 - val_accuracy: 0.4411\n",
            "Epoch 118/500\n",
            "24/24 [==============================] - 0s 4ms/step - loss: 1.2094 - accuracy: 0.4568 - val_loss: 1.2329 - val_accuracy: 0.4421\n",
            "Epoch 119/500\n",
            "24/24 [==============================] - 0s 4ms/step - loss: 1.2094 - accuracy: 0.4560 - val_loss: 1.2331 - val_accuracy: 0.4411\n",
            "Epoch 120/500\n",
            "24/24 [==============================] - 0s 4ms/step - loss: 1.2093 - accuracy: 0.4575 - val_loss: 1.2323 - val_accuracy: 0.4411\n",
            "Epoch 121/500\n",
            "24/24 [==============================] - 0s 4ms/step - loss: 1.2090 - accuracy: 0.4562 - val_loss: 1.2311 - val_accuracy: 0.4397\n",
            "Epoch 122/500\n",
            "24/24 [==============================] - 0s 4ms/step - loss: 1.2088 - accuracy: 0.4577 - val_loss: 1.2319 - val_accuracy: 0.4404\n",
            "Epoch 123/500\n",
            "24/24 [==============================] - 0s 4ms/step - loss: 1.2079 - accuracy: 0.4563 - val_loss: 1.2319 - val_accuracy: 0.4390\n",
            "Epoch 124/500\n",
            "24/24 [==============================] - 0s 5ms/step - loss: 1.2082 - accuracy: 0.4545 - val_loss: 1.2308 - val_accuracy: 0.4394\n",
            "Epoch 125/500\n",
            "24/24 [==============================] - 0s 4ms/step - loss: 1.2085 - accuracy: 0.4524 - val_loss: 1.2318 - val_accuracy: 0.4390\n",
            "Epoch 126/500\n",
            "24/24 [==============================] - 0s 4ms/step - loss: 1.2076 - accuracy: 0.4568 - val_loss: 1.2315 - val_accuracy: 0.4387\n",
            "Epoch 127/500\n",
            "24/24 [==============================] - 0s 4ms/step - loss: 1.2078 - accuracy: 0.4567 - val_loss: 1.2303 - val_accuracy: 0.4380\n",
            "Epoch 128/500\n",
            "24/24 [==============================] - 0s 4ms/step - loss: 1.2077 - accuracy: 0.4545 - val_loss: 1.2314 - val_accuracy: 0.4397\n",
            "Epoch 129/500\n",
            "24/24 [==============================] - 0s 4ms/step - loss: 1.2066 - accuracy: 0.4553 - val_loss: 1.2301 - val_accuracy: 0.4383\n",
            "Epoch 130/500\n",
            "24/24 [==============================] - 0s 4ms/step - loss: 1.2067 - accuracy: 0.4538 - val_loss: 1.2296 - val_accuracy: 0.4397\n",
            "Epoch 131/500\n",
            "24/24 [==============================] - 0s 4ms/step - loss: 1.2056 - accuracy: 0.4577 - val_loss: 1.2287 - val_accuracy: 0.4411\n",
            "Epoch 132/500\n",
            "24/24 [==============================] - 0s 4ms/step - loss: 1.2061 - accuracy: 0.4585 - val_loss: 1.2282 - val_accuracy: 0.4418\n",
            "Epoch 133/500\n",
            "24/24 [==============================] - 0s 6ms/step - loss: 1.2060 - accuracy: 0.4602 - val_loss: 1.2289 - val_accuracy: 0.4404\n",
            "Epoch 134/500\n",
            "24/24 [==============================] - 0s 4ms/step - loss: 1.2068 - accuracy: 0.4633 - val_loss: 1.2286 - val_accuracy: 0.4425\n",
            "Epoch 135/500\n",
            "24/24 [==============================] - 0s 4ms/step - loss: 1.2050 - accuracy: 0.4590 - val_loss: 1.2295 - val_accuracy: 0.4380\n",
            "Epoch 136/500\n",
            "24/24 [==============================] - 0s 4ms/step - loss: 1.2042 - accuracy: 0.4575 - val_loss: 1.2300 - val_accuracy: 0.4411\n",
            "Epoch 137/500\n",
            "24/24 [==============================] - 0s 4ms/step - loss: 1.2041 - accuracy: 0.4560 - val_loss: 1.2288 - val_accuracy: 0.4438\n",
            "Epoch 138/500\n",
            "24/24 [==============================] - 0s 4ms/step - loss: 1.2035 - accuracy: 0.4619 - val_loss: 1.2292 - val_accuracy: 0.4421\n",
            "Epoch 139/500\n",
            "24/24 [==============================] - 0s 4ms/step - loss: 1.2055 - accuracy: 0.4535 - val_loss: 1.2289 - val_accuracy: 0.4425\n",
            "Epoch 140/500\n",
            "24/24 [==============================] - 0s 4ms/step - loss: 1.2055 - accuracy: 0.4567 - val_loss: 1.2282 - val_accuracy: 0.4397\n",
            "Epoch 141/500\n",
            "24/24 [==============================] - 0s 4ms/step - loss: 1.2064 - accuracy: 0.4543 - val_loss: 1.2273 - val_accuracy: 0.4414\n",
            "Epoch 142/500\n",
            "24/24 [==============================] - 0s 5ms/step - loss: 1.2043 - accuracy: 0.4557 - val_loss: 1.2263 - val_accuracy: 0.4397\n",
            "Epoch 143/500\n",
            "24/24 [==============================] - 0s 4ms/step - loss: 1.2037 - accuracy: 0.4589 - val_loss: 1.2298 - val_accuracy: 0.4404\n",
            "Epoch 144/500\n",
            "24/24 [==============================] - 0s 4ms/step - loss: 1.2025 - accuracy: 0.4623 - val_loss: 1.2267 - val_accuracy: 0.4414\n",
            "Epoch 145/500\n",
            "24/24 [==============================] - 0s 4ms/step - loss: 1.2023 - accuracy: 0.4616 - val_loss: 1.2275 - val_accuracy: 0.4428\n",
            "Epoch 146/500\n",
            "24/24 [==============================] - 0s 4ms/step - loss: 1.2041 - accuracy: 0.4589 - val_loss: 1.2258 - val_accuracy: 0.4452\n",
            "Epoch 147/500\n",
            "24/24 [==============================] - 0s 4ms/step - loss: 1.2016 - accuracy: 0.4638 - val_loss: 1.2255 - val_accuracy: 0.4421\n",
            "Epoch 148/500\n",
            "24/24 [==============================] - 0s 4ms/step - loss: 1.2016 - accuracy: 0.4606 - val_loss: 1.2270 - val_accuracy: 0.4418\n",
            "Epoch 149/500\n",
            "24/24 [==============================] - 0s 4ms/step - loss: 1.2009 - accuracy: 0.4606 - val_loss: 1.2251 - val_accuracy: 0.4425\n",
            "Epoch 150/500\n",
            "24/24 [==============================] - 0s 4ms/step - loss: 1.2005 - accuracy: 0.4611 - val_loss: 1.2271 - val_accuracy: 0.4421\n",
            "Epoch 151/500\n",
            "24/24 [==============================] - 0s 6ms/step - loss: 1.2006 - accuracy: 0.4665 - val_loss: 1.2247 - val_accuracy: 0.4469\n",
            "Epoch 152/500\n",
            "24/24 [==============================] - 0s 4ms/step - loss: 1.2004 - accuracy: 0.4636 - val_loss: 1.2247 - val_accuracy: 0.4469\n",
            "Epoch 153/500\n",
            "24/24 [==============================] - 0s 4ms/step - loss: 1.1999 - accuracy: 0.4641 - val_loss: 1.2262 - val_accuracy: 0.4401\n",
            "Epoch 154/500\n",
            "24/24 [==============================] - 0s 4ms/step - loss: 1.1998 - accuracy: 0.4673 - val_loss: 1.2234 - val_accuracy: 0.4425\n",
            "Epoch 155/500\n",
            "24/24 [==============================] - 0s 4ms/step - loss: 1.1995 - accuracy: 0.4653 - val_loss: 1.2231 - val_accuracy: 0.4442\n",
            "Epoch 156/500\n",
            "24/24 [==============================] - 0s 4ms/step - loss: 1.1994 - accuracy: 0.4633 - val_loss: 1.2240 - val_accuracy: 0.4449\n",
            "Epoch 157/500\n",
            "24/24 [==============================] - 0s 4ms/step - loss: 1.1986 - accuracy: 0.4665 - val_loss: 1.2242 - val_accuracy: 0.4469\n",
            "Epoch 158/500\n",
            "24/24 [==============================] - 0s 4ms/step - loss: 1.1986 - accuracy: 0.4629 - val_loss: 1.2243 - val_accuracy: 0.4435\n",
            "Epoch 159/500\n",
            "24/24 [==============================] - 0s 4ms/step - loss: 1.1985 - accuracy: 0.4614 - val_loss: 1.2252 - val_accuracy: 0.4449\n",
            "Epoch 160/500\n",
            "24/24 [==============================] - 0s 4ms/step - loss: 1.1988 - accuracy: 0.4682 - val_loss: 1.2232 - val_accuracy: 0.4428\n",
            "Epoch 161/500\n",
            "24/24 [==============================] - 0s 4ms/step - loss: 1.1978 - accuracy: 0.4638 - val_loss: 1.2231 - val_accuracy: 0.4438\n",
            "Epoch 162/500\n",
            "24/24 [==============================] - 0s 4ms/step - loss: 1.1993 - accuracy: 0.4668 - val_loss: 1.2225 - val_accuracy: 0.4442\n",
            "Epoch 163/500\n",
            "24/24 [==============================] - 0s 3ms/step - loss: 1.1985 - accuracy: 0.4672 - val_loss: 1.2220 - val_accuracy: 0.4459\n",
            "Epoch 164/500\n",
            "24/24 [==============================] - 0s 4ms/step - loss: 1.1982 - accuracy: 0.4704 - val_loss: 1.2249 - val_accuracy: 0.4473\n",
            "Epoch 165/500\n",
            "24/24 [==============================] - 0s 4ms/step - loss: 1.1979 - accuracy: 0.4668 - val_loss: 1.2217 - val_accuracy: 0.4421\n",
            "Epoch 166/500\n",
            "24/24 [==============================] - 0s 4ms/step - loss: 1.1964 - accuracy: 0.4695 - val_loss: 1.2217 - val_accuracy: 0.4456\n",
            "Epoch 167/500\n",
            "24/24 [==============================] - 0s 6ms/step - loss: 1.1957 - accuracy: 0.4677 - val_loss: 1.2246 - val_accuracy: 0.4469\n",
            "Epoch 168/500\n",
            "24/24 [==============================] - 0s 4ms/step - loss: 1.1967 - accuracy: 0.4670 - val_loss: 1.2228 - val_accuracy: 0.4456\n",
            "Epoch 169/500\n",
            "24/24 [==============================] - 0s 6ms/step - loss: 1.1962 - accuracy: 0.4694 - val_loss: 1.2223 - val_accuracy: 0.4431\n",
            "Epoch 170/500\n",
            "24/24 [==============================] - 0s 4ms/step - loss: 1.1962 - accuracy: 0.4685 - val_loss: 1.2215 - val_accuracy: 0.4421\n",
            "Epoch 171/500\n",
            "24/24 [==============================] - 0s 4ms/step - loss: 1.1958 - accuracy: 0.4663 - val_loss: 1.2217 - val_accuracy: 0.4442\n",
            "Epoch 172/500\n",
            "24/24 [==============================] - 0s 4ms/step - loss: 1.1951 - accuracy: 0.4690 - val_loss: 1.2215 - val_accuracy: 0.4456\n",
            "Epoch 173/500\n",
            "24/24 [==============================] - 0s 4ms/step - loss: 1.1945 - accuracy: 0.4714 - val_loss: 1.2226 - val_accuracy: 0.4466\n",
            "Epoch 174/500\n",
            "24/24 [==============================] - 0s 4ms/step - loss: 1.1965 - accuracy: 0.4590 - val_loss: 1.2209 - val_accuracy: 0.4476\n",
            "Epoch 175/500\n",
            "24/24 [==============================] - 0s 4ms/step - loss: 1.1946 - accuracy: 0.4721 - val_loss: 1.2206 - val_accuracy: 0.4459\n",
            "Epoch 176/500\n",
            "24/24 [==============================] - 0s 4ms/step - loss: 1.1944 - accuracy: 0.4729 - val_loss: 1.2211 - val_accuracy: 0.4462\n",
            "Epoch 177/500\n",
            "24/24 [==============================] - 0s 4ms/step - loss: 1.1957 - accuracy: 0.4655 - val_loss: 1.2207 - val_accuracy: 0.4425\n",
            "Epoch 178/500\n",
            "24/24 [==============================] - 0s 6ms/step - loss: 1.1938 - accuracy: 0.4714 - val_loss: 1.2197 - val_accuracy: 0.4493\n",
            "Epoch 179/500\n",
            "24/24 [==============================] - 0s 4ms/step - loss: 1.1938 - accuracy: 0.4699 - val_loss: 1.2213 - val_accuracy: 0.4445\n",
            "Epoch 180/500\n",
            "24/24 [==============================] - 0s 4ms/step - loss: 1.1929 - accuracy: 0.4692 - val_loss: 1.2196 - val_accuracy: 0.4480\n",
            "Epoch 181/500\n",
            "24/24 [==============================] - 0s 4ms/step - loss: 1.1927 - accuracy: 0.4717 - val_loss: 1.2204 - val_accuracy: 0.4456\n",
            "Epoch 182/500\n",
            "24/24 [==============================] - 0s 4ms/step - loss: 1.1927 - accuracy: 0.4738 - val_loss: 1.2200 - val_accuracy: 0.4466\n",
            "Epoch 183/500\n",
            "24/24 [==============================] - 0s 6ms/step - loss: 1.1942 - accuracy: 0.4667 - val_loss: 1.2192 - val_accuracy: 0.4469\n",
            "Epoch 184/500\n",
            "24/24 [==============================] - 0s 6ms/step - loss: 1.1925 - accuracy: 0.4714 - val_loss: 1.2195 - val_accuracy: 0.4486\n",
            "Epoch 185/500\n",
            "24/24 [==============================] - 0s 7ms/step - loss: 1.1918 - accuracy: 0.4721 - val_loss: 1.2190 - val_accuracy: 0.4469\n",
            "Epoch 186/500\n",
            "24/24 [==============================] - 0s 6ms/step - loss: 1.1919 - accuracy: 0.4727 - val_loss: 1.2185 - val_accuracy: 0.4452\n",
            "Epoch 187/500\n",
            "24/24 [==============================] - 0s 6ms/step - loss: 1.1910 - accuracy: 0.4741 - val_loss: 1.2190 - val_accuracy: 0.4431\n",
            "Epoch 188/500\n",
            "24/24 [==============================] - 0s 7ms/step - loss: 1.1915 - accuracy: 0.4682 - val_loss: 1.2199 - val_accuracy: 0.4456\n",
            "Epoch 189/500\n",
            "24/24 [==============================] - 0s 6ms/step - loss: 1.1918 - accuracy: 0.4727 - val_loss: 1.2190 - val_accuracy: 0.4449\n",
            "Epoch 190/500\n",
            "24/24 [==============================] - 0s 7ms/step - loss: 1.1910 - accuracy: 0.4726 - val_loss: 1.2210 - val_accuracy: 0.4462\n",
            "Epoch 191/500\n",
            "24/24 [==============================] - 0s 6ms/step - loss: 1.1912 - accuracy: 0.4705 - val_loss: 1.2190 - val_accuracy: 0.4473\n",
            "Epoch 192/500\n",
            "24/24 [==============================] - 0s 6ms/step - loss: 1.1909 - accuracy: 0.4727 - val_loss: 1.2171 - val_accuracy: 0.4486\n",
            "Epoch 193/500\n",
            "24/24 [==============================] - 0s 6ms/step - loss: 1.1907 - accuracy: 0.4749 - val_loss: 1.2182 - val_accuracy: 0.4473\n",
            "Epoch 194/500\n",
            "24/24 [==============================] - 0s 7ms/step - loss: 1.1928 - accuracy: 0.4714 - val_loss: 1.2191 - val_accuracy: 0.4459\n",
            "Epoch 195/500\n",
            "24/24 [==============================] - 0s 7ms/step - loss: 1.1913 - accuracy: 0.4741 - val_loss: 1.2208 - val_accuracy: 0.4476\n",
            "Epoch 196/500\n",
            "24/24 [==============================] - 0s 6ms/step - loss: 1.1907 - accuracy: 0.4677 - val_loss: 1.2167 - val_accuracy: 0.4466\n",
            "Epoch 197/500\n",
            "24/24 [==============================] - 0s 7ms/step - loss: 1.1907 - accuracy: 0.4709 - val_loss: 1.2190 - val_accuracy: 0.4466\n",
            "Epoch 198/500\n",
            "24/24 [==============================] - 0s 6ms/step - loss: 1.1912 - accuracy: 0.4702 - val_loss: 1.2187 - val_accuracy: 0.4469\n",
            "Epoch 199/500\n",
            "24/24 [==============================] - 0s 7ms/step - loss: 1.1921 - accuracy: 0.4704 - val_loss: 1.2194 - val_accuracy: 0.4456\n",
            "Epoch 200/500\n",
            "24/24 [==============================] - 0s 7ms/step - loss: 1.1900 - accuracy: 0.4704 - val_loss: 1.2169 - val_accuracy: 0.4462\n",
            "Epoch 201/500\n",
            "24/24 [==============================] - 0s 5ms/step - loss: 1.1900 - accuracy: 0.4760 - val_loss: 1.2174 - val_accuracy: 0.4456\n",
            "Epoch 202/500\n",
            "24/24 [==============================] - 0s 4ms/step - loss: 1.1898 - accuracy: 0.4714 - val_loss: 1.2172 - val_accuracy: 0.4438\n",
            "Epoch 203/500\n",
            "24/24 [==============================] - 0s 4ms/step - loss: 1.1892 - accuracy: 0.4738 - val_loss: 1.2171 - val_accuracy: 0.4476\n",
            "Epoch 204/500\n",
            "24/24 [==============================] - 0s 4ms/step - loss: 1.1893 - accuracy: 0.4743 - val_loss: 1.2159 - val_accuracy: 0.4486\n",
            "Epoch 205/500\n",
            "24/24 [==============================] - 0s 4ms/step - loss: 1.1898 - accuracy: 0.4709 - val_loss: 1.2161 - val_accuracy: 0.4466\n",
            "Epoch 206/500\n",
            "24/24 [==============================] - 0s 4ms/step - loss: 1.1889 - accuracy: 0.4733 - val_loss: 1.2155 - val_accuracy: 0.4469\n",
            "Epoch 207/500\n",
            "24/24 [==============================] - 0s 4ms/step - loss: 1.1885 - accuracy: 0.4760 - val_loss: 1.2157 - val_accuracy: 0.4476\n",
            "Epoch 208/500\n",
            "24/24 [==============================] - 0s 4ms/step - loss: 1.1886 - accuracy: 0.4751 - val_loss: 1.2155 - val_accuracy: 0.4486\n",
            "Epoch 209/500\n",
            "24/24 [==============================] - 0s 4ms/step - loss: 1.1885 - accuracy: 0.4760 - val_loss: 1.2166 - val_accuracy: 0.4469\n",
            "Epoch 210/500\n",
            "24/24 [==============================] - 0s 3ms/step - loss: 1.1885 - accuracy: 0.4756 - val_loss: 1.2157 - val_accuracy: 0.4438\n",
            "Epoch 211/500\n",
            "24/24 [==============================] - 0s 4ms/step - loss: 1.1886 - accuracy: 0.4722 - val_loss: 1.2174 - val_accuracy: 0.4480\n",
            "Epoch 212/500\n",
            "24/24 [==============================] - 0s 4ms/step - loss: 1.1881 - accuracy: 0.4716 - val_loss: 1.2155 - val_accuracy: 0.4524\n",
            "Epoch 213/500\n",
            "24/24 [==============================] - 0s 4ms/step - loss: 1.1881 - accuracy: 0.4760 - val_loss: 1.2159 - val_accuracy: 0.4486\n",
            "Epoch 214/500\n",
            "24/24 [==============================] - 0s 4ms/step - loss: 1.1874 - accuracy: 0.4716 - val_loss: 1.2148 - val_accuracy: 0.4476\n",
            "Epoch 215/500\n",
            "24/24 [==============================] - 0s 4ms/step - loss: 1.1880 - accuracy: 0.4738 - val_loss: 1.2147 - val_accuracy: 0.4456\n",
            "Epoch 216/500\n",
            "24/24 [==============================] - 0s 4ms/step - loss: 1.1871 - accuracy: 0.4733 - val_loss: 1.2165 - val_accuracy: 0.4504\n",
            "Epoch 217/500\n",
            "24/24 [==============================] - 0s 4ms/step - loss: 1.1880 - accuracy: 0.4739 - val_loss: 1.2154 - val_accuracy: 0.4504\n",
            "Epoch 218/500\n",
            "24/24 [==============================] - 0s 4ms/step - loss: 1.1874 - accuracy: 0.4739 - val_loss: 1.2155 - val_accuracy: 0.4456\n",
            "Epoch 219/500\n",
            "24/24 [==============================] - 0s 4ms/step - loss: 1.1875 - accuracy: 0.4751 - val_loss: 1.2142 - val_accuracy: 0.4514\n",
            "Epoch 220/500\n",
            "24/24 [==============================] - 0s 5ms/step - loss: 1.1879 - accuracy: 0.4692 - val_loss: 1.2148 - val_accuracy: 0.4507\n",
            "Epoch 221/500\n",
            "24/24 [==============================] - 0s 4ms/step - loss: 1.1878 - accuracy: 0.4739 - val_loss: 1.2201 - val_accuracy: 0.4486\n",
            "Epoch 222/500\n",
            "24/24 [==============================] - 0s 4ms/step - loss: 1.1882 - accuracy: 0.4731 - val_loss: 1.2154 - val_accuracy: 0.4548\n",
            "Epoch 223/500\n",
            "24/24 [==============================] - 0s 4ms/step - loss: 1.1876 - accuracy: 0.4760 - val_loss: 1.2152 - val_accuracy: 0.4524\n",
            "Epoch 224/500\n",
            "24/24 [==============================] - 0s 4ms/step - loss: 1.1873 - accuracy: 0.4721 - val_loss: 1.2134 - val_accuracy: 0.4517\n",
            "Epoch 225/500\n",
            "24/24 [==============================] - 0s 4ms/step - loss: 1.1871 - accuracy: 0.4727 - val_loss: 1.2139 - val_accuracy: 0.4510\n",
            "Epoch 226/500\n",
            "24/24 [==============================] - 0s 4ms/step - loss: 1.1868 - accuracy: 0.4700 - val_loss: 1.2149 - val_accuracy: 0.4500\n",
            "Epoch 227/500\n",
            "24/24 [==============================] - 0s 4ms/step - loss: 1.1873 - accuracy: 0.4748 - val_loss: 1.2140 - val_accuracy: 0.4510\n",
            "Epoch 228/500\n",
            "24/24 [==============================] - 0s 4ms/step - loss: 1.1862 - accuracy: 0.4755 - val_loss: 1.2155 - val_accuracy: 0.4528\n",
            "Epoch 229/500\n",
            "24/24 [==============================] - 0s 4ms/step - loss: 1.1879 - accuracy: 0.4729 - val_loss: 1.2140 - val_accuracy: 0.4524\n",
            "Epoch 230/500\n",
            "24/24 [==============================] - 0s 4ms/step - loss: 1.1865 - accuracy: 0.4733 - val_loss: 1.2140 - val_accuracy: 0.4473\n",
            "Epoch 231/500\n",
            "24/24 [==============================] - 0s 4ms/step - loss: 1.1866 - accuracy: 0.4729 - val_loss: 1.2147 - val_accuracy: 0.4466\n",
            "Epoch 232/500\n",
            "24/24 [==============================] - 0s 4ms/step - loss: 1.1864 - accuracy: 0.4743 - val_loss: 1.2143 - val_accuracy: 0.4497\n",
            "Epoch 233/500\n",
            "24/24 [==============================] - 0s 4ms/step - loss: 1.1852 - accuracy: 0.4773 - val_loss: 1.2144 - val_accuracy: 0.4486\n",
            "Epoch 234/500\n",
            "24/24 [==============================] - 0s 4ms/step - loss: 1.1859 - accuracy: 0.4731 - val_loss: 1.2153 - val_accuracy: 0.4535\n",
            "Epoch 235/500\n",
            "24/24 [==============================] - 0s 4ms/step - loss: 1.1851 - accuracy: 0.4765 - val_loss: 1.2136 - val_accuracy: 0.4510\n",
            "Epoch 236/500\n",
            "24/24 [==============================] - 0s 5ms/step - loss: 1.1845 - accuracy: 0.4778 - val_loss: 1.2140 - val_accuracy: 0.4490\n",
            "Epoch 237/500\n",
            "24/24 [==============================] - 0s 4ms/step - loss: 1.1856 - accuracy: 0.4712 - val_loss: 1.2127 - val_accuracy: 0.4531\n",
            "Epoch 238/500\n",
            "24/24 [==============================] - 0s 4ms/step - loss: 1.1855 - accuracy: 0.4758 - val_loss: 1.2147 - val_accuracy: 0.4517\n",
            "Epoch 239/500\n",
            "24/24 [==============================] - 0s 4ms/step - loss: 1.1862 - accuracy: 0.4749 - val_loss: 1.2148 - val_accuracy: 0.4528\n",
            "Epoch 240/500\n",
            "24/24 [==============================] - 0s 4ms/step - loss: 1.1852 - accuracy: 0.4724 - val_loss: 1.2133 - val_accuracy: 0.4521\n",
            "Epoch 241/500\n",
            "24/24 [==============================] - 0s 4ms/step - loss: 1.1855 - accuracy: 0.4763 - val_loss: 1.2131 - val_accuracy: 0.4514\n",
            "Epoch 242/500\n",
            "24/24 [==============================] - 0s 4ms/step - loss: 1.1862 - accuracy: 0.4738 - val_loss: 1.2122 - val_accuracy: 0.4524\n",
            "Epoch 243/500\n",
            "24/24 [==============================] - 0s 4ms/step - loss: 1.1846 - accuracy: 0.4749 - val_loss: 1.2125 - val_accuracy: 0.4480\n",
            "Epoch 244/500\n",
            "24/24 [==============================] - 0s 4ms/step - loss: 1.1845 - accuracy: 0.4748 - val_loss: 1.2135 - val_accuracy: 0.4517\n",
            "Epoch 245/500\n",
            "24/24 [==============================] - 0s 4ms/step - loss: 1.1873 - accuracy: 0.4773 - val_loss: 1.2122 - val_accuracy: 0.4528\n",
            "Epoch 246/500\n",
            "24/24 [==============================] - 0s 4ms/step - loss: 1.1864 - accuracy: 0.4756 - val_loss: 1.2135 - val_accuracy: 0.4490\n",
            "Epoch 247/500\n",
            "24/24 [==============================] - 0s 4ms/step - loss: 1.1855 - accuracy: 0.4741 - val_loss: 1.2124 - val_accuracy: 0.4517\n",
            "Epoch 248/500\n",
            "24/24 [==============================] - 0s 6ms/step - loss: 1.1863 - accuracy: 0.4717 - val_loss: 1.2131 - val_accuracy: 0.4504\n",
            "Epoch 249/500\n",
            "24/24 [==============================] - 0s 4ms/step - loss: 1.1844 - accuracy: 0.4783 - val_loss: 1.2122 - val_accuracy: 0.4510\n",
            "Epoch 250/500\n",
            "24/24 [==============================] - 0s 4ms/step - loss: 1.1835 - accuracy: 0.4771 - val_loss: 1.2141 - val_accuracy: 0.4545\n",
            "Epoch 251/500\n",
            "24/24 [==============================] - 0s 4ms/step - loss: 1.1845 - accuracy: 0.4763 - val_loss: 1.2127 - val_accuracy: 0.4559\n",
            "Epoch 252/500\n",
            "24/24 [==============================] - 0s 4ms/step - loss: 1.1840 - accuracy: 0.4743 - val_loss: 1.2146 - val_accuracy: 0.4528\n",
            "Epoch 253/500\n",
            "24/24 [==============================] - 0s 4ms/step - loss: 1.1850 - accuracy: 0.4729 - val_loss: 1.2121 - val_accuracy: 0.4528\n",
            "Epoch 254/500\n",
            "24/24 [==============================] - 0s 4ms/step - loss: 1.1849 - accuracy: 0.4761 - val_loss: 1.2131 - val_accuracy: 0.4552\n",
            "Epoch 255/500\n",
            "24/24 [==============================] - 0s 4ms/step - loss: 1.1848 - accuracy: 0.4770 - val_loss: 1.2150 - val_accuracy: 0.4548\n",
            "Epoch 256/500\n",
            "24/24 [==============================] - 0s 4ms/step - loss: 1.1855 - accuracy: 0.4782 - val_loss: 1.2116 - val_accuracy: 0.4565\n",
            "Epoch 257/500\n",
            "24/24 [==============================] - 0s 4ms/step - loss: 1.1848 - accuracy: 0.4746 - val_loss: 1.2139 - val_accuracy: 0.4528\n",
            "Epoch 258/500\n",
            "24/24 [==============================] - 0s 4ms/step - loss: 1.1838 - accuracy: 0.4771 - val_loss: 1.2115 - val_accuracy: 0.4524\n",
            "Epoch 259/500\n",
            "24/24 [==============================] - 0s 4ms/step - loss: 1.1833 - accuracy: 0.4771 - val_loss: 1.2122 - val_accuracy: 0.4569\n",
            "Epoch 260/500\n",
            "24/24 [==============================] - 0s 4ms/step - loss: 1.1836 - accuracy: 0.4753 - val_loss: 1.2133 - val_accuracy: 0.4541\n",
            "Epoch 261/500\n",
            "24/24 [==============================] - 0s 4ms/step - loss: 1.1839 - accuracy: 0.4799 - val_loss: 1.2128 - val_accuracy: 0.4524\n",
            "Epoch 262/500\n",
            "24/24 [==============================] - 0s 4ms/step - loss: 1.1836 - accuracy: 0.4760 - val_loss: 1.2113 - val_accuracy: 0.4559\n",
            "Epoch 263/500\n",
            "24/24 [==============================] - 0s 5ms/step - loss: 1.1832 - accuracy: 0.4816 - val_loss: 1.2133 - val_accuracy: 0.4517\n",
            "Epoch 264/500\n",
            "24/24 [==============================] - 0s 4ms/step - loss: 1.1828 - accuracy: 0.4748 - val_loss: 1.2117 - val_accuracy: 0.4528\n",
            "Epoch 265/500\n",
            "24/24 [==============================] - 0s 4ms/step - loss: 1.1839 - accuracy: 0.4736 - val_loss: 1.2124 - val_accuracy: 0.4486\n",
            "Epoch 266/500\n",
            "24/24 [==============================] - 0s 4ms/step - loss: 1.1830 - accuracy: 0.4751 - val_loss: 1.2111 - val_accuracy: 0.4517\n",
            "Epoch 267/500\n",
            "24/24 [==============================] - 0s 4ms/step - loss: 1.1837 - accuracy: 0.4787 - val_loss: 1.2117 - val_accuracy: 0.4579\n",
            "Epoch 268/500\n",
            "24/24 [==============================] - 0s 4ms/step - loss: 1.1830 - accuracy: 0.4743 - val_loss: 1.2137 - val_accuracy: 0.4500\n",
            "Epoch 269/500\n",
            "24/24 [==============================] - 0s 5ms/step - loss: 1.1854 - accuracy: 0.4749 - val_loss: 1.2112 - val_accuracy: 0.4541\n",
            "Epoch 270/500\n",
            "24/24 [==============================] - 0s 4ms/step - loss: 1.1822 - accuracy: 0.4760 - val_loss: 1.2119 - val_accuracy: 0.4552\n",
            "Epoch 271/500\n",
            "24/24 [==============================] - 0s 4ms/step - loss: 1.1834 - accuracy: 0.4763 - val_loss: 1.2121 - val_accuracy: 0.4545\n",
            "Epoch 272/500\n",
            "24/24 [==============================] - 0s 4ms/step - loss: 1.1835 - accuracy: 0.4783 - val_loss: 1.2118 - val_accuracy: 0.4562\n",
            "Epoch 273/500\n",
            "24/24 [==============================] - 0s 4ms/step - loss: 1.1847 - accuracy: 0.4731 - val_loss: 1.2147 - val_accuracy: 0.4535\n",
            "Epoch 274/500\n",
            "24/24 [==============================] - 0s 4ms/step - loss: 1.1832 - accuracy: 0.4756 - val_loss: 1.2108 - val_accuracy: 0.4555\n",
            "Epoch 275/500\n",
            "24/24 [==============================] - 0s 4ms/step - loss: 1.1824 - accuracy: 0.4783 - val_loss: 1.2115 - val_accuracy: 0.4541\n",
            "Epoch 276/500\n",
            "24/24 [==============================] - 0s 4ms/step - loss: 1.1828 - accuracy: 0.4722 - val_loss: 1.2119 - val_accuracy: 0.4541\n",
            "Epoch 277/500\n",
            "24/24 [==============================] - 0s 4ms/step - loss: 1.1833 - accuracy: 0.4800 - val_loss: 1.2115 - val_accuracy: 0.4552\n",
            "Epoch 278/500\n",
            "24/24 [==============================] - 0s 6ms/step - loss: 1.1827 - accuracy: 0.4771 - val_loss: 1.2109 - val_accuracy: 0.4579\n",
            "Epoch 279/500\n",
            "24/24 [==============================] - 0s 4ms/step - loss: 1.1845 - accuracy: 0.4751 - val_loss: 1.2108 - val_accuracy: 0.4569\n",
            "Epoch 280/500\n",
            "24/24 [==============================] - 0s 4ms/step - loss: 1.1831 - accuracy: 0.4743 - val_loss: 1.2104 - val_accuracy: 0.4528\n",
            "Epoch 281/500\n",
            "24/24 [==============================] - 0s 4ms/step - loss: 1.1830 - accuracy: 0.4807 - val_loss: 1.2110 - val_accuracy: 0.4535\n",
            "Epoch 282/500\n",
            "24/24 [==============================] - 0s 4ms/step - loss: 1.1824 - accuracy: 0.4773 - val_loss: 1.2093 - val_accuracy: 0.4576\n",
            "Epoch 283/500\n",
            "24/24 [==============================] - 0s 4ms/step - loss: 1.1828 - accuracy: 0.4787 - val_loss: 1.2116 - val_accuracy: 0.4583\n",
            "Epoch 284/500\n",
            "24/24 [==============================] - 0s 4ms/step - loss: 1.1836 - accuracy: 0.4768 - val_loss: 1.2117 - val_accuracy: 0.4572\n",
            "Epoch 285/500\n",
            "24/24 [==============================] - 0s 4ms/step - loss: 1.1827 - accuracy: 0.4748 - val_loss: 1.2112 - val_accuracy: 0.4576\n",
            "Epoch 286/500\n",
            "24/24 [==============================] - 0s 4ms/step - loss: 1.1822 - accuracy: 0.4777 - val_loss: 1.2099 - val_accuracy: 0.4552\n",
            "Epoch 287/500\n",
            "24/24 [==============================] - 0s 5ms/step - loss: 1.1821 - accuracy: 0.4775 - val_loss: 1.2103 - val_accuracy: 0.4555\n",
            "Epoch 288/500\n",
            "24/24 [==============================] - 0s 4ms/step - loss: 1.1824 - accuracy: 0.4749 - val_loss: 1.2125 - val_accuracy: 0.4548\n",
            "Epoch 289/500\n",
            "24/24 [==============================] - 0s 4ms/step - loss: 1.1815 - accuracy: 0.4773 - val_loss: 1.2099 - val_accuracy: 0.4631\n",
            "Epoch 290/500\n",
            "24/24 [==============================] - 0s 5ms/step - loss: 1.1819 - accuracy: 0.4778 - val_loss: 1.2151 - val_accuracy: 0.4531\n",
            "Epoch 291/500\n",
            "24/24 [==============================] - 0s 5ms/step - loss: 1.1834 - accuracy: 0.4771 - val_loss: 1.2108 - val_accuracy: 0.4545\n",
            "Epoch 292/500\n",
            "24/24 [==============================] - 0s 4ms/step - loss: 1.1813 - accuracy: 0.4775 - val_loss: 1.2105 - val_accuracy: 0.4572\n",
            "Epoch 293/500\n",
            "24/24 [==============================] - 0s 4ms/step - loss: 1.1821 - accuracy: 0.4763 - val_loss: 1.2105 - val_accuracy: 0.4586\n",
            "Epoch 294/500\n",
            "24/24 [==============================] - 0s 4ms/step - loss: 1.1818 - accuracy: 0.4777 - val_loss: 1.2110 - val_accuracy: 0.4521\n",
            "Epoch 295/500\n",
            "24/24 [==============================] - 0s 4ms/step - loss: 1.1817 - accuracy: 0.4824 - val_loss: 1.2108 - val_accuracy: 0.4569\n",
            "Epoch 296/500\n",
            "24/24 [==============================] - 0s 6ms/step - loss: 1.1819 - accuracy: 0.4765 - val_loss: 1.2105 - val_accuracy: 0.4548\n",
            "Epoch 297/500\n",
            "24/24 [==============================] - 0s 8ms/step - loss: 1.1822 - accuracy: 0.4792 - val_loss: 1.2119 - val_accuracy: 0.4562\n",
            "Epoch 298/500\n",
            "24/24 [==============================] - 0s 7ms/step - loss: 1.1827 - accuracy: 0.4765 - val_loss: 1.2100 - val_accuracy: 0.4559\n",
            "Epoch 299/500\n",
            "24/24 [==============================] - 0s 8ms/step - loss: 1.1816 - accuracy: 0.4829 - val_loss: 1.2094 - val_accuracy: 0.4548\n",
            "Epoch 300/500\n",
            "24/24 [==============================] - 0s 6ms/step - loss: 1.1809 - accuracy: 0.4746 - val_loss: 1.2117 - val_accuracy: 0.4565\n",
            "Epoch 301/500\n",
            "24/24 [==============================] - 0s 6ms/step - loss: 1.1828 - accuracy: 0.4756 - val_loss: 1.2097 - val_accuracy: 0.4603\n",
            "Epoch 302/500\n",
            "24/24 [==============================] - 0s 6ms/step - loss: 1.1827 - accuracy: 0.4778 - val_loss: 1.2116 - val_accuracy: 0.4607\n",
            "Epoch 303/500\n",
            "24/24 [==============================] - 0s 7ms/step - loss: 1.1819 - accuracy: 0.4761 - val_loss: 1.2107 - val_accuracy: 0.4586\n",
            "Epoch 304/500\n",
            "24/24 [==============================] - 0s 6ms/step - loss: 1.1817 - accuracy: 0.4741 - val_loss: 1.2115 - val_accuracy: 0.4559\n",
            "Epoch 305/500\n",
            "24/24 [==============================] - 0s 7ms/step - loss: 1.1815 - accuracy: 0.4775 - val_loss: 1.2102 - val_accuracy: 0.4565\n",
            "Epoch 306/500\n",
            "24/24 [==============================] - 0s 8ms/step - loss: 1.1838 - accuracy: 0.4758 - val_loss: 1.2125 - val_accuracy: 0.4579\n",
            "Epoch 307/500\n",
            "24/24 [==============================] - 0s 9ms/step - loss: 1.1833 - accuracy: 0.4777 - val_loss: 1.2133 - val_accuracy: 0.4531\n",
            "Epoch 308/500\n",
            "24/24 [==============================] - 0s 7ms/step - loss: 1.1815 - accuracy: 0.4777 - val_loss: 1.2110 - val_accuracy: 0.4596\n",
            "Epoch 309/500\n",
            "24/24 [==============================] - 0s 8ms/step - loss: 1.1815 - accuracy: 0.4755 - val_loss: 1.2111 - val_accuracy: 0.4572\n",
            "Epoch 310/500\n",
            "24/24 [==============================] - 0s 7ms/step - loss: 1.1803 - accuracy: 0.4760 - val_loss: 1.2106 - val_accuracy: 0.4586\n",
            "Epoch 311/500\n",
            "24/24 [==============================] - 0s 6ms/step - loss: 1.1812 - accuracy: 0.4814 - val_loss: 1.2121 - val_accuracy: 0.4562\n",
            "Epoch 312/500\n",
            "24/24 [==============================] - 0s 7ms/step - loss: 1.1807 - accuracy: 0.4795 - val_loss: 1.2109 - val_accuracy: 0.4593\n",
            "Epoch 313/500\n",
            "24/24 [==============================] - 0s 6ms/step - loss: 1.1803 - accuracy: 0.4810 - val_loss: 1.2104 - val_accuracy: 0.4572\n",
            "Epoch 314/500\n",
            "24/24 [==============================] - 0s 4ms/step - loss: 1.1808 - accuracy: 0.4777 - val_loss: 1.2099 - val_accuracy: 0.4617\n",
            "Epoch 315/500\n",
            "24/24 [==============================] - 0s 4ms/step - loss: 1.1815 - accuracy: 0.4790 - val_loss: 1.2109 - val_accuracy: 0.4589\n",
            "Epoch 316/500\n",
            "24/24 [==============================] - 0s 4ms/step - loss: 1.1806 - accuracy: 0.4783 - val_loss: 1.2099 - val_accuracy: 0.4593\n",
            "Epoch 317/500\n",
            "24/24 [==============================] - 0s 4ms/step - loss: 1.1813 - accuracy: 0.4785 - val_loss: 1.2111 - val_accuracy: 0.4548\n",
            "Epoch 318/500\n",
            "24/24 [==============================] - 0s 4ms/step - loss: 1.1804 - accuracy: 0.4760 - val_loss: 1.2136 - val_accuracy: 0.4555\n",
            "Epoch 319/500\n",
            "24/24 [==============================] - 0s 4ms/step - loss: 1.1821 - accuracy: 0.4821 - val_loss: 1.2100 - val_accuracy: 0.4583\n",
            "Epoch 320/500\n",
            "24/24 [==============================] - 0s 4ms/step - loss: 1.1799 - accuracy: 0.4804 - val_loss: 1.2104 - val_accuracy: 0.4562\n",
            "Epoch 321/500\n",
            "24/24 [==============================] - 0s 4ms/step - loss: 1.1808 - accuracy: 0.4780 - val_loss: 1.2118 - val_accuracy: 0.4559\n",
            "Epoch 322/500\n",
            "24/24 [==============================] - 0s 4ms/step - loss: 1.1820 - accuracy: 0.4788 - val_loss: 1.2099 - val_accuracy: 0.4528\n",
            "Epoch 323/500\n",
            "24/24 [==============================] - 0s 5ms/step - loss: 1.1814 - accuracy: 0.4807 - val_loss: 1.2148 - val_accuracy: 0.4545\n",
            "Epoch 324/500\n",
            "24/24 [==============================] - 0s 4ms/step - loss: 1.1817 - accuracy: 0.4777 - val_loss: 1.2101 - val_accuracy: 0.4583\n",
            "Epoch 325/500\n",
            "24/24 [==============================] - 0s 5ms/step - loss: 1.1800 - accuracy: 0.4804 - val_loss: 1.2087 - val_accuracy: 0.4586\n",
            "Epoch 326/500\n",
            "24/24 [==============================] - 0s 5ms/step - loss: 1.1804 - accuracy: 0.4831 - val_loss: 1.2088 - val_accuracy: 0.4569\n",
            "Epoch 327/500\n",
            "24/24 [==============================] - 0s 4ms/step - loss: 1.1804 - accuracy: 0.4790 - val_loss: 1.2094 - val_accuracy: 0.4589\n",
            "Epoch 328/500\n",
            "24/24 [==============================] - 0s 4ms/step - loss: 1.1807 - accuracy: 0.4797 - val_loss: 1.2110 - val_accuracy: 0.4555\n",
            "Epoch 329/500\n",
            "24/24 [==============================] - 0s 4ms/step - loss: 1.1819 - accuracy: 0.4816 - val_loss: 1.2085 - val_accuracy: 0.4562\n",
            "Epoch 330/500\n",
            "24/24 [==============================] - 0s 5ms/step - loss: 1.1807 - accuracy: 0.4795 - val_loss: 1.2099 - val_accuracy: 0.4576\n",
            "Epoch 331/500\n",
            "24/24 [==============================] - 0s 4ms/step - loss: 1.1807 - accuracy: 0.4788 - val_loss: 1.2093 - val_accuracy: 0.4565\n",
            "Epoch 332/500\n",
            "24/24 [==============================] - 0s 4ms/step - loss: 1.1803 - accuracy: 0.4790 - val_loss: 1.2124 - val_accuracy: 0.4538\n",
            "Epoch 333/500\n",
            "24/24 [==============================] - 0s 4ms/step - loss: 1.1801 - accuracy: 0.4782 - val_loss: 1.2094 - val_accuracy: 0.4545\n",
            "Epoch 334/500\n",
            "24/24 [==============================] - 0s 5ms/step - loss: 1.1806 - accuracy: 0.4761 - val_loss: 1.2111 - val_accuracy: 0.4572\n",
            "Epoch 335/500\n",
            "24/24 [==============================] - 0s 4ms/step - loss: 1.1800 - accuracy: 0.4766 - val_loss: 1.2118 - val_accuracy: 0.4555\n",
            "Epoch 336/500\n",
            "24/24 [==============================] - 0s 4ms/step - loss: 1.1807 - accuracy: 0.4809 - val_loss: 1.2109 - val_accuracy: 0.4589\n",
            "Epoch 337/500\n",
            "24/24 [==============================] - 0s 5ms/step - loss: 1.1811 - accuracy: 0.4778 - val_loss: 1.2083 - val_accuracy: 0.4610\n",
            "Epoch 338/500\n",
            "24/24 [==============================] - 0s 4ms/step - loss: 1.1807 - accuracy: 0.4790 - val_loss: 1.2094 - val_accuracy: 0.4562\n",
            "Epoch 339/500\n",
            "24/24 [==============================] - 0s 4ms/step - loss: 1.1801 - accuracy: 0.4816 - val_loss: 1.2089 - val_accuracy: 0.4572\n",
            "Epoch 340/500\n",
            "24/24 [==============================] - 0s 4ms/step - loss: 1.1806 - accuracy: 0.4724 - val_loss: 1.2084 - val_accuracy: 0.4572\n",
            "Epoch 341/500\n",
            "24/24 [==============================] - 0s 4ms/step - loss: 1.1794 - accuracy: 0.4788 - val_loss: 1.2095 - val_accuracy: 0.4583\n",
            "Epoch 342/500\n",
            "24/24 [==============================] - 0s 4ms/step - loss: 1.1809 - accuracy: 0.4771 - val_loss: 1.2096 - val_accuracy: 0.4562\n",
            "Epoch 343/500\n",
            "24/24 [==============================] - 0s 6ms/step - loss: 1.1804 - accuracy: 0.4816 - val_loss: 1.2082 - val_accuracy: 0.4644\n",
            "Epoch 344/500\n",
            "24/24 [==============================] - 0s 5ms/step - loss: 1.1797 - accuracy: 0.4802 - val_loss: 1.2110 - val_accuracy: 0.4559\n",
            "Epoch 345/500\n",
            "24/24 [==============================] - 0s 5ms/step - loss: 1.1815 - accuracy: 0.4783 - val_loss: 1.2079 - val_accuracy: 0.4569\n",
            "Epoch 346/500\n",
            "24/24 [==============================] - 0s 4ms/step - loss: 1.1793 - accuracy: 0.4758 - val_loss: 1.2100 - val_accuracy: 0.4569\n",
            "Epoch 347/500\n",
            "24/24 [==============================] - 0s 4ms/step - loss: 1.1801 - accuracy: 0.4790 - val_loss: 1.2094 - val_accuracy: 0.4586\n",
            "Epoch 348/500\n",
            "24/24 [==============================] - 0s 4ms/step - loss: 1.1792 - accuracy: 0.4790 - val_loss: 1.2086 - val_accuracy: 0.4617\n",
            "Epoch 349/500\n",
            "24/24 [==============================] - 0s 6ms/step - loss: 1.1797 - accuracy: 0.4785 - val_loss: 1.2107 - val_accuracy: 0.4600\n",
            "Epoch 350/500\n",
            "24/24 [==============================] - 0s 4ms/step - loss: 1.1803 - accuracy: 0.4782 - val_loss: 1.2101 - val_accuracy: 0.4576\n",
            "Epoch 351/500\n",
            "24/24 [==============================] - 0s 4ms/step - loss: 1.1796 - accuracy: 0.4785 - val_loss: 1.2085 - val_accuracy: 0.4576\n",
            "Epoch 352/500\n",
            "24/24 [==============================] - 0s 4ms/step - loss: 1.1801 - accuracy: 0.4812 - val_loss: 1.2118 - val_accuracy: 0.4559\n",
            "Epoch 353/500\n",
            "24/24 [==============================] - 0s 5ms/step - loss: 1.1792 - accuracy: 0.4778 - val_loss: 1.2109 - val_accuracy: 0.4579\n",
            "Epoch 354/500\n",
            "24/24 [==============================] - 0s 5ms/step - loss: 1.1803 - accuracy: 0.4792 - val_loss: 1.2089 - val_accuracy: 0.4562\n",
            "Epoch 355/500\n",
            "24/24 [==============================] - 0s 5ms/step - loss: 1.1794 - accuracy: 0.4805 - val_loss: 1.2092 - val_accuracy: 0.4583\n",
            "Epoch 356/500\n",
            "24/24 [==============================] - 0s 4ms/step - loss: 1.1800 - accuracy: 0.4819 - val_loss: 1.2083 - val_accuracy: 0.4562\n",
            "Epoch 357/500\n",
            "24/24 [==============================] - 0s 4ms/step - loss: 1.1785 - accuracy: 0.4795 - val_loss: 1.2097 - val_accuracy: 0.4607\n",
            "Epoch 358/500\n",
            "24/24 [==============================] - 0s 4ms/step - loss: 1.1798 - accuracy: 0.4770 - val_loss: 1.2101 - val_accuracy: 0.4583\n",
            "Epoch 359/500\n",
            "24/24 [==============================] - 0s 5ms/step - loss: 1.1804 - accuracy: 0.4711 - val_loss: 1.2099 - val_accuracy: 0.4586\n",
            "Epoch 360/500\n",
            "24/24 [==============================] - 0s 4ms/step - loss: 1.1796 - accuracy: 0.4816 - val_loss: 1.2084 - val_accuracy: 0.4603\n",
            "Epoch 361/500\n",
            "24/24 [==============================] - 0s 4ms/step - loss: 1.1793 - accuracy: 0.4788 - val_loss: 1.2085 - val_accuracy: 0.4589\n",
            "Epoch 362/500\n",
            "24/24 [==============================] - 0s 4ms/step - loss: 1.1801 - accuracy: 0.4826 - val_loss: 1.2101 - val_accuracy: 0.4576\n",
            "Epoch 363/500\n",
            "24/24 [==============================] - 0s 4ms/step - loss: 1.1787 - accuracy: 0.4807 - val_loss: 1.2075 - val_accuracy: 0.4583\n",
            "Epoch 364/500\n",
            "24/24 [==============================] - 0s 4ms/step - loss: 1.1795 - accuracy: 0.4810 - val_loss: 1.2094 - val_accuracy: 0.4593\n",
            "Epoch 365/500\n",
            "24/24 [==============================] - 0s 4ms/step - loss: 1.1795 - accuracy: 0.4809 - val_loss: 1.2101 - val_accuracy: 0.4641\n",
            "Epoch 366/500\n",
            "24/24 [==============================] - 0s 4ms/step - loss: 1.1789 - accuracy: 0.4785 - val_loss: 1.2082 - val_accuracy: 0.4579\n",
            "Epoch 367/500\n",
            "24/24 [==============================] - 0s 4ms/step - loss: 1.1784 - accuracy: 0.4819 - val_loss: 1.2086 - val_accuracy: 0.4617\n",
            "Epoch 368/500\n",
            "24/24 [==============================] - 0s 4ms/step - loss: 1.1794 - accuracy: 0.4812 - val_loss: 1.2090 - val_accuracy: 0.4569\n",
            "Epoch 369/500\n",
            "24/24 [==============================] - 0s 4ms/step - loss: 1.1812 - accuracy: 0.4787 - val_loss: 1.2084 - val_accuracy: 0.4562\n",
            "Epoch 370/500\n",
            "24/24 [==============================] - 0s 4ms/step - loss: 1.1792 - accuracy: 0.4766 - val_loss: 1.2087 - val_accuracy: 0.4569\n",
            "Epoch 371/500\n",
            "24/24 [==============================] - 0s 5ms/step - loss: 1.1810 - accuracy: 0.4746 - val_loss: 1.2090 - val_accuracy: 0.4565\n",
            "Epoch 372/500\n",
            "24/24 [==============================] - 0s 4ms/step - loss: 1.1793 - accuracy: 0.4800 - val_loss: 1.2089 - val_accuracy: 0.4593\n",
            "Epoch 373/500\n",
            "24/24 [==============================] - 0s 4ms/step - loss: 1.1787 - accuracy: 0.4773 - val_loss: 1.2105 - val_accuracy: 0.4565\n",
            "Epoch 374/500\n",
            "24/24 [==============================] - 0s 4ms/step - loss: 1.1793 - accuracy: 0.4836 - val_loss: 1.2074 - val_accuracy: 0.4579\n",
            "Epoch 375/500\n",
            "24/24 [==============================] - 0s 6ms/step - loss: 1.1795 - accuracy: 0.4778 - val_loss: 1.2085 - val_accuracy: 0.4593\n",
            "Epoch 376/500\n",
            "24/24 [==============================] - 0s 4ms/step - loss: 1.1789 - accuracy: 0.4794 - val_loss: 1.2079 - val_accuracy: 0.4579\n",
            "Epoch 377/500\n",
            "24/24 [==============================] - 0s 4ms/step - loss: 1.1788 - accuracy: 0.4768 - val_loss: 1.2086 - val_accuracy: 0.4638\n",
            "Epoch 378/500\n",
            "24/24 [==============================] - 0s 5ms/step - loss: 1.1780 - accuracy: 0.4795 - val_loss: 1.2074 - val_accuracy: 0.4614\n",
            "Epoch 379/500\n",
            "24/24 [==============================] - 0s 4ms/step - loss: 1.1791 - accuracy: 0.4804 - val_loss: 1.2075 - val_accuracy: 0.4614\n",
            "Epoch 380/500\n",
            "24/24 [==============================] - 0s 5ms/step - loss: 1.1794 - accuracy: 0.4792 - val_loss: 1.2090 - val_accuracy: 0.4555\n",
            "Epoch 381/500\n",
            "24/24 [==============================] - 0s 4ms/step - loss: 1.1807 - accuracy: 0.4799 - val_loss: 1.2091 - val_accuracy: 0.4579\n",
            "Epoch 382/500\n",
            "24/24 [==============================] - 0s 4ms/step - loss: 1.1788 - accuracy: 0.4785 - val_loss: 1.2079 - val_accuracy: 0.4583\n",
            "Epoch 383/500\n",
            "24/24 [==============================] - 0s 4ms/step - loss: 1.1795 - accuracy: 0.4804 - val_loss: 1.2100 - val_accuracy: 0.4589\n",
            "Epoch 384/500\n",
            "24/24 [==============================] - 0s 4ms/step - loss: 1.1790 - accuracy: 0.4807 - val_loss: 1.2089 - val_accuracy: 0.4617\n",
            "Epoch 385/500\n",
            "24/24 [==============================] - 0s 4ms/step - loss: 1.1786 - accuracy: 0.4795 - val_loss: 1.2093 - val_accuracy: 0.4569\n",
            "Epoch 386/500\n",
            "24/24 [==============================] - 0s 5ms/step - loss: 1.1785 - accuracy: 0.4783 - val_loss: 1.2096 - val_accuracy: 0.4583\n",
            "Epoch 387/500\n",
            "24/24 [==============================] - 0s 5ms/step - loss: 1.1789 - accuracy: 0.4805 - val_loss: 1.2095 - val_accuracy: 0.4617\n",
            "Epoch 388/500\n",
            "24/24 [==============================] - 0s 5ms/step - loss: 1.1794 - accuracy: 0.4810 - val_loss: 1.2092 - val_accuracy: 0.4576\n",
            "Epoch 389/500\n",
            "24/24 [==============================] - 0s 4ms/step - loss: 1.1792 - accuracy: 0.4778 - val_loss: 1.2076 - val_accuracy: 0.4627\n",
            "Epoch 390/500\n",
            "24/24 [==============================] - 0s 4ms/step - loss: 1.1784 - accuracy: 0.4824 - val_loss: 1.2096 - val_accuracy: 0.4603\n",
            "Epoch 391/500\n",
            "24/24 [==============================] - 0s 4ms/step - loss: 1.1781 - accuracy: 0.4788 - val_loss: 1.2087 - val_accuracy: 0.4576\n",
            "Epoch 392/500\n",
            "24/24 [==============================] - 0s 4ms/step - loss: 1.1778 - accuracy: 0.4849 - val_loss: 1.2082 - val_accuracy: 0.4610\n",
            "Epoch 393/500\n",
            "24/24 [==============================] - 0s 5ms/step - loss: 1.1783 - accuracy: 0.4778 - val_loss: 1.2077 - val_accuracy: 0.4586\n",
            "Epoch 394/500\n",
            "24/24 [==============================] - 0s 4ms/step - loss: 1.1779 - accuracy: 0.4810 - val_loss: 1.2076 - val_accuracy: 0.4579\n",
            "Epoch 395/500\n",
            "24/24 [==============================] - 0s 4ms/step - loss: 1.1793 - accuracy: 0.4775 - val_loss: 1.2096 - val_accuracy: 0.4589\n",
            "Epoch 396/500\n",
            "24/24 [==============================] - 0s 4ms/step - loss: 1.1819 - accuracy: 0.4792 - val_loss: 1.2151 - val_accuracy: 0.4572\n",
            "Epoch 397/500\n",
            "24/24 [==============================] - 0s 4ms/step - loss: 1.1781 - accuracy: 0.4797 - val_loss: 1.2090 - val_accuracy: 0.4586\n",
            "Epoch 398/500\n",
            "24/24 [==============================] - 0s 5ms/step - loss: 1.1783 - accuracy: 0.4800 - val_loss: 1.2093 - val_accuracy: 0.4644\n",
            "Epoch 399/500\n",
            "24/24 [==============================] - 0s 5ms/step - loss: 1.1790 - accuracy: 0.4777 - val_loss: 1.2096 - val_accuracy: 0.4586\n",
            "Epoch 400/500\n",
            "24/24 [==============================] - 0s 4ms/step - loss: 1.1789 - accuracy: 0.4797 - val_loss: 1.2089 - val_accuracy: 0.4596\n",
            "Epoch 401/500\n",
            "24/24 [==============================] - 0s 4ms/step - loss: 1.1782 - accuracy: 0.4826 - val_loss: 1.2107 - val_accuracy: 0.4583\n",
            "Epoch 402/500\n",
            "24/24 [==============================] - 0s 4ms/step - loss: 1.1779 - accuracy: 0.4768 - val_loss: 1.2098 - val_accuracy: 0.4545\n",
            "Epoch 403/500\n",
            "24/24 [==============================] - 0s 4ms/step - loss: 1.1785 - accuracy: 0.4834 - val_loss: 1.2069 - val_accuracy: 0.4603\n",
            "Epoch 404/500\n",
            "24/24 [==============================] - 0s 4ms/step - loss: 1.1780 - accuracy: 0.4810 - val_loss: 1.2086 - val_accuracy: 0.4593\n",
            "Epoch 405/500\n",
            "24/24 [==============================] - 0s 6ms/step - loss: 1.1787 - accuracy: 0.4822 - val_loss: 1.2084 - val_accuracy: 0.4572\n",
            "Epoch 406/500\n",
            "24/24 [==============================] - 0s 6ms/step - loss: 1.1779 - accuracy: 0.4839 - val_loss: 1.2078 - val_accuracy: 0.4610\n",
            "Epoch 407/500\n",
            "24/24 [==============================] - 0s 7ms/step - loss: 1.1776 - accuracy: 0.4788 - val_loss: 1.2103 - val_accuracy: 0.4579\n",
            "Epoch 408/500\n",
            "24/24 [==============================] - 0s 8ms/step - loss: 1.1786 - accuracy: 0.4819 - val_loss: 1.2093 - val_accuracy: 0.4583\n",
            "Epoch 409/500\n",
            "24/24 [==============================] - 0s 6ms/step - loss: 1.1777 - accuracy: 0.4821 - val_loss: 1.2095 - val_accuracy: 0.4576\n",
            "Epoch 410/500\n",
            "24/24 [==============================] - 0s 6ms/step - loss: 1.1793 - accuracy: 0.4770 - val_loss: 1.2078 - val_accuracy: 0.4603\n",
            "Epoch 411/500\n",
            "24/24 [==============================] - 0s 6ms/step - loss: 1.1773 - accuracy: 0.4819 - val_loss: 1.2095 - val_accuracy: 0.4607\n",
            "Epoch 412/500\n",
            "24/24 [==============================] - 0s 8ms/step - loss: 1.1779 - accuracy: 0.4824 - val_loss: 1.2080 - val_accuracy: 0.4596\n",
            "Epoch 413/500\n",
            "24/24 [==============================] - 0s 8ms/step - loss: 1.1776 - accuracy: 0.4804 - val_loss: 1.2087 - val_accuracy: 0.4593\n",
            "Epoch 414/500\n",
            "24/24 [==============================] - 0s 8ms/step - loss: 1.1787 - accuracy: 0.4809 - val_loss: 1.2102 - val_accuracy: 0.4555\n",
            "Epoch 415/500\n",
            "24/24 [==============================] - 0s 7ms/step - loss: 1.1779 - accuracy: 0.4783 - val_loss: 1.2097 - val_accuracy: 0.4614\n",
            "Epoch 416/500\n",
            "24/24 [==============================] - 0s 7ms/step - loss: 1.1775 - accuracy: 0.4824 - val_loss: 1.2108 - val_accuracy: 0.4589\n",
            "Epoch 417/500\n",
            "24/24 [==============================] - 0s 7ms/step - loss: 1.1787 - accuracy: 0.4792 - val_loss: 1.2082 - val_accuracy: 0.4589\n",
            "Epoch 418/500\n",
            "24/24 [==============================] - 0s 6ms/step - loss: 1.1776 - accuracy: 0.4799 - val_loss: 1.2090 - val_accuracy: 0.4614\n",
            "Epoch 419/500\n",
            "24/24 [==============================] - 0s 7ms/step - loss: 1.1778 - accuracy: 0.4800 - val_loss: 1.2073 - val_accuracy: 0.4589\n",
            "Epoch 420/500\n",
            "24/24 [==============================] - 0s 8ms/step - loss: 1.1793 - accuracy: 0.4829 - val_loss: 1.2117 - val_accuracy: 0.4586\n",
            "Epoch 421/500\n",
            "24/24 [==============================] - 0s 8ms/step - loss: 1.1789 - accuracy: 0.4768 - val_loss: 1.2101 - val_accuracy: 0.4614\n",
            "Epoch 422/500\n",
            "24/24 [==============================] - 0s 7ms/step - loss: 1.1790 - accuracy: 0.4824 - val_loss: 1.2082 - val_accuracy: 0.4607\n",
            "Epoch 423/500\n",
            "24/24 [==============================] - 0s 4ms/step - loss: 1.1803 - accuracy: 0.4736 - val_loss: 1.2093 - val_accuracy: 0.4569\n",
            "Epoch 424/500\n",
            "24/24 [==============================] - 0s 4ms/step - loss: 1.1805 - accuracy: 0.4778 - val_loss: 1.2082 - val_accuracy: 0.4562\n",
            "Epoch 425/500\n",
            "24/24 [==============================] - 0s 4ms/step - loss: 1.1824 - accuracy: 0.4817 - val_loss: 1.2100 - val_accuracy: 0.4572\n",
            "Epoch 426/500\n",
            "24/24 [==============================] - 0s 4ms/step - loss: 1.1779 - accuracy: 0.4814 - val_loss: 1.2085 - val_accuracy: 0.4607\n",
            "Epoch 427/500\n",
            "24/24 [==============================] - 0s 4ms/step - loss: 1.1779 - accuracy: 0.4794 - val_loss: 1.2085 - val_accuracy: 0.4569\n",
            "Epoch 428/500\n",
            "24/24 [==============================] - 0s 4ms/step - loss: 1.1782 - accuracy: 0.4848 - val_loss: 1.2081 - val_accuracy: 0.4603\n",
            "Epoch 429/500\n",
            "24/24 [==============================] - 0s 4ms/step - loss: 1.1770 - accuracy: 0.4804 - val_loss: 1.2077 - val_accuracy: 0.4589\n",
            "Epoch 430/500\n",
            "24/24 [==============================] - 0s 4ms/step - loss: 1.1773 - accuracy: 0.4799 - val_loss: 1.2068 - val_accuracy: 0.4596\n",
            "Epoch 431/500\n",
            "24/24 [==============================] - 0s 4ms/step - loss: 1.1776 - accuracy: 0.4822 - val_loss: 1.2086 - val_accuracy: 0.4607\n",
            "Epoch 432/500\n",
            "24/24 [==============================] - 0s 6ms/step - loss: 1.1780 - accuracy: 0.4831 - val_loss: 1.2087 - val_accuracy: 0.4600\n",
            "Epoch 433/500\n",
            "24/24 [==============================] - 0s 5ms/step - loss: 1.1767 - accuracy: 0.4843 - val_loss: 1.2077 - val_accuracy: 0.4528\n",
            "Epoch 434/500\n",
            "24/24 [==============================] - 0s 4ms/step - loss: 1.1772 - accuracy: 0.4849 - val_loss: 1.2079 - val_accuracy: 0.4603\n",
            "Epoch 435/500\n",
            "24/24 [==============================] - 0s 6ms/step - loss: 1.1768 - accuracy: 0.4814 - val_loss: 1.2091 - val_accuracy: 0.4576\n",
            "Epoch 436/500\n",
            "24/24 [==============================] - 0s 4ms/step - loss: 1.1778 - accuracy: 0.4822 - val_loss: 1.2076 - val_accuracy: 0.4572\n",
            "Epoch 437/500\n",
            "24/24 [==============================] - 0s 4ms/step - loss: 1.1784 - accuracy: 0.4788 - val_loss: 1.2079 - val_accuracy: 0.4576\n",
            "Epoch 438/500\n",
            "24/24 [==============================] - 0s 5ms/step - loss: 1.1766 - accuracy: 0.4809 - val_loss: 1.2082 - val_accuracy: 0.4603\n",
            "Epoch 439/500\n",
            "24/24 [==============================] - 0s 4ms/step - loss: 1.1778 - accuracy: 0.4844 - val_loss: 1.2069 - val_accuracy: 0.4579\n",
            "Epoch 440/500\n",
            "24/24 [==============================] - 0s 4ms/step - loss: 1.1771 - accuracy: 0.4812 - val_loss: 1.2080 - val_accuracy: 0.4607\n",
            "Epoch 441/500\n",
            "24/24 [==============================] - 0s 5ms/step - loss: 1.1769 - accuracy: 0.4799 - val_loss: 1.2108 - val_accuracy: 0.4631\n",
            "Epoch 442/500\n",
            "24/24 [==============================] - 0s 5ms/step - loss: 1.1793 - accuracy: 0.4766 - val_loss: 1.2072 - val_accuracy: 0.4610\n",
            "Epoch 443/500\n",
            "24/24 [==============================] - 0s 4ms/step - loss: 1.1779 - accuracy: 0.4785 - val_loss: 1.2069 - val_accuracy: 0.4569\n",
            "Epoch 444/500\n",
            "24/24 [==============================] - 0s 4ms/step - loss: 1.1764 - accuracy: 0.4843 - val_loss: 1.2063 - val_accuracy: 0.4586\n",
            "Epoch 445/500\n",
            "24/24 [==============================] - 0s 5ms/step - loss: 1.1773 - accuracy: 0.4795 - val_loss: 1.2082 - val_accuracy: 0.4614\n",
            "Epoch 446/500\n",
            "24/24 [==============================] - 0s 6ms/step - loss: 1.1782 - accuracy: 0.4797 - val_loss: 1.2064 - val_accuracy: 0.4593\n",
            "Epoch 447/500\n",
            "24/24 [==============================] - 0s 4ms/step - loss: 1.1763 - accuracy: 0.4829 - val_loss: 1.2069 - val_accuracy: 0.4644\n",
            "Epoch 448/500\n",
            "24/24 [==============================] - 0s 4ms/step - loss: 1.1777 - accuracy: 0.4822 - val_loss: 1.2069 - val_accuracy: 0.4610\n",
            "Epoch 449/500\n",
            "24/24 [==============================] - 0s 4ms/step - loss: 1.1762 - accuracy: 0.4856 - val_loss: 1.2060 - val_accuracy: 0.4589\n",
            "Epoch 450/500\n",
            "24/24 [==============================] - 0s 5ms/step - loss: 1.1767 - accuracy: 0.4848 - val_loss: 1.2072 - val_accuracy: 0.4583\n",
            "Epoch 451/500\n",
            "24/24 [==============================] - 0s 4ms/step - loss: 1.1787 - accuracy: 0.4829 - val_loss: 1.2077 - val_accuracy: 0.4617\n",
            "Epoch 452/500\n",
            "24/24 [==============================] - 0s 4ms/step - loss: 1.1773 - accuracy: 0.4788 - val_loss: 1.2061 - val_accuracy: 0.4600\n",
            "Epoch 453/500\n",
            "24/24 [==============================] - 0s 5ms/step - loss: 1.1767 - accuracy: 0.4810 - val_loss: 1.2078 - val_accuracy: 0.4614\n",
            "Epoch 454/500\n",
            "24/24 [==============================] - 0s 4ms/step - loss: 1.1758 - accuracy: 0.4854 - val_loss: 1.2070 - val_accuracy: 0.4589\n",
            "Epoch 455/500\n",
            "24/24 [==============================] - 0s 5ms/step - loss: 1.1763 - accuracy: 0.4817 - val_loss: 1.2074 - val_accuracy: 0.4634\n",
            "Epoch 456/500\n",
            "24/24 [==============================] - 0s 4ms/step - loss: 1.1762 - accuracy: 0.4805 - val_loss: 1.2062 - val_accuracy: 0.4603\n",
            "Epoch 457/500\n",
            "24/24 [==============================] - 0s 4ms/step - loss: 1.1781 - accuracy: 0.4805 - val_loss: 1.2075 - val_accuracy: 0.4620\n",
            "Epoch 458/500\n",
            "24/24 [==============================] - 0s 4ms/step - loss: 1.1765 - accuracy: 0.4805 - val_loss: 1.2101 - val_accuracy: 0.4600\n",
            "Epoch 459/500\n",
            "24/24 [==============================] - 0s 4ms/step - loss: 1.1771 - accuracy: 0.4844 - val_loss: 1.2061 - val_accuracy: 0.4651\n",
            "Epoch 460/500\n",
            "24/24 [==============================] - 0s 4ms/step - loss: 1.1763 - accuracy: 0.4866 - val_loss: 1.2060 - val_accuracy: 0.4600\n",
            "Epoch 461/500\n",
            "24/24 [==============================] - 0s 4ms/step - loss: 1.1771 - accuracy: 0.4832 - val_loss: 1.2073 - val_accuracy: 0.4576\n",
            "Epoch 462/500\n",
            "24/24 [==============================] - 0s 4ms/step - loss: 1.1791 - accuracy: 0.4826 - val_loss: 1.2064 - val_accuracy: 0.4624\n",
            "Epoch 463/500\n",
            "24/24 [==============================] - 0s 5ms/step - loss: 1.1768 - accuracy: 0.4821 - val_loss: 1.2068 - val_accuracy: 0.4586\n",
            "Epoch 464/500\n",
            "24/24 [==============================] - 0s 5ms/step - loss: 1.1762 - accuracy: 0.4836 - val_loss: 1.2065 - val_accuracy: 0.4565\n",
            "Epoch 465/500\n",
            "24/24 [==============================] - 0s 5ms/step - loss: 1.1776 - accuracy: 0.4839 - val_loss: 1.2072 - val_accuracy: 0.4603\n",
            "Epoch 466/500\n",
            "24/24 [==============================] - 0s 5ms/step - loss: 1.1772 - accuracy: 0.4839 - val_loss: 1.2057 - val_accuracy: 0.4600\n",
            "Epoch 467/500\n",
            "24/24 [==============================] - 0s 5ms/step - loss: 1.1759 - accuracy: 0.4849 - val_loss: 1.2066 - val_accuracy: 0.4610\n",
            "Epoch 468/500\n",
            "24/24 [==============================] - 0s 5ms/step - loss: 1.1752 - accuracy: 0.4848 - val_loss: 1.2059 - val_accuracy: 0.4627\n",
            "Epoch 469/500\n",
            "24/24 [==============================] - 0s 5ms/step - loss: 1.1764 - accuracy: 0.4866 - val_loss: 1.2058 - val_accuracy: 0.4638\n",
            "Epoch 470/500\n",
            "24/24 [==============================] - 0s 4ms/step - loss: 1.1771 - accuracy: 0.4821 - val_loss: 1.2090 - val_accuracy: 0.4607\n",
            "Epoch 471/500\n",
            "24/24 [==============================] - 0s 5ms/step - loss: 1.1752 - accuracy: 0.4846 - val_loss: 1.2058 - val_accuracy: 0.4617\n",
            "Epoch 472/500\n",
            "24/24 [==============================] - 0s 5ms/step - loss: 1.1765 - accuracy: 0.4851 - val_loss: 1.2061 - val_accuracy: 0.4603\n",
            "Epoch 473/500\n",
            "24/24 [==============================] - 0s 5ms/step - loss: 1.1756 - accuracy: 0.4819 - val_loss: 1.2092 - val_accuracy: 0.4627\n",
            "Epoch 474/500\n",
            "24/24 [==============================] - 0s 4ms/step - loss: 1.1762 - accuracy: 0.4871 - val_loss: 1.2075 - val_accuracy: 0.4603\n",
            "Epoch 475/500\n",
            "24/24 [==============================] - 0s 4ms/step - loss: 1.1768 - accuracy: 0.4829 - val_loss: 1.2076 - val_accuracy: 0.4596\n",
            "Epoch 476/500\n",
            "24/24 [==============================] - 0s 5ms/step - loss: 1.1785 - accuracy: 0.4799 - val_loss: 1.2065 - val_accuracy: 0.4617\n",
            "Epoch 477/500\n",
            "24/24 [==============================] - 0s 4ms/step - loss: 1.1767 - accuracy: 0.4805 - val_loss: 1.2069 - val_accuracy: 0.4620\n",
            "Epoch 478/500\n",
            "24/24 [==============================] - 0s 4ms/step - loss: 1.1771 - accuracy: 0.4822 - val_loss: 1.2057 - val_accuracy: 0.4641\n",
            "Epoch 479/500\n",
            "24/24 [==============================] - 0s 4ms/step - loss: 1.1753 - accuracy: 0.4831 - val_loss: 1.2064 - val_accuracy: 0.4617\n",
            "Epoch 480/500\n",
            "24/24 [==============================] - 0s 5ms/step - loss: 1.1752 - accuracy: 0.4816 - val_loss: 1.2062 - val_accuracy: 0.4614\n",
            "Epoch 481/500\n",
            "24/24 [==============================] - 0s 4ms/step - loss: 1.1752 - accuracy: 0.4863 - val_loss: 1.2066 - val_accuracy: 0.4624\n",
            "Epoch 482/500\n",
            "24/24 [==============================] - 0s 5ms/step - loss: 1.1746 - accuracy: 0.4854 - val_loss: 1.2053 - val_accuracy: 0.4610\n",
            "Epoch 483/500\n",
            "24/24 [==============================] - 0s 4ms/step - loss: 1.1754 - accuracy: 0.4848 - val_loss: 1.2063 - val_accuracy: 0.4641\n",
            "Epoch 484/500\n",
            "24/24 [==============================] - 0s 5ms/step - loss: 1.1762 - accuracy: 0.4775 - val_loss: 1.2076 - val_accuracy: 0.4589\n",
            "Epoch 485/500\n",
            "24/24 [==============================] - 0s 4ms/step - loss: 1.1771 - accuracy: 0.4841 - val_loss: 1.2063 - val_accuracy: 0.4658\n",
            "Epoch 486/500\n",
            "24/24 [==============================] - 0s 4ms/step - loss: 1.1749 - accuracy: 0.4849 - val_loss: 1.2059 - val_accuracy: 0.4651\n",
            "Epoch 487/500\n",
            "24/24 [==============================] - 0s 4ms/step - loss: 1.1749 - accuracy: 0.4866 - val_loss: 1.2055 - val_accuracy: 0.4603\n",
            "Epoch 488/500\n",
            "24/24 [==============================] - 0s 4ms/step - loss: 1.1752 - accuracy: 0.4841 - val_loss: 1.2050 - val_accuracy: 0.4627\n",
            "Epoch 489/500\n",
            "24/24 [==============================] - 0s 7ms/step - loss: 1.1749 - accuracy: 0.4871 - val_loss: 1.2059 - val_accuracy: 0.4586\n",
            "Epoch 490/500\n",
            "24/24 [==============================] - 0s 4ms/step - loss: 1.1749 - accuracy: 0.4844 - val_loss: 1.2059 - val_accuracy: 0.4617\n",
            "Epoch 491/500\n",
            "24/24 [==============================] - 0s 5ms/step - loss: 1.1740 - accuracy: 0.4844 - val_loss: 1.2064 - val_accuracy: 0.4620\n",
            "Epoch 492/500\n",
            "24/24 [==============================] - 0s 5ms/step - loss: 1.1746 - accuracy: 0.4832 - val_loss: 1.2059 - val_accuracy: 0.4634\n",
            "Epoch 493/500\n",
            "24/24 [==============================] - 0s 5ms/step - loss: 1.1747 - accuracy: 0.4831 - val_loss: 1.2055 - val_accuracy: 0.4624\n",
            "Epoch 494/500\n",
            "24/24 [==============================] - 0s 4ms/step - loss: 1.1757 - accuracy: 0.4821 - val_loss: 1.2089 - val_accuracy: 0.4620\n",
            "Epoch 495/500\n",
            "24/24 [==============================] - 0s 4ms/step - loss: 1.1769 - accuracy: 0.4831 - val_loss: 1.2089 - val_accuracy: 0.4586\n",
            "Epoch 496/500\n",
            "24/24 [==============================] - 0s 5ms/step - loss: 1.1771 - accuracy: 0.4834 - val_loss: 1.2046 - val_accuracy: 0.4610\n",
            "Epoch 497/500\n",
            "24/24 [==============================] - 0s 4ms/step - loss: 1.1744 - accuracy: 0.4821 - val_loss: 1.2061 - val_accuracy: 0.4648\n",
            "Epoch 498/500\n",
            "24/24 [==============================] - 0s 5ms/step - loss: 1.1740 - accuracy: 0.4824 - val_loss: 1.2057 - val_accuracy: 0.4641\n",
            "Epoch 499/500\n",
            "24/24 [==============================] - 0s 5ms/step - loss: 1.1746 - accuracy: 0.4849 - val_loss: 1.2065 - val_accuracy: 0.4600\n",
            "Epoch 500/500\n",
            "24/24 [==============================] - 0s 5ms/step - loss: 1.1753 - accuracy: 0.4836 - val_loss: 1.2067 - val_accuracy: 0.4607\n"
          ]
        },
        {
          "output_type": "execute_result",
          "data": {
            "text/plain": [
              "<keras.callbacks.History at 0x7ff6b760b2b0>"
            ]
          },
          "metadata": {},
          "execution_count": 48
        }
      ]
    },
    {
      "cell_type": "code",
      "source": [
        "metrics = pd.DataFrame(ai_brain.history.history)"
      ],
      "metadata": {
        "id": "u8fXf0XLB92V"
      },
      "execution_count": null,
      "outputs": []
    },
    {
      "cell_type": "code",
      "source": [
        "metrics.head()"
      ],
      "metadata": {
        "colab": {
          "base_uri": "https://localhost:8080/",
          "height": 206
        },
        "id": "gKYPLOWMCZ7G",
        "outputId": "736d6ca6-7efd-4b6f-c5dd-10e046d823cf"
      },
      "execution_count": null,
      "outputs": [
        {
          "output_type": "execute_result",
          "data": {
            "text/plain": [
              "       loss  accuracy  val_loss  val_accuracy\n",
              "0  2.004621  0.241368  1.666932      0.252147\n",
              "1  1.592616  0.261341  1.435256      0.309516\n",
              "2  1.390265  0.330061  1.345813      0.358983\n",
              "3  1.331856  0.373223  1.328313      0.373411\n",
              "4  1.314127  0.394042  1.317685      0.389900"
            ],
            "text/html": [
              "\n",
              "  <div id=\"df-14fad132-0765-48bb-a2b3-5c5135bef066\" class=\"colab-df-container\">\n",
              "    <div>\n",
              "<style scoped>\n",
              "    .dataframe tbody tr th:only-of-type {\n",
              "        vertical-align: middle;\n",
              "    }\n",
              "\n",
              "    .dataframe tbody tr th {\n",
              "        vertical-align: top;\n",
              "    }\n",
              "\n",
              "    .dataframe thead th {\n",
              "        text-align: right;\n",
              "    }\n",
              "</style>\n",
              "<table border=\"1\" class=\"dataframe\">\n",
              "  <thead>\n",
              "    <tr style=\"text-align: right;\">\n",
              "      <th></th>\n",
              "      <th>loss</th>\n",
              "      <th>accuracy</th>\n",
              "      <th>val_loss</th>\n",
              "      <th>val_accuracy</th>\n",
              "    </tr>\n",
              "  </thead>\n",
              "  <tbody>\n",
              "    <tr>\n",
              "      <th>0</th>\n",
              "      <td>2.004621</td>\n",
              "      <td>0.241368</td>\n",
              "      <td>1.666932</td>\n",
              "      <td>0.252147</td>\n",
              "    </tr>\n",
              "    <tr>\n",
              "      <th>1</th>\n",
              "      <td>1.592616</td>\n",
              "      <td>0.261341</td>\n",
              "      <td>1.435256</td>\n",
              "      <td>0.309516</td>\n",
              "    </tr>\n",
              "    <tr>\n",
              "      <th>2</th>\n",
              "      <td>1.390265</td>\n",
              "      <td>0.330061</td>\n",
              "      <td>1.345813</td>\n",
              "      <td>0.358983</td>\n",
              "    </tr>\n",
              "    <tr>\n",
              "      <th>3</th>\n",
              "      <td>1.331856</td>\n",
              "      <td>0.373223</td>\n",
              "      <td>1.328313</td>\n",
              "      <td>0.373411</td>\n",
              "    </tr>\n",
              "    <tr>\n",
              "      <th>4</th>\n",
              "      <td>1.314127</td>\n",
              "      <td>0.394042</td>\n",
              "      <td>1.317685</td>\n",
              "      <td>0.389900</td>\n",
              "    </tr>\n",
              "  </tbody>\n",
              "</table>\n",
              "</div>\n",
              "    <div class=\"colab-df-buttons\">\n",
              "\n",
              "  <div class=\"colab-df-container\">\n",
              "    <button class=\"colab-df-convert\" onclick=\"convertToInteractive('df-14fad132-0765-48bb-a2b3-5c5135bef066')\"\n",
              "            title=\"Convert this dataframe to an interactive table.\"\n",
              "            style=\"display:none;\">\n",
              "\n",
              "  <svg xmlns=\"http://www.w3.org/2000/svg\" height=\"24px\" viewBox=\"0 -960 960 960\">\n",
              "    <path d=\"M120-120v-720h720v720H120Zm60-500h600v-160H180v160Zm220 220h160v-160H400v160Zm0 220h160v-160H400v160ZM180-400h160v-160H180v160Zm440 0h160v-160H620v160ZM180-180h160v-160H180v160Zm440 0h160v-160H620v160Z\"/>\n",
              "  </svg>\n",
              "    </button>\n",
              "\n",
              "  <style>\n",
              "    .colab-df-container {\n",
              "      display:flex;\n",
              "      gap: 12px;\n",
              "    }\n",
              "\n",
              "    .colab-df-convert {\n",
              "      background-color: #E8F0FE;\n",
              "      border: none;\n",
              "      border-radius: 50%;\n",
              "      cursor: pointer;\n",
              "      display: none;\n",
              "      fill: #1967D2;\n",
              "      height: 32px;\n",
              "      padding: 0 0 0 0;\n",
              "      width: 32px;\n",
              "    }\n",
              "\n",
              "    .colab-df-convert:hover {\n",
              "      background-color: #E2EBFA;\n",
              "      box-shadow: 0px 1px 2px rgba(60, 64, 67, 0.3), 0px 1px 3px 1px rgba(60, 64, 67, 0.15);\n",
              "      fill: #174EA6;\n",
              "    }\n",
              "\n",
              "    .colab-df-buttons div {\n",
              "      margin-bottom: 4px;\n",
              "    }\n",
              "\n",
              "    [theme=dark] .colab-df-convert {\n",
              "      background-color: #3B4455;\n",
              "      fill: #D2E3FC;\n",
              "    }\n",
              "\n",
              "    [theme=dark] .colab-df-convert:hover {\n",
              "      background-color: #434B5C;\n",
              "      box-shadow: 0px 1px 3px 1px rgba(0, 0, 0, 0.15);\n",
              "      filter: drop-shadow(0px 1px 2px rgba(0, 0, 0, 0.3));\n",
              "      fill: #FFFFFF;\n",
              "    }\n",
              "  </style>\n",
              "\n",
              "    <script>\n",
              "      const buttonEl =\n",
              "        document.querySelector('#df-14fad132-0765-48bb-a2b3-5c5135bef066 button.colab-df-convert');\n",
              "      buttonEl.style.display =\n",
              "        google.colab.kernel.accessAllowed ? 'block' : 'none';\n",
              "\n",
              "      async function convertToInteractive(key) {\n",
              "        const element = document.querySelector('#df-14fad132-0765-48bb-a2b3-5c5135bef066');\n",
              "        const dataTable =\n",
              "          await google.colab.kernel.invokeFunction('convertToInteractive',\n",
              "                                                    [key], {});\n",
              "        if (!dataTable) return;\n",
              "\n",
              "        const docLinkHtml = 'Like what you see? Visit the ' +\n",
              "          '<a target=\"_blank\" href=https://colab.research.google.com/notebooks/data_table.ipynb>data table notebook</a>'\n",
              "          + ' to learn more about interactive tables.';\n",
              "        element.innerHTML = '';\n",
              "        dataTable['output_type'] = 'display_data';\n",
              "        await google.colab.output.renderOutput(dataTable, element);\n",
              "        const docLink = document.createElement('div');\n",
              "        docLink.innerHTML = docLinkHtml;\n",
              "        element.appendChild(docLink);\n",
              "      }\n",
              "    </script>\n",
              "  </div>\n",
              "\n",
              "\n",
              "<div id=\"df-9515f800-eae4-48a5-92a7-644696e275b7\">\n",
              "  <button class=\"colab-df-quickchart\" onclick=\"quickchart('df-9515f800-eae4-48a5-92a7-644696e275b7')\"\n",
              "            title=\"Suggest charts.\"\n",
              "            style=\"display:none;\">\n",
              "\n",
              "<svg xmlns=\"http://www.w3.org/2000/svg\" height=\"24px\"viewBox=\"0 0 24 24\"\n",
              "     width=\"24px\">\n",
              "    <g>\n",
              "        <path d=\"M19 3H5c-1.1 0-2 .9-2 2v14c0 1.1.9 2 2 2h14c1.1 0 2-.9 2-2V5c0-1.1-.9-2-2-2zM9 17H7v-7h2v7zm4 0h-2V7h2v10zm4 0h-2v-4h2v4z\"/>\n",
              "    </g>\n",
              "</svg>\n",
              "  </button>\n",
              "\n",
              "<style>\n",
              "  .colab-df-quickchart {\n",
              "    background-color: #E8F0FE;\n",
              "    border: none;\n",
              "    border-radius: 50%;\n",
              "    cursor: pointer;\n",
              "    display: none;\n",
              "    fill: #1967D2;\n",
              "    height: 32px;\n",
              "    padding: 0 0 0 0;\n",
              "    width: 32px;\n",
              "  }\n",
              "\n",
              "  .colab-df-quickchart:hover {\n",
              "    background-color: #E2EBFA;\n",
              "    box-shadow: 0px 1px 2px rgba(60, 64, 67, 0.3), 0px 1px 3px 1px rgba(60, 64, 67, 0.15);\n",
              "    fill: #174EA6;\n",
              "  }\n",
              "\n",
              "  [theme=dark] .colab-df-quickchart {\n",
              "    background-color: #3B4455;\n",
              "    fill: #D2E3FC;\n",
              "  }\n",
              "\n",
              "  [theme=dark] .colab-df-quickchart:hover {\n",
              "    background-color: #434B5C;\n",
              "    box-shadow: 0px 1px 3px 1px rgba(0, 0, 0, 0.15);\n",
              "    filter: drop-shadow(0px 1px 2px rgba(0, 0, 0, 0.3));\n",
              "    fill: #FFFFFF;\n",
              "  }\n",
              "</style>\n",
              "\n",
              "  <script>\n",
              "    async function quickchart(key) {\n",
              "      const charts = await google.colab.kernel.invokeFunction(\n",
              "          'suggestCharts', [key], {});\n",
              "    }\n",
              "    (() => {\n",
              "      let quickchartButtonEl =\n",
              "        document.querySelector('#df-9515f800-eae4-48a5-92a7-644696e275b7 button');\n",
              "      quickchartButtonEl.style.display =\n",
              "        google.colab.kernel.accessAllowed ? 'block' : 'none';\n",
              "    })();\n",
              "  </script>\n",
              "</div>\n",
              "    </div>\n",
              "  </div>\n"
            ]
          },
          "metadata": {},
          "execution_count": 50
        }
      ]
    },
    {
      "cell_type": "code",
      "source": [
        "metrics[['accuracy','val_accuracy']].plot()"
      ],
      "metadata": {
        "colab": {
          "base_uri": "https://localhost:8080/",
          "height": 448
        },
        "id": "_xrEWi_fCZ-j",
        "outputId": "7c528276-10ba-4d94-dd6d-9fdb7a15df97"
      },
      "execution_count": null,
      "outputs": [
        {
          "output_type": "execute_result",
          "data": {
            "text/plain": [
              "<Axes: >"
            ]
          },
          "metadata": {},
          "execution_count": 51
        },
        {
          "output_type": "display_data",
          "data": {
            "text/plain": [
              "<Figure size 640x480 with 1 Axes>"
            ],
            "image/png": "[encoded data removed]"
          },
          "metadata": {}
        }
      ]
    },
    {
      "cell_type": "code",
      "source": [
        "metrics[['loss','val_loss']].plot()"
      ],
      "metadata": {
        "colab": {
          "base_uri": "https://localhost:8080/",
          "height": 448
        },
        "id": "7LwIsUppCg9A",
        "outputId": "d7b199db-d8bd-4442-90d2-f10d3134076b"
      },
      "execution_count": null,
      "outputs": [
        {
          "output_type": "execute_result",
          "data": {
            "text/plain": [
              "<Axes: >"
            ]
          },
          "metadata": {},
          "execution_count": 52
        },
        {
          "output_type": "display_data",
          "data": {
            "text/plain": [
              "<Figure size 640x480 with 1 Axes>"
            ],
            "image/png": "[encoded data removed]"
          },
          "metadata": {}
        }
      ]
    },
    {
      "cell_type": "code",
      "source": [
        "metrics[['loss','val_loss']].plot()"
      ],
      "metadata": {
        "colab": {
          "base_uri": "https://localhost:8080/",
          "height": 448
        },
        "id": "xpt0KrHMCpfo",
        "outputId": "45b79ef0-7a22-4e31-f36c-aedc86a18f12"
      },
      "execution_count": null,
      "outputs": [
        {
          "output_type": "execute_result",
          "data": {
            "text/plain": [
              "<Axes: >"
            ]
          },
          "metadata": {},
          "execution_count": 53
        },
        {
          "output_type": "display_data",
          "data": {
            "text/plain": [
              "<Figure size 640x480 with 1 Axes>"
            ],
            "image/png": "[encoded data removed]"
          },
          "metadata": {}
        }
      ]
    },
    {
      "cell_type": "code",
      "source": [
        "x_test_predictions = np.argmax(ai_brain.predict(X_test_scaled), axis=1)"
      ],
      "metadata": {
        "colab": {
          "base_uri": "https://localhost:8080/"
        },
        "id": "CWa9CWAvCph3",
        "outputId": "53a9f3e2-54dc-40fe-ecca-0e25798e28b6"
      },
      "execution_count": null,
      "outputs": [
        {
          "output_type": "stream",
          "name": "stdout",
          "text": [
            "91/91 [==============================] - 0s 2ms/step\n"
          ]
        }
      ]
    },
    {
      "cell_type": "code",
      "source": [
        "x_test_predictions.shape"
      ],
      "metadata": {
        "colab": {
          "base_uri": "https://localhost:8080/"
        },
        "id": "pZkkIu4uCplk",
        "outputId": "3e70b224-2cca-4c50-b092-317df3b973b5"
      },
      "execution_count": null,
      "outputs": [
        {
          "output_type": "execute_result",
          "data": {
            "text/plain": [
              "(2911,)"
            ]
          },
          "metadata": {},
          "execution_count": 55
        }
      ]
    },
    {
      "cell_type": "code",
      "source": [
        "y_test_truevalue = np.argmax(y_test,axis=1)"
      ],
      "metadata": {
        "id": "6GmTfRL0C_Qz"
      },
      "execution_count": null,
      "outputs": []
    },
    {
      "cell_type": "code",
      "source": [
        "y_test_truevalue.shape"
      ],
      "metadata": {
        "colab": {
          "base_uri": "https://localhost:8080/"
        },
        "id": "8V4LHWslDAzA",
        "outputId": "0a6b0757-db89-4eed-aabb-a0710d7b81c2"
      },
      "execution_count": null,
      "outputs": [
        {
          "output_type": "execute_result",
          "data": {
            "text/plain": [
              "(2911,)"
            ]
          },
          "metadata": {},
          "execution_count": 57
        }
      ]
    },
    {
      "cell_type": "code",
      "source": [
        "\n",
        "print(confusion_matrix(y_test_truevalue,x_test_predictions))"
      ],
      "metadata": {
        "colab": {
          "base_uri": "https://localhost:8080/"
        },
        "id": "zSJTY_mRDA2Z",
        "outputId": "b5128099-cbc9-4e41-d8c0-ef6356b79752"
      },
      "execution_count": null,
      "outputs": [
        {
          "output_type": "stream",
          "name": "stdout",
          "text": [
            "[[356  97 115 189]\n",
            " [246 125 204 111]\n",
            " [140  84 365  97]\n",
            " [184  50  53 495]]\n"
          ]
        }
      ]
    },
    {
      "cell_type": "code",
      "source": [
        "print(classification_report(y_test_truevalue,x_test_predictions))\n"
      ],
      "metadata": {
        "colab": {
          "base_uri": "https://localhost:8080/"
        },
        "id": "IRZMKevTDJcN",
        "outputId": "8ef4329f-91d0-4c97-c05f-f51d604d9102"
      },
      "execution_count": null,
      "outputs": [
        {
          "output_type": "stream",
          "name": "stdout",
          "text": [
            "              precision    recall  f1-score   support\n",
            "\n",
            "           0       0.38      0.47      0.42       757\n",
            "           1       0.35      0.18      0.24       686\n",
            "           2       0.50      0.53      0.51       686\n",
            "           3       0.55      0.63      0.59       782\n",
            "\n",
            "    accuracy                           0.46      2911\n",
            "   macro avg       0.45      0.45      0.44      2911\n",
            "weighted avg       0.45      0.46      0.45      2911\n",
            "\n"
          ]
        }
      ]
    },
    {
      "cell_type": "code",
      "source": [
        "ai_brain.save('customer_classification_model.h5')"
      ],
      "metadata": {
        "id": "xI7_kQKhDJeH"
      },
      "execution_count": null,
      "outputs": []
    },
    {
      "cell_type": "code",
      "source": [
        "with open('customer_data.pickle', 'wb') as fh:\n",
        "   pickle.dump([X_train_scaled,y_train,X_test_scaled,y_test,customers_1,customer_df_cleaned,scaler_age,enc,one_hot_enc,le], fh)\n"
      ],
      "metadata": {
        "id": "oTEIGAHbDJhp"
      },
      "execution_count": null,
      "outputs": []
    },
    {
      "cell_type": "code",
      "source": [
        "ai_brain = load_model('customer_classification_model.h5')"
      ],
      "metadata": {
        "id": "rll7s7NSDUpv"
      },
      "execution_count": null,
      "outputs": []
    },
    {
      "cell_type": "code",
      "source": [
        "with open('customer_data.pickle', 'rb') as fh:\n",
        "   [X_train_scaled,y_train,X_test_scaled,y_test,customers_1,customer_df_cleaned,scaler_age,enc,one_hot_enc,le]=pickle.load(fh)\n",
        "\n"
      ],
      "metadata": {
        "id": "LVPeZJjEDjEv"
      },
      "execution_count": null,
      "outputs": []
    },
    {
      "cell_type": "code",
      "source": [
        "x_single_prediction = np.argmax(ai_brain.predict(X_test_scaled[1:2,:]), axis=1)\n"
      ],
      "metadata": {
        "colab": {
          "base_uri": "https://localhost:8080/"
        },
        "id": "_-rV4Lm3Dkz1",
        "outputId": "4ddcf9ec-5b3f-478c-e8c7-a071092c5c93"
      },
      "execution_count": null,
      "outputs": [
        {
          "output_type": "stream",
          "name": "stdout",
          "text": [
            "1/1 [==============================] - 0s 62ms/step\n"
          ]
        }
      ]
    },
    {
      "cell_type": "code",
      "source": [
        "print(x_single_prediction)\n"
      ],
      "metadata": {
        "id": "jb_2IU2oDrhA",
        "outputId": "04c906f6-6dff-4a57-eb53-1ebef0375ec9",
        "colab": {
          "base_uri": "https://localhost:8080/"
        }
      },
      "execution_count": null,
      "outputs": [
        {
          "output_type": "stream",
          "name": "stdout",
          "text": [
            "[2]\n"
          ]
        }
      ]
    }
  ]
}
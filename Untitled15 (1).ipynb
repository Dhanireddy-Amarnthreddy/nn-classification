{
  "nbformat": 4,
  "nbformat_minor": 0,
  "metadata": {
    "colab": {
      "provenance": [],
      "toc_visible": true
    },
    "kernelspec": {
      "name": "python3",
      "display_name": "Python 3"
    },
    "language_info": {
      "name": "python"
    }
  },
  "cells": [
    {
      "cell_type": "code",
      "execution_count": null,
      "metadata": {
        "id": "A6MCW65v6lhQ"
      },
      "outputs": [],
      "source": [
        "import pandas as pd\n",
        "from sklearn.model_selection import train_test_split\n",
        "from tensorflow.keras.models import Sequential\n",
        "from tensorflow.keras.models import load_model\n",
        "import pickle\n",
        "from tensorflow.keras.layers import Dense\n",
        "from tensorflow.keras.layers import Dropout\n",
        "from tensorflow.keras.layers import BatchNormalization\n",
        "import tensorflow as tf\n",
        "import seaborn as sns\n",
        "from tensorflow.keras.callbacks import EarlyStopping\n",
        "from sklearn.preprocessing import MinMaxScaler\n",
        "from sklearn.preprocessing import LabelEncoder\n",
        "from sklearn.preprocessing import OneHotEncoder\n",
        "from sklearn.preprocessing import OrdinalEncoder\n",
        "from sklearn.metrics import classification_report,confusion_matrix\n",
        "import numpy as np\n",
        "import matplotlib.pylab as plt"
      ]
    },
    {
      "cell_type": "code",
      "source": [
        "customer_df = pd.read_csv('customers.csv')"
      ],
      "metadata": {
        "id": "MGVT3t1G9QNB"
      },
      "execution_count": null,
      "outputs": []
    },
    {
      "cell_type": "code",
      "source": [
        "customer_df.columns"
      ],
      "metadata": {
        "colab": {
          "base_uri": "https://localhost:8080/"
        },
        "id": "qEIljzt-9d06",
        "outputId": "46eadb5e-d6c6-4201-c470-5b987ab0bc88"
      },
      "execution_count": null,
      "outputs": [
        {
          "output_type": "execute_result",
          "data": {
            "text/plain": [
              "Index(['ID', 'Gender', 'Ever_Married', 'Age', 'Graduated', 'Profession',\n",
              "       'Work_Experience', 'Spending_Score', 'Family_Size', 'Var_1',\n",
              "       'Segmentation'],\n",
              "      dtype='object')"
            ]
          },
          "metadata": {},
          "execution_count": 3
        }
      ]
    },
    {
      "cell_type": "code",
      "source": [
        "customer_df.dtypes"
      ],
      "metadata": {
        "colab": {
          "base_uri": "https://localhost:8080/"
        },
        "id": "GhVaa-OR9ojI",
        "outputId": "1a47ccf6-273b-474f-ee9c-4af764aa0591"
      },
      "execution_count": null,
      "outputs": [
        {
          "output_type": "execute_result",
          "data": {
            "text/plain": [
              "ID                   int64\n",
              "Gender              object\n",
              "Ever_Married        object\n",
              "Age                  int64\n",
              "Graduated           object\n",
              "Profession          object\n",
              "Work_Experience    float64\n",
              "Spending_Score      object\n",
              "Family_Size        float64\n",
              "Var_1               object\n",
              "Segmentation        object\n",
              "dtype: object"
            ]
          },
          "metadata": {},
          "execution_count": 4
        }
      ]
    },
    {
      "cell_type": "code",
      "source": [
        "customer_df.shape"
      ],
      "metadata": {
        "colab": {
          "base_uri": "https://localhost:8080/"
        },
        "id": "QJpqqAxq9qj-",
        "outputId": "13cd2b7b-f9ee-4633-f642-9c9076c10794"
      },
      "execution_count": null,
      "outputs": [
        {
          "output_type": "execute_result",
          "data": {
            "text/plain": [
              "(10695, 11)"
            ]
          },
          "metadata": {},
          "execution_count": 5
        }
      ]
    },
    {
      "cell_type": "code",
      "source": [
        "customer_df.isnull().sum()"
      ],
      "metadata": {
        "colab": {
          "base_uri": "https://localhost:8080/"
        },
        "id": "hdM0ct-8-MIK",
        "outputId": "a4660805-3443-407e-eecc-8292114677c5"
      },
      "execution_count": null,
      "outputs": [
        {
          "output_type": "execute_result",
          "data": {
            "text/plain": [
              "ID                    0\n",
              "Gender                0\n",
              "Ever_Married        190\n",
              "Age                   0\n",
              "Graduated           102\n",
              "Profession          162\n",
              "Work_Experience    1098\n",
              "Spending_Score        0\n",
              "Family_Size         448\n",
              "Var_1               108\n",
              "Segmentation          0\n",
              "dtype: int64"
            ]
          },
          "metadata": {},
          "execution_count": 6
        }
      ]
    },
    {
      "cell_type": "code",
      "source": [
        "customer_df_cleaned = customer_df.dropna(axis=0)"
      ],
      "metadata": {
        "id": "HdYP3xTz-MJh"
      },
      "execution_count": null,
      "outputs": []
    },
    {
      "cell_type": "code",
      "source": [
        "customer_df_cleaned.isnull().sum()"
      ],
      "metadata": {
        "colab": {
          "base_uri": "https://localhost:8080/"
        },
        "id": "79ahEcXw-MM_",
        "outputId": "2f80962a-c420-4be1-b2d9-c99d115130ce"
      },
      "execution_count": null,
      "outputs": [
        {
          "output_type": "execute_result",
          "data": {
            "text/plain": [
              "ID                 0\n",
              "Gender             0\n",
              "Ever_Married       0\n",
              "Age                0\n",
              "Graduated          0\n",
              "Profession         0\n",
              "Work_Experience    0\n",
              "Spending_Score     0\n",
              "Family_Size        0\n",
              "Var_1              0\n",
              "Segmentation       0\n",
              "dtype: int64"
            ]
          },
          "metadata": {},
          "execution_count": 8
        }
      ]
    },
    {
      "cell_type": "code",
      "source": [
        "customer_df_cleaned.shape"
      ],
      "metadata": {
        "colab": {
          "base_uri": "https://localhost:8080/"
        },
        "id": "H6iZXVBP-aaG",
        "outputId": "8e6b3164-7c5f-48f0-cf9d-bf40f189c354"
      },
      "execution_count": null,
      "outputs": [
        {
          "output_type": "execute_result",
          "data": {
            "text/plain": [
              "(8819, 11)"
            ]
          },
          "metadata": {},
          "execution_count": 9
        }
      ]
    },
    {
      "cell_type": "code",
      "source": [
        "customer_df_cleaned.dtypes"
      ],
      "metadata": {
        "colab": {
          "base_uri": "https://localhost:8080/"
        },
        "id": "ThBV7cAS-acQ",
        "outputId": "76af5244-9aa1-4d3d-9b02-6428e97ebdca"
      },
      "execution_count": null,
      "outputs": [
        {
          "output_type": "execute_result",
          "data": {
            "text/plain": [
              "ID                   int64\n",
              "Gender              object\n",
              "Ever_Married        object\n",
              "Age                  int64\n",
              "Graduated           object\n",
              "Profession          object\n",
              "Work_Experience    float64\n",
              "Spending_Score      object\n",
              "Family_Size        float64\n",
              "Var_1               object\n",
              "Segmentation        object\n",
              "dtype: object"
            ]
          },
          "metadata": {},
          "execution_count": 10
        }
      ]
    },
    {
      "cell_type": "code",
      "source": [
        "customer_df_cleaned['Gender'].unique()"
      ],
      "metadata": {
        "colab": {
          "base_uri": "https://localhost:8080/"
        },
        "id": "z_CUZk7T-af1",
        "outputId": "1057bfc7-3153-4f1c-c85c-a0e7b5491df6"
      },
      "execution_count": null,
      "outputs": [
        {
          "output_type": "execute_result",
          "data": {
            "text/plain": [
              "array(['Male', 'Female'], dtype=object)"
            ]
          },
          "metadata": {},
          "execution_count": 11
        }
      ]
    },
    {
      "cell_type": "code",
      "source": [
        "customer_df_cleaned['Ever_Married'].unique()"
      ],
      "metadata": {
        "colab": {
          "base_uri": "https://localhost:8080/"
        },
        "id": "nuWDOtEq-k_R",
        "outputId": "272c0603-ecd6-4ce0-fe5a-9d54cb08bf33"
      },
      "execution_count": null,
      "outputs": [
        {
          "output_type": "execute_result",
          "data": {
            "text/plain": [
              "array(['No', 'Yes'], dtype=object)"
            ]
          },
          "metadata": {},
          "execution_count": 12
        }
      ]
    },
    {
      "cell_type": "code",
      "source": [
        "customer_df_cleaned['Graduated'].unique()"
      ],
      "metadata": {
        "colab": {
          "base_uri": "https://localhost:8080/"
        },
        "id": "KoRFaJxp-lBD",
        "outputId": "96752003-c9f0-461d-b724-5583f621117e"
      },
      "execution_count": null,
      "outputs": [
        {
          "output_type": "execute_result",
          "data": {
            "text/plain": [
              "array(['No', 'Yes'], dtype=object)"
            ]
          },
          "metadata": {},
          "execution_count": 13
        }
      ]
    },
    {
      "cell_type": "code",
      "source": [
        "customer_df_cleaned['Profession'].unique()"
      ],
      "metadata": {
        "colab": {
          "base_uri": "https://localhost:8080/"
        },
        "id": "0in3hmLT-lE-",
        "outputId": "944fcb7c-1763-4ade-a1b8-d00e4fcde2a4"
      },
      "execution_count": null,
      "outputs": [
        {
          "output_type": "execute_result",
          "data": {
            "text/plain": [
              "array(['Healthcare', 'Engineer', 'Lawyer', 'Artist', 'Doctor',\n",
              "       'Homemaker', 'Entertainment', 'Marketing', 'Executive'],\n",
              "      dtype=object)"
            ]
          },
          "metadata": {},
          "execution_count": 14
        }
      ]
    },
    {
      "cell_type": "code",
      "source": [
        "customer_df_cleaned['Spending_Score'].unique()"
      ],
      "metadata": {
        "colab": {
          "base_uri": "https://localhost:8080/"
        },
        "id": "xkhUghy1-lSp",
        "outputId": "84e84f02-21fc-40da-9728-09c325a0ebdd"
      },
      "execution_count": null,
      "outputs": [
        {
          "output_type": "execute_result",
          "data": {
            "text/plain": [
              "array(['Low', 'High', 'Average'], dtype=object)"
            ]
          },
          "metadata": {},
          "execution_count": 17
        }
      ]
    },
    {
      "cell_type": "code",
      "source": [
        "customer_df_cleaned['Var_1'].unique()"
      ],
      "metadata": {
        "colab": {
          "base_uri": "https://localhost:8080/"
        },
        "id": "Md_RG0ya-036",
        "outputId": "d626b7a5-0f94-431f-aa4e-2a68587c9def"
      },
      "execution_count": null,
      "outputs": [
        {
          "output_type": "execute_result",
          "data": {
            "text/plain": [
              "array(['Cat_4', 'Cat_6', 'Cat_7', 'Cat_3', 'Cat_1', 'Cat_2', 'Cat_5'],\n",
              "      dtype=object)"
            ]
          },
          "metadata": {},
          "execution_count": 18
        }
      ]
    },
    {
      "cell_type": "code",
      "source": [
        "customer_df_cleaned['Segmentation'].unique()"
      ],
      "metadata": {
        "colab": {
          "base_uri": "https://localhost:8080/"
        },
        "id": "ygehOTnn-07M",
        "outputId": "d8f66a1c-879c-4869-dfb2-9e2bfd2940f4"
      },
      "execution_count": null,
      "outputs": [
        {
          "output_type": "execute_result",
          "data": {
            "text/plain": [
              "array(['D', 'B', 'C', 'A'], dtype=object)"
            ]
          },
          "metadata": {},
          "execution_count": 19
        }
      ]
    },
    {
      "cell_type": "code",
      "source": [
        "\n",
        "categories_list=[['Male', 'Female'],\n",
        "           ['No', 'Yes'],\n",
        "           ['No', 'Yes'],\n",
        "           ['Healthcare', 'Engineer', 'Lawyer', 'Artist', 'Doctor',\n",
        "            'Homemaker', 'Entertainment', 'Marketing', 'Executive'],\n",
        "           ['Low', 'Average', 'High']\n",
        "           ]\n",
        "enc = OrdinalEncoder(categories=categories_list)"
      ],
      "metadata": {
        "id": "nZTQntFJ-7Ib"
      },
      "execution_count": null,
      "outputs": []
    },
    {
      "cell_type": "code",
      "source": [
        "customers_1 = customer_df_cleaned.copy()"
      ],
      "metadata": {
        "id": "gTxCujOn-7Kj"
      },
      "execution_count": null,
      "outputs": []
    },
    {
      "cell_type": "code",
      "source": [
        "customers_1[['Gender',\n",
        "             'Ever_Married',\n",
        "              'Graduated','Profession',\n",
        "              'Spending_Score']] = enc.fit_transform(customers_1[['Gender',\n",
        "                                                                 'Ever_Married',\n",
        "                                                                 'Graduated','Profession',\n",
        "                                                                 'Spending_Score']])"
      ],
      "metadata": {
        "id": "_2cdr61C-7Oi"
      },
      "execution_count": null,
      "outputs": []
    },
    {
      "cell_type": "code",
      "source": [
        "\n",
        "customers_1.dtypes"
      ],
      "metadata": {
        "colab": {
          "base_uri": "https://localhost:8080/"
        },
        "id": "eHq1UXxX_SWe",
        "outputId": "f5cb4494-824d-4ed1-cd08-ec14a1159143"
      },
      "execution_count": null,
      "outputs": [
        {
          "output_type": "execute_result",
          "data": {
            "text/plain": [
              "ID                   int64\n",
              "Gender             float64\n",
              "Ever_Married       float64\n",
              "Age                  int64\n",
              "Graduated          float64\n",
              "Profession         float64\n",
              "Work_Experience    float64\n",
              "Spending_Score     float64\n",
              "Family_Size        float64\n",
              "Var_1               object\n",
              "Segmentation        object\n",
              "dtype: object"
            ]
          },
          "metadata": {},
          "execution_count": 23
        }
      ]
    },
    {
      "cell_type": "code",
      "source": [
        "le = LabelEncoder()"
      ],
      "metadata": {
        "id": "WQUE5jV__SZ6"
      },
      "execution_count": null,
      "outputs": []
    },
    {
      "cell_type": "code",
      "source": [
        "customers_1['Segmentation'] = le.fit_transform(customers_1['Segmentation'])"
      ],
      "metadata": {
        "id": "j8L2-Vmf_Zhp"
      },
      "execution_count": null,
      "outputs": []
    },
    {
      "cell_type": "code",
      "source": [
        "customers_1.dtypes"
      ],
      "metadata": {
        "colab": {
          "base_uri": "https://localhost:8080/"
        },
        "id": "U0ui8xck_ZjX",
        "outputId": "a2bb6c65-751c-4195-c6d6-d381c70e638e"
      },
      "execution_count": null,
      "outputs": [
        {
          "output_type": "execute_result",
          "data": {
            "text/plain": [
              "ID                   int64\n",
              "Gender             float64\n",
              "Ever_Married       float64\n",
              "Age                  int64\n",
              "Graduated          float64\n",
              "Profession         float64\n",
              "Work_Experience    float64\n",
              "Spending_Score     float64\n",
              "Family_Size        float64\n",
              "Var_1               object\n",
              "Segmentation         int64\n",
              "dtype: object"
            ]
          },
          "metadata": {},
          "execution_count": 26
        }
      ]
    },
    {
      "cell_type": "code",
      "source": [
        "customers_1 = customers_1.drop('ID',axis=1)\n",
        "customers_1 = customers_1.drop('Var_1',axis=1)"
      ],
      "metadata": {
        "id": "wEhu9FgO_Zk-"
      },
      "execution_count": null,
      "outputs": []
    },
    {
      "cell_type": "code",
      "source": [
        "customers_1.dtypes"
      ],
      "metadata": {
        "colab": {
          "base_uri": "https://localhost:8080/"
        },
        "id": "_98S17mM_ZoU",
        "outputId": "786f7159-cdde-4faf-ecac-5a6ef7f097d8"
      },
      "execution_count": null,
      "outputs": [
        {
          "output_type": "execute_result",
          "data": {
            "text/plain": [
              "Gender             float64\n",
              "Ever_Married       float64\n",
              "Age                  int64\n",
              "Graduated          float64\n",
              "Profession         float64\n",
              "Work_Experience    float64\n",
              "Spending_Score     float64\n",
              "Family_Size        float64\n",
              "Segmentation         int64\n",
              "dtype: object"
            ]
          },
          "metadata": {},
          "execution_count": 28
        }
      ]
    },
    {
      "cell_type": "code",
      "source": [
        "customers_1['Segmentation'].unique()"
      ],
      "metadata": {
        "colab": {
          "base_uri": "https://localhost:8080/"
        },
        "id": "zGm4DY8N_qBG",
        "outputId": "205dd6cc-b13f-478d-d43a-306d4055386c"
      },
      "execution_count": null,
      "outputs": [
        {
          "output_type": "execute_result",
          "data": {
            "text/plain": [
              "array([3, 1, 2, 0])"
            ]
          },
          "metadata": {},
          "execution_count": 29
        }
      ]
    },
    {
      "cell_type": "code",
      "source": [
        "X=customers_1[['Gender','Ever_Married','Age','Graduated','Profession','Work_Experience','Spending_Score','Family_Size']].values\n"
      ],
      "metadata": {
        "id": "OUPKowzo_qEg"
      },
      "execution_count": null,
      "outputs": []
    },
    {
      "cell_type": "code",
      "source": [
        "y1 = customers_1[['Segmentation']].values\n"
      ],
      "metadata": {
        "id": "-CEdjjNIAc7H"
      },
      "execution_count": null,
      "outputs": []
    },
    {
      "cell_type": "code",
      "source": [
        "one_hot_enc = OneHotEncoder()\n"
      ],
      "metadata": {
        "id": "ItXQQtjeAc-g"
      },
      "execution_count": null,
      "outputs": []
    },
    {
      "cell_type": "code",
      "source": [
        "one_hot_enc.fit(y1)\n"
      ],
      "metadata": {
        "colab": {
          "base_uri": "https://localhost:8080/",
          "height": 74
        },
        "id": "zaNmJepKAdHH",
        "outputId": "c70f6180-6405-449e-ebd0-a865006e438b"
      },
      "execution_count": null,
      "outputs": [
        {
          "output_type": "execute_result",
          "data": {
            "text/plain": [
              "OneHotEncoder()"
            ],
            "text/html": [
              "<style>#sk-container-id-1 {color: black;background-color: white;}#sk-container-id-1 pre{padding: 0;}#sk-container-id-1 div.sk-toggleable {background-color: white;}#sk-container-id-1 label.sk-toggleable__label {cursor: pointer;display: block;width: 100%;margin-bottom: 0;padding: 0.3em;box-sizing: border-box;text-align: center;}#sk-container-id-1 label.sk-toggleable__label-arrow:before {content: \"▸\";float: left;margin-right: 0.25em;color: #696969;}#sk-container-id-1 label.sk-toggleable__label-arrow:hover:before {color: black;}#sk-container-id-1 div.sk-estimator:hover label.sk-toggleable__label-arrow:before {color: black;}#sk-container-id-1 div.sk-toggleable__content {max-height: 0;max-width: 0;overflow: hidden;text-align: left;background-color: #f0f8ff;}#sk-container-id-1 div.sk-toggleable__content pre {margin: 0.2em;color: black;border-radius: 0.25em;background-color: #f0f8ff;}#sk-container-id-1 input.sk-toggleable__control:checked~div.sk-toggleable__content {max-height: 200px;max-width: 100%;overflow: auto;}#sk-container-id-1 input.sk-toggleable__control:checked~label.sk-toggleable__label-arrow:before {content: \"▾\";}#sk-container-id-1 div.sk-estimator input.sk-toggleable__control:checked~label.sk-toggleable__label {background-color: #d4ebff;}#sk-container-id-1 div.sk-label input.sk-toggleable__control:checked~label.sk-toggleable__label {background-color: #d4ebff;}#sk-container-id-1 input.sk-hidden--visually {border: 0;clip: rect(1px 1px 1px 1px);clip: rect(1px, 1px, 1px, 1px);height: 1px;margin: -1px;overflow: hidden;padding: 0;position: absolute;width: 1px;}#sk-container-id-1 div.sk-estimator {font-family: monospace;background-color: #f0f8ff;border: 1px dotted black;border-radius: 0.25em;box-sizing: border-box;margin-bottom: 0.5em;}#sk-container-id-1 div.sk-estimator:hover {background-color: #d4ebff;}#sk-container-id-1 div.sk-parallel-item::after {content: \"\";width: 100%;border-bottom: 1px solid gray;flex-grow: 1;}#sk-container-id-1 div.sk-label:hover label.sk-toggleable__label {background-color: #d4ebff;}#sk-container-id-1 div.sk-serial::before {content: \"\";position: absolute;border-left: 1px solid gray;box-sizing: border-box;top: 0;bottom: 0;left: 50%;z-index: 0;}#sk-container-id-1 div.sk-serial {display: flex;flex-direction: column;align-items: center;background-color: white;padding-right: 0.2em;padding-left: 0.2em;position: relative;}#sk-container-id-1 div.sk-item {position: relative;z-index: 1;}#sk-container-id-1 div.sk-parallel {display: flex;align-items: stretch;justify-content: center;background-color: white;position: relative;}#sk-container-id-1 div.sk-item::before, #sk-container-id-1 div.sk-parallel-item::before {content: \"\";position: absolute;border-left: 1px solid gray;box-sizing: border-box;top: 0;bottom: 0;left: 50%;z-index: -1;}#sk-container-id-1 div.sk-parallel-item {display: flex;flex-direction: column;z-index: 1;position: relative;background-color: white;}#sk-container-id-1 div.sk-parallel-item:first-child::after {align-self: flex-end;width: 50%;}#sk-container-id-1 div.sk-parallel-item:last-child::after {align-self: flex-start;width: 50%;}#sk-container-id-1 div.sk-parallel-item:only-child::after {width: 0;}#sk-container-id-1 div.sk-dashed-wrapped {border: 1px dashed gray;margin: 0 0.4em 0.5em 0.4em;box-sizing: border-box;padding-bottom: 0.4em;background-color: white;}#sk-container-id-1 div.sk-label label {font-family: monospace;font-weight: bold;display: inline-block;line-height: 1.2em;}#sk-container-id-1 div.sk-label-container {text-align: center;}#sk-container-id-1 div.sk-container {/* jupyter's `normalize.less` sets `[hidden] { display: none; }` but bootstrap.min.css set `[hidden] { display: none !important; }` so we also need the `!important` here to be able to override the default hidden behavior on the sphinx rendered scikit-learn.org. See: https://github.com/scikit-learn/scikit-learn/issues/21755 */display: inline-block !important;position: relative;}#sk-container-id-1 div.sk-text-repr-fallback {display: none;}</style><div id=\"sk-container-id-1\" class=\"sk-top-container\"><div class=\"sk-text-repr-fallback\"><pre>OneHotEncoder()</pre><b>In a Jupyter environment, please rerun this cell to show the HTML representation or trust the notebook. <br />On GitHub, the HTML representation is unable to render, please try loading this page with nbviewer.org.</b></div><div class=\"sk-container\" hidden><div class=\"sk-item\"><div class=\"sk-estimator sk-toggleable\"><input class=\"sk-toggleable__control sk-hidden--visually\" id=\"sk-estimator-id-1\" type=\"checkbox\" checked><label for=\"sk-estimator-id-1\" class=\"sk-toggleable__label sk-toggleable__label-arrow\">OneHotEncoder</label><div class=\"sk-toggleable__content\"><pre>OneHotEncoder()</pre></div></div></div></div></div>"
            ]
          },
          "metadata": {},
          "execution_count": 33
        }
      ]
    },
    {
      "cell_type": "code",
      "source": [
        "y1.shape\n"
      ],
      "metadata": {
        "colab": {
          "base_uri": "https://localhost:8080/"
        },
        "id": "-_VustZlAdJv",
        "outputId": "e5a3e222-5484-4d8d-844a-c20091e21720"
      },
      "execution_count": null,
      "outputs": [
        {
          "output_type": "execute_result",
          "data": {
            "text/plain": [
              "(8819, 1)"
            ]
          },
          "metadata": {},
          "execution_count": 34
        }
      ]
    },
    {
      "cell_type": "code",
      "source": [
        "y = one_hot_enc.transform(y1).toarray()\n"
      ],
      "metadata": {
        "id": "hJCqnN5FAqDx"
      },
      "execution_count": null,
      "outputs": []
    },
    {
      "cell_type": "code",
      "source": [
        "y.shape\n"
      ],
      "metadata": {
        "colab": {
          "base_uri": "https://localhost:8080/"
        },
        "id": "bMHrct68AqFf",
        "outputId": "ec2b0314-9385-4ed3-ad6f-6ce0893a9365"
      },
      "execution_count": null,
      "outputs": [
        {
          "output_type": "execute_result",
          "data": {
            "text/plain": [
              "(8819, 4)"
            ]
          },
          "metadata": {},
          "execution_count": 36
        }
      ]
    },
    {
      "cell_type": "code",
      "source": [
        "y1[0]\n"
      ],
      "metadata": {
        "colab": {
          "base_uri": "https://localhost:8080/"
        },
        "id": "arWqTwl7AqJh",
        "outputId": "e2c40eea-0008-43d8-a494-dd13c79501b0"
      },
      "execution_count": null,
      "outputs": [
        {
          "output_type": "execute_result",
          "data": {
            "text/plain": [
              "array([3])"
            ]
          },
          "metadata": {},
          "execution_count": 37
        }
      ]
    },
    {
      "cell_type": "code",
      "source": [
        "y[0]\n"
      ],
      "metadata": {
        "colab": {
          "base_uri": "https://localhost:8080/"
        },
        "id": "gtW2gTHQAqK9",
        "outputId": "1b4fe30e-80d6-4531-c9f8-a2aeec21728b"
      },
      "execution_count": null,
      "outputs": [
        {
          "output_type": "execute_result",
          "data": {
            "text/plain": [
              "array([0., 0., 0., 1.])"
            ]
          },
          "metadata": {},
          "execution_count": 38
        }
      ]
    },
    {
      "cell_type": "code",
      "source": [
        "X.shape\n"
      ],
      "metadata": {
        "colab": {
          "base_uri": "https://localhost:8080/"
        },
        "id": "qTlwh6ceAqMj",
        "outputId": "b9322619-8f09-4f40-a80d-55ac6f847b27"
      },
      "execution_count": null,
      "outputs": [
        {
          "output_type": "execute_result",
          "data": {
            "text/plain": [
              "(8819, 8)"
            ]
          },
          "metadata": {},
          "execution_count": 39
        }
      ]
    },
    {
      "cell_type": "code",
      "source": [
        "X_train,X_test,y_train,y_test=train_test_split(X,y,\n",
        "                                               test_size=0.33,\n",
        "                                               random_state=50)\n",
        "\n"
      ],
      "metadata": {
        "id": "kessAkHJAqQK"
      },
      "execution_count": null,
      "outputs": []
    },
    {
      "cell_type": "code",
      "source": [
        "X_train[0]\n"
      ],
      "metadata": {
        "colab": {
          "base_uri": "https://localhost:8080/"
        },
        "id": "R9kbFi4kAqWx",
        "outputId": "5153a239-c5d1-4dbc-8c78-32bec25ada2a"
      },
      "execution_count": null,
      "outputs": [
        {
          "output_type": "execute_result",
          "data": {
            "text/plain": [
              "array([ 1.,  1., 85.,  0.,  2.,  0.,  0.,  1.])"
            ]
          },
          "metadata": {},
          "execution_count": 41
        }
      ]
    },
    {
      "cell_type": "code",
      "source": [
        "X_train.shape"
      ],
      "metadata": {
        "colab": {
          "base_uri": "https://localhost:8080/"
        },
        "id": "jiiZlf_1AqZ7",
        "outputId": "b445c7a6-8c40-4173-dd20-44dbc3626252"
      },
      "execution_count": null,
      "outputs": [
        {
          "output_type": "execute_result",
          "data": {
            "text/plain": [
              "(5908, 8)"
            ]
          },
          "metadata": {},
          "execution_count": 42
        }
      ]
    },
    {
      "cell_type": "code",
      "source": [
        "scaler_age = MinMaxScaler()\n"
      ],
      "metadata": {
        "id": "57FHbuDKBHXu"
      },
      "execution_count": null,
      "outputs": []
    },
    {
      "cell_type": "code",
      "source": [
        "scaler_age.fit(X_train[:,2].reshape(-1,1))\n"
      ],
      "metadata": {
        "colab": {
          "base_uri": "https://localhost:8080/",
          "height": 74
        },
        "id": "E7pviYXhBHZu",
        "outputId": "5309ce7d-687e-414b-e12a-f1abcfe30793"
      },
      "execution_count": null,
      "outputs": [
        {
          "output_type": "execute_result",
          "data": {
            "text/plain": [
              "MinMaxScaler()"
            ],
            "text/html": [
              "<style>#sk-container-id-2 {color: black;background-color: white;}#sk-container-id-2 pre{padding: 0;}#sk-container-id-2 div.sk-toggleable {background-color: white;}#sk-container-id-2 label.sk-toggleable__label {cursor: pointer;display: block;width: 100%;margin-bottom: 0;padding: 0.3em;box-sizing: border-box;text-align: center;}#sk-container-id-2 label.sk-toggleable__label-arrow:before {content: \"▸\";float: left;margin-right: 0.25em;color: #696969;}#sk-container-id-2 label.sk-toggleable__label-arrow:hover:before {color: black;}#sk-container-id-2 div.sk-estimator:hover label.sk-toggleable__label-arrow:before {color: black;}#sk-container-id-2 div.sk-toggleable__content {max-height: 0;max-width: 0;overflow: hidden;text-align: left;background-color: #f0f8ff;}#sk-container-id-2 div.sk-toggleable__content pre {margin: 0.2em;color: black;border-radius: 0.25em;background-color: #f0f8ff;}#sk-container-id-2 input.sk-toggleable__control:checked~div.sk-toggleable__content {max-height: 200px;max-width: 100%;overflow: auto;}#sk-container-id-2 input.sk-toggleable__control:checked~label.sk-toggleable__label-arrow:before {content: \"▾\";}#sk-container-id-2 div.sk-estimator input.sk-toggleable__control:checked~label.sk-toggleable__label {background-color: #d4ebff;}#sk-container-id-2 div.sk-label input.sk-toggleable__control:checked~label.sk-toggleable__label {background-color: #d4ebff;}#sk-container-id-2 input.sk-hidden--visually {border: 0;clip: rect(1px 1px 1px 1px);clip: rect(1px, 1px, 1px, 1px);height: 1px;margin: -1px;overflow: hidden;padding: 0;position: absolute;width: 1px;}#sk-container-id-2 div.sk-estimator {font-family: monospace;background-color: #f0f8ff;border: 1px dotted black;border-radius: 0.25em;box-sizing: border-box;margin-bottom: 0.5em;}#sk-container-id-2 div.sk-estimator:hover {background-color: #d4ebff;}#sk-container-id-2 div.sk-parallel-item::after {content: \"\";width: 100%;border-bottom: 1px solid gray;flex-grow: 1;}#sk-container-id-2 div.sk-label:hover label.sk-toggleable__label {background-color: #d4ebff;}#sk-container-id-2 div.sk-serial::before {content: \"\";position: absolute;border-left: 1px solid gray;box-sizing: border-box;top: 0;bottom: 0;left: 50%;z-index: 0;}#sk-container-id-2 div.sk-serial {display: flex;flex-direction: column;align-items: center;background-color: white;padding-right: 0.2em;padding-left: 0.2em;position: relative;}#sk-container-id-2 div.sk-item {position: relative;z-index: 1;}#sk-container-id-2 div.sk-parallel {display: flex;align-items: stretch;justify-content: center;background-color: white;position: relative;}#sk-container-id-2 div.sk-item::before, #sk-container-id-2 div.sk-parallel-item::before {content: \"\";position: absolute;border-left: 1px solid gray;box-sizing: border-box;top: 0;bottom: 0;left: 50%;z-index: -1;}#sk-container-id-2 div.sk-parallel-item {display: flex;flex-direction: column;z-index: 1;position: relative;background-color: white;}#sk-container-id-2 div.sk-parallel-item:first-child::after {align-self: flex-end;width: 50%;}#sk-container-id-2 div.sk-parallel-item:last-child::after {align-self: flex-start;width: 50%;}#sk-container-id-2 div.sk-parallel-item:only-child::after {width: 0;}#sk-container-id-2 div.sk-dashed-wrapped {border: 1px dashed gray;margin: 0 0.4em 0.5em 0.4em;box-sizing: border-box;padding-bottom: 0.4em;background-color: white;}#sk-container-id-2 div.sk-label label {font-family: monospace;font-weight: bold;display: inline-block;line-height: 1.2em;}#sk-container-id-2 div.sk-label-container {text-align: center;}#sk-container-id-2 div.sk-container {/* jupyter's `normalize.less` sets `[hidden] { display: none; }` but bootstrap.min.css set `[hidden] { display: none !important; }` so we also need the `!important` here to be able to override the default hidden behavior on the sphinx rendered scikit-learn.org. See: https://github.com/scikit-learn/scikit-learn/issues/21755 */display: inline-block !important;position: relative;}#sk-container-id-2 div.sk-text-repr-fallback {display: none;}</style><div id=\"sk-container-id-2\" class=\"sk-top-container\"><div class=\"sk-text-repr-fallback\"><pre>MinMaxScaler()</pre><b>In a Jupyter environment, please rerun this cell to show the HTML representation or trust the notebook. <br />On GitHub, the HTML representation is unable to render, please try loading this page with nbviewer.org.</b></div><div class=\"sk-container\" hidden><div class=\"sk-item\"><div class=\"sk-estimator sk-toggleable\"><input class=\"sk-toggleable__control sk-hidden--visually\" id=\"sk-estimator-id-2\" type=\"checkbox\" checked><label for=\"sk-estimator-id-2\" class=\"sk-toggleable__label sk-toggleable__label-arrow\">MinMaxScaler</label><div class=\"sk-toggleable__content\"><pre>MinMaxScaler()</pre></div></div></div></div></div>"
            ]
          },
          "metadata": {},
          "execution_count": 44
        }
      ]
    },
    {
      "cell_type": "code",
      "source": [
        "X_train_scaled = np.copy(X_train)\n",
        "X_test_scaled = np.copy(X_test)"
      ],
      "metadata": {
        "id": "HWFHLzN-BHbN"
      },
      "execution_count": null,
      "outputs": []
    },
    {
      "cell_type": "code",
      "source": [
        "X_train_scaled[:,2] = scaler_age.transform(X_train[:,2].reshape(-1,1)).reshape(-1)\n",
        "X_test_scaled[:,2] = scaler_age.transform(X_test[:,2].reshape(-1,1)).reshape(-1)"
      ],
      "metadata": {
        "id": "-wp2witjBHd8"
      },
      "execution_count": null,
      "outputs": []
    },
    {
      "cell_type": "code",
      "source": [
        "ai_brain = Sequential([\n",
        "  Dense(units = 8, input_shape=[8]),\n",
        "  Dense(units =16, activation='relu'),\n",
        "\n",
        "  Dense(units =4, activation ='softmax')\n",
        "])\n"
      ],
      "metadata": {
        "id": "9tA3O8jbBHhA"
      },
      "execution_count": null,
      "outputs": []
    },
    {
      "cell_type": "code",
      "source": [
        "ai_brain.compile(optimizer='adam',\n",
        "                 loss='categorical_crossentropy',\n",
        "                 metrics=['accuracy'])"
      ],
      "metadata": {
        "id": "EFbi6xfEBZWX"
      },
      "execution_count": null,
      "outputs": []
    },
    {
      "cell_type": "code",
      "source": [
        "ai_brain.fit(x=X_train_scaled,y=y_train,\n",
        "             epochs=500,batch_size=256,\n",
        "             validation_data=(X_test_scaled,y_test),\n",
        "             )"
      ],
      "metadata": {
        "colab": {
          "base_uri": "https://localhost:8080/"
        },
        "id": "KulyeqS0BZZz",
        "outputId": "54a0bf6e-96b4-4bfa-fcdc-688b7b7d1bb5"
      },
      "execution_count": null,
      "outputs": [
        {
          "output_type": "stream",
          "name": "stdout",
          "text": [
            "Epoch 1/500\n",
            "24/24 [==============================] - 1s 21ms/step - loss: 2.3545 - accuracy: 0.2238 - val_loss: 1.9503 - val_accuracy: 0.2278\n",
            "Epoch 2/500\n",
            "24/24 [==============================] - 0s 4ms/step - loss: 1.7204 - accuracy: 0.2426 - val_loss: 1.5576 - val_accuracy: 0.2467\n",
            "Epoch 3/500\n",
            "24/24 [==============================] - 0s 4ms/step - loss: 1.4863 - accuracy: 0.2524 - val_loss: 1.4505 - val_accuracy: 0.2635\n",
            "Epoch 4/500\n",
            "24/24 [==============================] - 0s 4ms/step - loss: 1.4195 - accuracy: 0.2725 - val_loss: 1.4051 - val_accuracy: 0.2889\n",
            "Epoch 5/500\n",
            "24/24 [==============================] - 0s 4ms/step - loss: 1.3841 - accuracy: 0.3013 - val_loss: 1.3774 - val_accuracy: 0.2985\n",
            "Epoch 6/500\n",
            "24/24 [==============================] - 0s 3ms/step - loss: 1.3610 - accuracy: 0.3238 - val_loss: 1.3586 - val_accuracy: 0.3112\n",
            "Epoch 7/500\n",
            "24/24 [==============================] - 0s 3ms/step - loss: 1.3432 - accuracy: 0.3299 - val_loss: 1.3437 - val_accuracy: 0.3174\n",
            "Epoch 8/500\n",
            "24/24 [==============================] - 0s 3ms/step - loss: 1.3287 - accuracy: 0.3426 - val_loss: 1.3319 - val_accuracy: 0.3377\n",
            "Epoch 9/500\n",
            "24/24 [==============================] - 0s 4ms/step - loss: 1.3185 - accuracy: 0.3524 - val_loss: 1.3230 - val_accuracy: 0.3483\n",
            "Epoch 10/500\n",
            "24/24 [==============================] - 0s 4ms/step - loss: 1.3109 - accuracy: 0.3599 - val_loss: 1.3157 - val_accuracy: 0.3528\n",
            "Epoch 11/500\n",
            "24/24 [==============================] - 0s 7ms/step - loss: 1.3041 - accuracy: 0.3637 - val_loss: 1.3087 - val_accuracy: 0.3645\n",
            "Epoch 12/500\n",
            "24/24 [==============================] - 0s 7ms/step - loss: 1.2981 - accuracy: 0.3835 - val_loss: 1.3036 - val_accuracy: 0.3775\n",
            "Epoch 13/500\n",
            "24/24 [==============================] - 0s 7ms/step - loss: 1.2926 - accuracy: 0.3907 - val_loss: 1.2994 - val_accuracy: 0.3775\n",
            "Epoch 14/500\n",
            "24/24 [==============================] - 0s 6ms/step - loss: 1.2878 - accuracy: 0.3998 - val_loss: 1.2947 - val_accuracy: 0.3830\n",
            "Epoch 15/500\n",
            "24/24 [==============================] - 0s 8ms/step - loss: 1.2832 - accuracy: 0.3962 - val_loss: 1.2912 - val_accuracy: 0.3820\n",
            "Epoch 16/500\n",
            "24/24 [==============================] - 0s 8ms/step - loss: 1.2789 - accuracy: 0.4006 - val_loss: 1.2873 - val_accuracy: 0.3847\n",
            "Epoch 17/500\n",
            "24/24 [==============================] - 0s 8ms/step - loss: 1.2742 - accuracy: 0.4018 - val_loss: 1.2838 - val_accuracy: 0.3885\n",
            "Epoch 18/500\n",
            "24/24 [==============================] - 0s 7ms/step - loss: 1.2700 - accuracy: 0.4113 - val_loss: 1.2809 - val_accuracy: 0.3902\n",
            "Epoch 19/500\n",
            "24/24 [==============================] - 0s 7ms/step - loss: 1.2663 - accuracy: 0.4138 - val_loss: 1.2772 - val_accuracy: 0.3961\n",
            "Epoch 20/500\n",
            "24/24 [==============================] - 0s 7ms/step - loss: 1.2641 - accuracy: 0.4130 - val_loss: 1.2750 - val_accuracy: 0.3999\n",
            "Epoch 21/500\n",
            "24/24 [==============================] - 0s 5ms/step - loss: 1.2604 - accuracy: 0.4138 - val_loss: 1.2723 - val_accuracy: 0.4040\n",
            "Epoch 22/500\n",
            "24/24 [==============================] - 0s 5ms/step - loss: 1.2578 - accuracy: 0.4186 - val_loss: 1.2688 - val_accuracy: 0.4074\n",
            "Epoch 23/500\n",
            "24/24 [==============================] - 0s 7ms/step - loss: 1.2557 - accuracy: 0.4279 - val_loss: 1.2673 - val_accuracy: 0.4091\n",
            "Epoch 24/500\n",
            "24/24 [==============================] - 0s 7ms/step - loss: 1.2528 - accuracy: 0.4262 - val_loss: 1.2655 - val_accuracy: 0.4112\n",
            "Epoch 25/500\n",
            "24/24 [==============================] - 0s 7ms/step - loss: 1.2510 - accuracy: 0.4284 - val_loss: 1.2637 - val_accuracy: 0.4136\n",
            "Epoch 26/500\n",
            "24/24 [==============================] - 0s 6ms/step - loss: 1.2481 - accuracy: 0.4338 - val_loss: 1.2612 - val_accuracy: 0.4139\n",
            "Epoch 27/500\n",
            "24/24 [==============================] - 0s 4ms/step - loss: 1.2465 - accuracy: 0.4333 - val_loss: 1.2598 - val_accuracy: 0.4167\n",
            "Epoch 28/500\n",
            "24/24 [==============================] - 0s 4ms/step - loss: 1.2456 - accuracy: 0.4369 - val_loss: 1.2588 - val_accuracy: 0.4184\n",
            "Epoch 29/500\n",
            "24/24 [==============================] - 0s 4ms/step - loss: 1.2430 - accuracy: 0.4352 - val_loss: 1.2566 - val_accuracy: 0.4205\n",
            "Epoch 30/500\n",
            "24/24 [==============================] - 0s 6ms/step - loss: 1.2424 - accuracy: 0.4357 - val_loss: 1.2554 - val_accuracy: 0.4191\n",
            "Epoch 31/500\n",
            "24/24 [==============================] - 0s 4ms/step - loss: 1.2400 - accuracy: 0.4404 - val_loss: 1.2549 - val_accuracy: 0.4212\n",
            "Epoch 32/500\n",
            "24/24 [==============================] - 0s 4ms/step - loss: 1.2385 - accuracy: 0.4372 - val_loss: 1.2537 - val_accuracy: 0.4212\n",
            "Epoch 33/500\n",
            "24/24 [==============================] - 0s 5ms/step - loss: 1.2375 - accuracy: 0.4403 - val_loss: 1.2528 - val_accuracy: 0.4201\n",
            "Epoch 34/500\n",
            "24/24 [==============================] - 0s 4ms/step - loss: 1.2364 - accuracy: 0.4435 - val_loss: 1.2512 - val_accuracy: 0.4239\n",
            "Epoch 35/500\n",
            "24/24 [==============================] - 0s 4ms/step - loss: 1.2352 - accuracy: 0.4399 - val_loss: 1.2497 - val_accuracy: 0.4215\n",
            "Epoch 36/500\n",
            "24/24 [==============================] - 0s 4ms/step - loss: 1.2340 - accuracy: 0.4455 - val_loss: 1.2496 - val_accuracy: 0.4218\n",
            "Epoch 37/500\n",
            "24/24 [==============================] - 0s 4ms/step - loss: 1.2321 - accuracy: 0.4469 - val_loss: 1.2478 - val_accuracy: 0.4277\n",
            "Epoch 38/500\n",
            "24/24 [==============================] - 0s 4ms/step - loss: 1.2311 - accuracy: 0.4472 - val_loss: 1.2478 - val_accuracy: 0.4287\n",
            "Epoch 39/500\n",
            "24/24 [==============================] - 0s 4ms/step - loss: 1.2303 - accuracy: 0.4455 - val_loss: 1.2462 - val_accuracy: 0.4287\n",
            "Epoch 40/500\n",
            "24/24 [==============================] - 0s 6ms/step - loss: 1.2290 - accuracy: 0.4485 - val_loss: 1.2460 - val_accuracy: 0.4256\n",
            "Epoch 41/500\n",
            "24/24 [==============================] - 0s 4ms/step - loss: 1.2285 - accuracy: 0.4509 - val_loss: 1.2449 - val_accuracy: 0.4308\n",
            "Epoch 42/500\n",
            "24/24 [==============================] - 0s 4ms/step - loss: 1.2275 - accuracy: 0.4502 - val_loss: 1.2441 - val_accuracy: 0.4301\n",
            "Epoch 43/500\n",
            "24/24 [==============================] - 0s 4ms/step - loss: 1.2265 - accuracy: 0.4491 - val_loss: 1.2449 - val_accuracy: 0.4273\n",
            "Epoch 44/500\n",
            "24/24 [==============================] - 0s 4ms/step - loss: 1.2258 - accuracy: 0.4523 - val_loss: 1.2431 - val_accuracy: 0.4339\n",
            "Epoch 45/500\n",
            "24/24 [==============================] - 0s 4ms/step - loss: 1.2251 - accuracy: 0.4511 - val_loss: 1.2427 - val_accuracy: 0.4325\n",
            "Epoch 46/500\n",
            "24/24 [==============================] - 0s 4ms/step - loss: 1.2245 - accuracy: 0.4521 - val_loss: 1.2415 - val_accuracy: 0.4366\n",
            "Epoch 47/500\n",
            "24/24 [==============================] - 0s 4ms/step - loss: 1.2237 - accuracy: 0.4570 - val_loss: 1.2418 - val_accuracy: 0.4356\n",
            "Epoch 48/500\n",
            "24/24 [==============================] - 0s 3ms/step - loss: 1.2229 - accuracy: 0.4558 - val_loss: 1.2408 - val_accuracy: 0.4352\n",
            "Epoch 49/500\n",
            "24/24 [==============================] - 0s 4ms/step - loss: 1.2218 - accuracy: 0.4575 - val_loss: 1.2417 - val_accuracy: 0.4363\n",
            "Epoch 50/500\n",
            "24/24 [==============================] - 0s 4ms/step - loss: 1.2208 - accuracy: 0.4589 - val_loss: 1.2406 - val_accuracy: 0.4418\n",
            "Epoch 51/500\n",
            "24/24 [==============================] - 0s 4ms/step - loss: 1.2201 - accuracy: 0.4587 - val_loss: 1.2398 - val_accuracy: 0.4407\n",
            "Epoch 52/500\n",
            "24/24 [==============================] - 0s 4ms/step - loss: 1.2205 - accuracy: 0.4570 - val_loss: 1.2397 - val_accuracy: 0.4414\n",
            "Epoch 53/500\n",
            "24/24 [==============================] - 0s 4ms/step - loss: 1.2188 - accuracy: 0.4560 - val_loss: 1.2388 - val_accuracy: 0.4404\n",
            "Epoch 54/500\n",
            "24/24 [==============================] - 0s 4ms/step - loss: 1.2182 - accuracy: 0.4587 - val_loss: 1.2377 - val_accuracy: 0.4421\n",
            "Epoch 55/500\n",
            "24/24 [==============================] - 0s 4ms/step - loss: 1.2177 - accuracy: 0.4555 - val_loss: 1.2385 - val_accuracy: 0.4425\n",
            "Epoch 56/500\n",
            "24/24 [==============================] - 0s 3ms/step - loss: 1.2170 - accuracy: 0.4609 - val_loss: 1.2385 - val_accuracy: 0.4390\n",
            "Epoch 57/500\n",
            "24/24 [==============================] - 0s 4ms/step - loss: 1.2159 - accuracy: 0.4575 - val_loss: 1.2374 - val_accuracy: 0.4449\n",
            "Epoch 58/500\n",
            "24/24 [==============================] - 0s 4ms/step - loss: 1.2149 - accuracy: 0.4626 - val_loss: 1.2379 - val_accuracy: 0.4414\n",
            "Epoch 59/500\n",
            "24/24 [==============================] - 0s 3ms/step - loss: 1.2141 - accuracy: 0.4584 - val_loss: 1.2369 - val_accuracy: 0.4418\n",
            "Epoch 60/500\n",
            "24/24 [==============================] - 0s 3ms/step - loss: 1.2136 - accuracy: 0.4548 - val_loss: 1.2367 - val_accuracy: 0.4411\n",
            "Epoch 61/500\n",
            "24/24 [==============================] - 0s 4ms/step - loss: 1.2127 - accuracy: 0.4602 - val_loss: 1.2365 - val_accuracy: 0.4418\n",
            "Epoch 62/500\n",
            "24/24 [==============================] - 0s 4ms/step - loss: 1.2127 - accuracy: 0.4585 - val_loss: 1.2354 - val_accuracy: 0.4442\n",
            "Epoch 63/500\n",
            "24/24 [==============================] - 0s 4ms/step - loss: 1.2120 - accuracy: 0.4582 - val_loss: 1.2365 - val_accuracy: 0.4404\n",
            "Epoch 64/500\n",
            "24/24 [==============================] - 0s 5ms/step - loss: 1.2113 - accuracy: 0.4597 - val_loss: 1.2346 - val_accuracy: 0.4459\n",
            "Epoch 65/500\n",
            "24/24 [==============================] - 0s 11ms/step - loss: 1.2104 - accuracy: 0.4589 - val_loss: 1.2346 - val_accuracy: 0.4452\n",
            "Epoch 66/500\n",
            "24/24 [==============================] - 0s 8ms/step - loss: 1.2098 - accuracy: 0.4580 - val_loss: 1.2341 - val_accuracy: 0.4459\n",
            "Epoch 67/500\n",
            "24/24 [==============================] - 0s 4ms/step - loss: 1.2098 - accuracy: 0.4548 - val_loss: 1.2336 - val_accuracy: 0.4480\n",
            "Epoch 68/500\n",
            "24/24 [==============================] - 0s 4ms/step - loss: 1.2089 - accuracy: 0.4597 - val_loss: 1.2334 - val_accuracy: 0.4428\n",
            "Epoch 69/500\n",
            "24/24 [==============================] - 0s 4ms/step - loss: 1.2084 - accuracy: 0.4595 - val_loss: 1.2328 - val_accuracy: 0.4438\n",
            "Epoch 70/500\n",
            "24/24 [==============================] - 0s 3ms/step - loss: 1.2075 - accuracy: 0.4584 - val_loss: 1.2329 - val_accuracy: 0.4431\n",
            "Epoch 71/500\n",
            "24/24 [==============================] - 0s 4ms/step - loss: 1.2081 - accuracy: 0.4590 - val_loss: 1.2325 - val_accuracy: 0.4431\n",
            "Epoch 72/500\n",
            "24/24 [==============================] - 0s 3ms/step - loss: 1.2068 - accuracy: 0.4631 - val_loss: 1.2315 - val_accuracy: 0.4431\n",
            "Epoch 73/500\n",
            "24/24 [==============================] - 0s 4ms/step - loss: 1.2066 - accuracy: 0.4624 - val_loss: 1.2309 - val_accuracy: 0.4486\n",
            "Epoch 74/500\n",
            "24/24 [==============================] - 0s 4ms/step - loss: 1.2057 - accuracy: 0.4617 - val_loss: 1.2310 - val_accuracy: 0.4469\n",
            "Epoch 75/500\n",
            "24/24 [==============================] - 0s 3ms/step - loss: 1.2057 - accuracy: 0.4633 - val_loss: 1.2324 - val_accuracy: 0.4421\n",
            "Epoch 76/500\n",
            "24/24 [==============================] - 0s 3ms/step - loss: 1.2045 - accuracy: 0.4621 - val_loss: 1.2311 - val_accuracy: 0.4438\n",
            "Epoch 77/500\n",
            "24/24 [==============================] - 0s 4ms/step - loss: 1.2043 - accuracy: 0.4646 - val_loss: 1.2318 - val_accuracy: 0.4435\n",
            "Epoch 78/500\n",
            "24/24 [==============================] - 0s 4ms/step - loss: 1.2040 - accuracy: 0.4621 - val_loss: 1.2307 - val_accuracy: 0.4449\n",
            "Epoch 79/500\n",
            "24/24 [==============================] - 0s 4ms/step - loss: 1.2033 - accuracy: 0.4641 - val_loss: 1.2299 - val_accuracy: 0.4469\n",
            "Epoch 80/500\n",
            "24/24 [==============================] - 0s 4ms/step - loss: 1.2033 - accuracy: 0.4675 - val_loss: 1.2301 - val_accuracy: 0.4445\n",
            "Epoch 81/500\n",
            "24/24 [==============================] - 0s 3ms/step - loss: 1.2031 - accuracy: 0.4670 - val_loss: 1.2292 - val_accuracy: 0.4462\n",
            "Epoch 82/500\n",
            "24/24 [==============================] - 0s 3ms/step - loss: 1.2021 - accuracy: 0.4606 - val_loss: 1.2292 - val_accuracy: 0.4476\n",
            "Epoch 83/500\n",
            "24/24 [==============================] - 0s 4ms/step - loss: 1.2017 - accuracy: 0.4638 - val_loss: 1.2293 - val_accuracy: 0.4466\n",
            "Epoch 84/500\n",
            "24/24 [==============================] - 0s 3ms/step - loss: 1.2014 - accuracy: 0.4650 - val_loss: 1.2290 - val_accuracy: 0.4500\n",
            "Epoch 85/500\n",
            "24/24 [==============================] - 0s 4ms/step - loss: 1.2011 - accuracy: 0.4641 - val_loss: 1.2295 - val_accuracy: 0.4490\n",
            "Epoch 86/500\n",
            "24/24 [==============================] - 0s 4ms/step - loss: 1.2000 - accuracy: 0.4653 - val_loss: 1.2285 - val_accuracy: 0.4459\n",
            "Epoch 87/500\n",
            "24/24 [==============================] - 0s 3ms/step - loss: 1.1997 - accuracy: 0.4677 - val_loss: 1.2286 - val_accuracy: 0.4438\n",
            "Epoch 88/500\n",
            "24/24 [==============================] - 0s 4ms/step - loss: 1.1993 - accuracy: 0.4665 - val_loss: 1.2278 - val_accuracy: 0.4480\n",
            "Epoch 89/500\n",
            "24/24 [==============================] - 0s 4ms/step - loss: 1.1999 - accuracy: 0.4655 - val_loss: 1.2288 - val_accuracy: 0.4438\n",
            "Epoch 90/500\n",
            "24/24 [==============================] - 0s 4ms/step - loss: 1.1989 - accuracy: 0.4656 - val_loss: 1.2276 - val_accuracy: 0.4473\n",
            "Epoch 91/500\n",
            "24/24 [==============================] - 0s 3ms/step - loss: 1.1989 - accuracy: 0.4697 - val_loss: 1.2285 - val_accuracy: 0.4469\n",
            "Epoch 92/500\n",
            "24/24 [==============================] - 0s 4ms/step - loss: 1.1987 - accuracy: 0.4650 - val_loss: 1.2268 - val_accuracy: 0.4497\n",
            "Epoch 93/500\n",
            "24/24 [==============================] - 0s 4ms/step - loss: 1.1973 - accuracy: 0.4694 - val_loss: 1.2263 - val_accuracy: 0.4493\n",
            "Epoch 94/500\n",
            "24/24 [==============================] - 0s 3ms/step - loss: 1.1973 - accuracy: 0.4685 - val_loss: 1.2265 - val_accuracy: 0.4466\n",
            "Epoch 95/500\n",
            "24/24 [==============================] - 0s 3ms/step - loss: 1.1976 - accuracy: 0.4682 - val_loss: 1.2268 - val_accuracy: 0.4483\n",
            "Epoch 96/500\n",
            "24/24 [==============================] - 0s 4ms/step - loss: 1.1968 - accuracy: 0.4656 - val_loss: 1.2270 - val_accuracy: 0.4442\n",
            "Epoch 97/500\n",
            "24/24 [==============================] - 0s 3ms/step - loss: 1.1974 - accuracy: 0.4670 - val_loss: 1.2258 - val_accuracy: 0.4462\n",
            "Epoch 98/500\n",
            "24/24 [==============================] - 0s 3ms/step - loss: 1.1958 - accuracy: 0.4695 - val_loss: 1.2259 - val_accuracy: 0.4466\n",
            "Epoch 99/500\n",
            "24/24 [==============================] - 0s 4ms/step - loss: 1.1976 - accuracy: 0.4633 - val_loss: 1.2275 - val_accuracy: 0.4425\n",
            "Epoch 100/500\n",
            "24/24 [==============================] - 0s 3ms/step - loss: 1.1962 - accuracy: 0.4677 - val_loss: 1.2246 - val_accuracy: 0.4545\n",
            "Epoch 101/500\n",
            "24/24 [==============================] - 0s 4ms/step - loss: 1.1952 - accuracy: 0.4685 - val_loss: 1.2259 - val_accuracy: 0.4504\n",
            "Epoch 102/500\n",
            "24/24 [==============================] - 0s 4ms/step - loss: 1.1959 - accuracy: 0.4678 - val_loss: 1.2242 - val_accuracy: 0.4504\n",
            "Epoch 103/500\n",
            "24/24 [==============================] - 0s 4ms/step - loss: 1.1947 - accuracy: 0.4690 - val_loss: 1.2240 - val_accuracy: 0.4493\n",
            "Epoch 104/500\n",
            "24/24 [==============================] - 0s 3ms/step - loss: 1.1943 - accuracy: 0.4726 - val_loss: 1.2248 - val_accuracy: 0.4497\n",
            "Epoch 105/500\n",
            "24/24 [==============================] - 0s 3ms/step - loss: 1.1939 - accuracy: 0.4731 - val_loss: 1.2245 - val_accuracy: 0.4490\n",
            "Epoch 106/500\n",
            "24/24 [==============================] - 0s 4ms/step - loss: 1.1948 - accuracy: 0.4658 - val_loss: 1.2244 - val_accuracy: 0.4504\n",
            "Epoch 107/500\n",
            "24/24 [==============================] - 0s 3ms/step - loss: 1.1944 - accuracy: 0.4675 - val_loss: 1.2242 - val_accuracy: 0.4483\n",
            "Epoch 108/500\n",
            "24/24 [==============================] - 0s 4ms/step - loss: 1.1942 - accuracy: 0.4707 - val_loss: 1.2230 - val_accuracy: 0.4497\n",
            "Epoch 109/500\n",
            "24/24 [==============================] - 0s 4ms/step - loss: 1.1963 - accuracy: 0.4733 - val_loss: 1.2246 - val_accuracy: 0.4473\n",
            "Epoch 110/500\n",
            "24/24 [==============================] - 0s 4ms/step - loss: 1.1925 - accuracy: 0.4714 - val_loss: 1.2233 - val_accuracy: 0.4524\n",
            "Epoch 111/500\n",
            "24/24 [==============================] - 0s 4ms/step - loss: 1.1929 - accuracy: 0.4721 - val_loss: 1.2234 - val_accuracy: 0.4480\n",
            "Epoch 112/500\n",
            "24/24 [==============================] - 0s 4ms/step - loss: 1.1924 - accuracy: 0.4722 - val_loss: 1.2225 - val_accuracy: 0.4459\n",
            "Epoch 113/500\n",
            "24/24 [==============================] - 0s 3ms/step - loss: 1.1924 - accuracy: 0.4738 - val_loss: 1.2228 - val_accuracy: 0.4476\n",
            "Epoch 114/500\n",
            "24/24 [==============================] - 0s 3ms/step - loss: 1.1919 - accuracy: 0.4714 - val_loss: 1.2226 - val_accuracy: 0.4473\n",
            "Epoch 115/500\n",
            "24/24 [==============================] - 0s 3ms/step - loss: 1.1914 - accuracy: 0.4729 - val_loss: 1.2217 - val_accuracy: 0.4486\n",
            "Epoch 116/500\n",
            "24/24 [==============================] - 0s 4ms/step - loss: 1.1919 - accuracy: 0.4726 - val_loss: 1.2215 - val_accuracy: 0.4524\n",
            "Epoch 117/500\n",
            "24/24 [==============================] - 0s 4ms/step - loss: 1.1907 - accuracy: 0.4722 - val_loss: 1.2226 - val_accuracy: 0.4507\n",
            "Epoch 118/500\n",
            "24/24 [==============================] - 0s 4ms/step - loss: 1.1911 - accuracy: 0.4727 - val_loss: 1.2220 - val_accuracy: 0.4476\n",
            "Epoch 119/500\n",
            "24/24 [==============================] - 0s 4ms/step - loss: 1.1910 - accuracy: 0.4712 - val_loss: 1.2212 - val_accuracy: 0.4517\n",
            "Epoch 120/500\n",
            "24/24 [==============================] - 0s 5ms/step - loss: 1.1913 - accuracy: 0.4733 - val_loss: 1.2209 - val_accuracy: 0.4500\n",
            "Epoch 121/500\n",
            "24/24 [==============================] - 0s 4ms/step - loss: 1.1903 - accuracy: 0.4721 - val_loss: 1.2218 - val_accuracy: 0.4490\n",
            "Epoch 122/500\n",
            "24/24 [==============================] - 0s 5ms/step - loss: 1.1900 - accuracy: 0.4716 - val_loss: 1.2216 - val_accuracy: 0.4500\n",
            "Epoch 123/500\n",
            "24/24 [==============================] - 0s 4ms/step - loss: 1.1900 - accuracy: 0.4721 - val_loss: 1.2212 - val_accuracy: 0.4490\n",
            "Epoch 124/500\n",
            "24/24 [==============================] - 0s 7ms/step - loss: 1.1906 - accuracy: 0.4741 - val_loss: 1.2215 - val_accuracy: 0.4480\n",
            "Epoch 125/500\n",
            "24/24 [==============================] - 0s 8ms/step - loss: 1.1891 - accuracy: 0.4785 - val_loss: 1.2212 - val_accuracy: 0.4514\n",
            "Epoch 126/500\n",
            "24/24 [==============================] - 0s 8ms/step - loss: 1.1900 - accuracy: 0.4749 - val_loss: 1.2206 - val_accuracy: 0.4483\n",
            "Epoch 127/500\n",
            "24/24 [==============================] - 0s 6ms/step - loss: 1.1900 - accuracy: 0.4746 - val_loss: 1.2210 - val_accuracy: 0.4507\n",
            "Epoch 128/500\n",
            "24/24 [==============================] - 0s 7ms/step - loss: 1.1889 - accuracy: 0.4726 - val_loss: 1.2203 - val_accuracy: 0.4524\n",
            "Epoch 129/500\n",
            "24/24 [==============================] - 0s 5ms/step - loss: 1.1886 - accuracy: 0.4699 - val_loss: 1.2210 - val_accuracy: 0.4521\n",
            "Epoch 130/500\n",
            "24/24 [==============================] - 0s 7ms/step - loss: 1.1894 - accuracy: 0.4727 - val_loss: 1.2199 - val_accuracy: 0.4493\n",
            "Epoch 131/500\n",
            "24/24 [==============================] - 0s 7ms/step - loss: 1.1880 - accuracy: 0.4717 - val_loss: 1.2200 - val_accuracy: 0.4480\n",
            "Epoch 132/500\n",
            "24/24 [==============================] - 0s 7ms/step - loss: 1.1886 - accuracy: 0.4709 - val_loss: 1.2192 - val_accuracy: 0.4507\n",
            "Epoch 133/500\n",
            "24/24 [==============================] - 0s 7ms/step - loss: 1.1886 - accuracy: 0.4782 - val_loss: 1.2197 - val_accuracy: 0.4531\n",
            "Epoch 134/500\n",
            "24/24 [==============================] - 0s 8ms/step - loss: 1.1885 - accuracy: 0.4712 - val_loss: 1.2201 - val_accuracy: 0.4497\n",
            "Epoch 135/500\n",
            "24/24 [==============================] - 0s 8ms/step - loss: 1.1881 - accuracy: 0.4734 - val_loss: 1.2193 - val_accuracy: 0.4507\n",
            "Epoch 136/500\n",
            "24/24 [==============================] - 0s 6ms/step - loss: 1.1878 - accuracy: 0.4734 - val_loss: 1.2197 - val_accuracy: 0.4504\n",
            "Epoch 137/500\n",
            "24/24 [==============================] - 0s 6ms/step - loss: 1.1880 - accuracy: 0.4744 - val_loss: 1.2190 - val_accuracy: 0.4521\n",
            "Epoch 138/500\n",
            "24/24 [==============================] - 0s 7ms/step - loss: 1.1872 - accuracy: 0.4687 - val_loss: 1.2195 - val_accuracy: 0.4531\n",
            "Epoch 139/500\n",
            "24/24 [==============================] - 0s 5ms/step - loss: 1.1870 - accuracy: 0.4748 - val_loss: 1.2186 - val_accuracy: 0.4504\n",
            "Epoch 140/500\n",
            "24/24 [==============================] - 0s 5ms/step - loss: 1.1873 - accuracy: 0.4739 - val_loss: 1.2181 - val_accuracy: 0.4507\n",
            "Epoch 141/500\n",
            "24/24 [==============================] - 0s 4ms/step - loss: 1.1872 - accuracy: 0.4743 - val_loss: 1.2191 - val_accuracy: 0.4480\n",
            "Epoch 142/500\n",
            "24/24 [==============================] - 0s 4ms/step - loss: 1.1868 - accuracy: 0.4721 - val_loss: 1.2190 - val_accuracy: 0.4531\n",
            "Epoch 143/500\n",
            "24/24 [==============================] - 0s 4ms/step - loss: 1.1873 - accuracy: 0.4758 - val_loss: 1.2185 - val_accuracy: 0.4507\n",
            "Epoch 144/500\n",
            "24/24 [==============================] - 0s 4ms/step - loss: 1.1859 - accuracy: 0.4714 - val_loss: 1.2181 - val_accuracy: 0.4521\n",
            "Epoch 145/500\n",
            "24/24 [==============================] - 0s 4ms/step - loss: 1.1868 - accuracy: 0.4765 - val_loss: 1.2178 - val_accuracy: 0.4507\n",
            "Epoch 146/500\n",
            "24/24 [==============================] - 0s 3ms/step - loss: 1.1869 - accuracy: 0.4768 - val_loss: 1.2193 - val_accuracy: 0.4548\n",
            "Epoch 147/500\n",
            "24/24 [==============================] - 0s 4ms/step - loss: 1.1863 - accuracy: 0.4751 - val_loss: 1.2168 - val_accuracy: 0.4528\n",
            "Epoch 148/500\n",
            "24/24 [==============================] - 0s 3ms/step - loss: 1.1864 - accuracy: 0.4739 - val_loss: 1.2178 - val_accuracy: 0.4514\n",
            "Epoch 149/500\n",
            "24/24 [==============================] - 0s 3ms/step - loss: 1.1856 - accuracy: 0.4770 - val_loss: 1.2188 - val_accuracy: 0.4559\n",
            "Epoch 150/500\n",
            "24/24 [==============================] - 0s 3ms/step - loss: 1.1854 - accuracy: 0.4809 - val_loss: 1.2170 - val_accuracy: 0.4510\n",
            "Epoch 151/500\n",
            "24/24 [==============================] - 0s 4ms/step - loss: 1.1856 - accuracy: 0.4744 - val_loss: 1.2174 - val_accuracy: 0.4531\n",
            "Epoch 152/500\n",
            "24/24 [==============================] - 0s 4ms/step - loss: 1.1854 - accuracy: 0.4777 - val_loss: 1.2165 - val_accuracy: 0.4535\n",
            "Epoch 153/500\n",
            "24/24 [==============================] - 0s 4ms/step - loss: 1.1866 - accuracy: 0.4763 - val_loss: 1.2167 - val_accuracy: 0.4528\n",
            "Epoch 154/500\n",
            "24/24 [==============================] - 0s 3ms/step - loss: 1.1860 - accuracy: 0.4765 - val_loss: 1.2177 - val_accuracy: 0.4552\n",
            "Epoch 155/500\n",
            "24/24 [==============================] - 0s 4ms/step - loss: 1.1856 - accuracy: 0.4773 - val_loss: 1.2164 - val_accuracy: 0.4531\n",
            "Epoch 156/500\n",
            "24/24 [==============================] - 0s 4ms/step - loss: 1.1853 - accuracy: 0.4749 - val_loss: 1.2164 - val_accuracy: 0.4514\n",
            "Epoch 157/500\n",
            "24/24 [==============================] - 0s 4ms/step - loss: 1.1854 - accuracy: 0.4717 - val_loss: 1.2179 - val_accuracy: 0.4521\n",
            "Epoch 158/500\n",
            "24/24 [==============================] - 0s 4ms/step - loss: 1.1854 - accuracy: 0.4802 - val_loss: 1.2165 - val_accuracy: 0.4524\n",
            "Epoch 159/500\n",
            "24/24 [==============================] - 0s 4ms/step - loss: 1.1847 - accuracy: 0.4790 - val_loss: 1.2171 - val_accuracy: 0.4510\n",
            "Epoch 160/500\n",
            "24/24 [==============================] - 0s 4ms/step - loss: 1.1849 - accuracy: 0.4733 - val_loss: 1.2174 - val_accuracy: 0.4538\n",
            "Epoch 161/500\n",
            "24/24 [==============================] - 0s 4ms/step - loss: 1.1851 - accuracy: 0.4729 - val_loss: 1.2166 - val_accuracy: 0.4541\n",
            "Epoch 162/500\n",
            "24/24 [==============================] - 0s 4ms/step - loss: 1.1847 - accuracy: 0.4733 - val_loss: 1.2169 - val_accuracy: 0.4531\n",
            "Epoch 163/500\n",
            "24/24 [==============================] - 0s 4ms/step - loss: 1.1841 - accuracy: 0.4724 - val_loss: 1.2167 - val_accuracy: 0.4507\n",
            "Epoch 164/500\n",
            "24/24 [==============================] - 0s 4ms/step - loss: 1.1845 - accuracy: 0.4758 - val_loss: 1.2171 - val_accuracy: 0.4510\n",
            "Epoch 165/500\n",
            "24/24 [==============================] - 0s 5ms/step - loss: 1.1840 - accuracy: 0.4727 - val_loss: 1.2163 - val_accuracy: 0.4531\n",
            "Epoch 166/500\n",
            "24/24 [==============================] - 0s 4ms/step - loss: 1.1839 - accuracy: 0.4770 - val_loss: 1.2156 - val_accuracy: 0.4535\n",
            "Epoch 167/500\n",
            "24/24 [==============================] - 0s 4ms/step - loss: 1.1840 - accuracy: 0.4802 - val_loss: 1.2156 - val_accuracy: 0.4517\n",
            "Epoch 168/500\n",
            "24/24 [==============================] - 0s 4ms/step - loss: 1.1848 - accuracy: 0.4766 - val_loss: 1.2167 - val_accuracy: 0.4531\n",
            "Epoch 169/500\n",
            "24/24 [==============================] - 0s 4ms/step - loss: 1.1840 - accuracy: 0.4771 - val_loss: 1.2165 - val_accuracy: 0.4548\n",
            "Epoch 170/500\n",
            "24/24 [==============================] - 0s 4ms/step - loss: 1.1837 - accuracy: 0.4777 - val_loss: 1.2173 - val_accuracy: 0.4552\n",
            "Epoch 171/500\n",
            "24/24 [==============================] - 0s 4ms/step - loss: 1.1838 - accuracy: 0.4758 - val_loss: 1.2154 - val_accuracy: 0.4497\n",
            "Epoch 172/500\n",
            "24/24 [==============================] - 0s 4ms/step - loss: 1.1832 - accuracy: 0.4788 - val_loss: 1.2158 - val_accuracy: 0.4559\n",
            "Epoch 173/500\n",
            "24/24 [==============================] - 0s 4ms/step - loss: 1.1829 - accuracy: 0.4738 - val_loss: 1.2162 - val_accuracy: 0.4521\n",
            "Epoch 174/500\n",
            "24/24 [==============================] - 0s 4ms/step - loss: 1.1830 - accuracy: 0.4746 - val_loss: 1.2169 - val_accuracy: 0.4535\n",
            "Epoch 175/500\n",
            "24/24 [==============================] - 0s 4ms/step - loss: 1.1829 - accuracy: 0.4768 - val_loss: 1.2159 - val_accuracy: 0.4559\n",
            "Epoch 176/500\n",
            "24/24 [==============================] - 0s 4ms/step - loss: 1.1835 - accuracy: 0.4721 - val_loss: 1.2165 - val_accuracy: 0.4517\n",
            "Epoch 177/500\n",
            "24/24 [==============================] - 0s 4ms/step - loss: 1.1832 - accuracy: 0.4749 - val_loss: 1.2161 - val_accuracy: 0.4524\n",
            "Epoch 178/500\n",
            "24/24 [==============================] - 0s 4ms/step - loss: 1.1830 - accuracy: 0.4726 - val_loss: 1.2166 - val_accuracy: 0.4545\n",
            "Epoch 179/500\n",
            "24/24 [==============================] - 0s 4ms/step - loss: 1.1826 - accuracy: 0.4746 - val_loss: 1.2153 - val_accuracy: 0.4545\n",
            "Epoch 180/500\n",
            "24/24 [==============================] - 0s 4ms/step - loss: 1.1826 - accuracy: 0.4773 - val_loss: 1.2157 - val_accuracy: 0.4538\n",
            "Epoch 181/500\n",
            "24/24 [==============================] - 0s 4ms/step - loss: 1.1830 - accuracy: 0.4775 - val_loss: 1.2150 - val_accuracy: 0.4565\n",
            "Epoch 182/500\n",
            "24/24 [==============================] - 0s 5ms/step - loss: 1.1823 - accuracy: 0.4766 - val_loss: 1.2149 - val_accuracy: 0.4538\n",
            "Epoch 183/500\n",
            "24/24 [==============================] - 0s 4ms/step - loss: 1.1819 - accuracy: 0.4733 - val_loss: 1.2154 - val_accuracy: 0.4559\n",
            "Epoch 184/500\n",
            "24/24 [==============================] - 0s 4ms/step - loss: 1.1826 - accuracy: 0.4771 - val_loss: 1.2151 - val_accuracy: 0.4559\n",
            "Epoch 185/500\n",
            "24/24 [==============================] - 0s 3ms/step - loss: 1.1815 - accuracy: 0.4756 - val_loss: 1.2156 - val_accuracy: 0.4555\n",
            "Epoch 186/500\n",
            "24/24 [==============================] - 0s 3ms/step - loss: 1.1816 - accuracy: 0.4773 - val_loss: 1.2154 - val_accuracy: 0.4589\n",
            "Epoch 187/500\n",
            "24/24 [==============================] - 0s 4ms/step - loss: 1.1828 - accuracy: 0.4756 - val_loss: 1.2159 - val_accuracy: 0.4545\n",
            "Epoch 188/500\n",
            "24/24 [==============================] - 0s 3ms/step - loss: 1.1816 - accuracy: 0.4744 - val_loss: 1.2145 - val_accuracy: 0.4576\n",
            "Epoch 189/500\n",
            "24/24 [==============================] - 0s 4ms/step - loss: 1.1822 - accuracy: 0.4751 - val_loss: 1.2147 - val_accuracy: 0.4538\n",
            "Epoch 190/500\n",
            "24/24 [==============================] - 0s 4ms/step - loss: 1.1817 - accuracy: 0.4751 - val_loss: 1.2158 - val_accuracy: 0.4579\n",
            "Epoch 191/500\n",
            "24/24 [==============================] - 0s 3ms/step - loss: 1.1817 - accuracy: 0.4787 - val_loss: 1.2147 - val_accuracy: 0.4562\n",
            "Epoch 192/500\n",
            "24/24 [==============================] - 0s 3ms/step - loss: 1.1811 - accuracy: 0.4726 - val_loss: 1.2144 - val_accuracy: 0.4555\n",
            "Epoch 193/500\n",
            "24/24 [==============================] - 0s 4ms/step - loss: 1.1806 - accuracy: 0.4760 - val_loss: 1.2146 - val_accuracy: 0.4528\n",
            "Epoch 194/500\n",
            "24/24 [==============================] - 0s 3ms/step - loss: 1.1808 - accuracy: 0.4743 - val_loss: 1.2152 - val_accuracy: 0.4555\n",
            "Epoch 195/500\n",
            "24/24 [==============================] - 0s 3ms/step - loss: 1.1811 - accuracy: 0.4785 - val_loss: 1.2148 - val_accuracy: 0.4559\n",
            "Epoch 196/500\n",
            "24/24 [==============================] - 0s 4ms/step - loss: 1.1806 - accuracy: 0.4753 - val_loss: 1.2143 - val_accuracy: 0.4569\n",
            "Epoch 197/500\n",
            "24/24 [==============================] - 0s 5ms/step - loss: 1.1809 - accuracy: 0.4753 - val_loss: 1.2160 - val_accuracy: 0.4541\n",
            "Epoch 198/500\n",
            "24/24 [==============================] - 0s 5ms/step - loss: 1.1812 - accuracy: 0.4761 - val_loss: 1.2152 - val_accuracy: 0.4548\n",
            "Epoch 199/500\n",
            "24/24 [==============================] - 0s 4ms/step - loss: 1.1806 - accuracy: 0.4738 - val_loss: 1.2150 - val_accuracy: 0.4548\n",
            "Epoch 200/500\n",
            "24/24 [==============================] - 0s 4ms/step - loss: 1.1811 - accuracy: 0.4778 - val_loss: 1.2136 - val_accuracy: 0.4569\n",
            "Epoch 201/500\n",
            "24/24 [==============================] - 0s 4ms/step - loss: 1.1802 - accuracy: 0.4751 - val_loss: 1.2149 - val_accuracy: 0.4586\n",
            "Epoch 202/500\n",
            "24/24 [==============================] - 0s 4ms/step - loss: 1.1801 - accuracy: 0.4790 - val_loss: 1.2143 - val_accuracy: 0.4593\n",
            "Epoch 203/500\n",
            "24/24 [==============================] - 0s 5ms/step - loss: 1.1803 - accuracy: 0.4749 - val_loss: 1.2163 - val_accuracy: 0.4600\n",
            "Epoch 204/500\n",
            "24/24 [==============================] - 0s 4ms/step - loss: 1.1814 - accuracy: 0.4756 - val_loss: 1.2148 - val_accuracy: 0.4559\n",
            "Epoch 205/500\n",
            "24/24 [==============================] - 0s 4ms/step - loss: 1.1804 - accuracy: 0.4765 - val_loss: 1.2143 - val_accuracy: 0.4552\n",
            "Epoch 206/500\n",
            "24/24 [==============================] - 0s 5ms/step - loss: 1.1805 - accuracy: 0.4758 - val_loss: 1.2153 - val_accuracy: 0.4579\n",
            "Epoch 207/500\n",
            "24/24 [==============================] - 0s 4ms/step - loss: 1.1812 - accuracy: 0.4736 - val_loss: 1.2137 - val_accuracy: 0.4565\n",
            "Epoch 208/500\n",
            "24/24 [==============================] - 0s 4ms/step - loss: 1.1805 - accuracy: 0.4778 - val_loss: 1.2137 - val_accuracy: 0.4589\n",
            "Epoch 209/500\n",
            "24/24 [==============================] - 0s 5ms/step - loss: 1.1810 - accuracy: 0.4743 - val_loss: 1.2143 - val_accuracy: 0.4555\n",
            "Epoch 210/500\n",
            "24/24 [==============================] - 0s 4ms/step - loss: 1.1803 - accuracy: 0.4739 - val_loss: 1.2145 - val_accuracy: 0.4579\n",
            "Epoch 211/500\n",
            "24/24 [==============================] - 0s 4ms/step - loss: 1.1795 - accuracy: 0.4736 - val_loss: 1.2143 - val_accuracy: 0.4586\n",
            "Epoch 212/500\n",
            "24/24 [==============================] - 0s 5ms/step - loss: 1.1798 - accuracy: 0.4773 - val_loss: 1.2143 - val_accuracy: 0.4572\n",
            "Epoch 213/500\n",
            "24/24 [==============================] - 0s 4ms/step - loss: 1.1796 - accuracy: 0.4771 - val_loss: 1.2142 - val_accuracy: 0.4565\n",
            "Epoch 214/500\n",
            "24/24 [==============================] - 0s 4ms/step - loss: 1.1805 - accuracy: 0.4785 - val_loss: 1.2158 - val_accuracy: 0.4562\n",
            "Epoch 215/500\n",
            "24/24 [==============================] - 0s 3ms/step - loss: 1.1796 - accuracy: 0.4760 - val_loss: 1.2132 - val_accuracy: 0.4572\n",
            "Epoch 216/500\n",
            "24/24 [==============================] - 0s 3ms/step - loss: 1.1792 - accuracy: 0.4787 - val_loss: 1.2141 - val_accuracy: 0.4569\n",
            "Epoch 217/500\n",
            "24/24 [==============================] - 0s 4ms/step - loss: 1.1796 - accuracy: 0.4788 - val_loss: 1.2135 - val_accuracy: 0.4586\n",
            "Epoch 218/500\n",
            "24/24 [==============================] - 0s 3ms/step - loss: 1.1788 - accuracy: 0.4755 - val_loss: 1.2132 - val_accuracy: 0.4572\n",
            "Epoch 219/500\n",
            "24/24 [==============================] - 0s 4ms/step - loss: 1.1794 - accuracy: 0.4768 - val_loss: 1.2139 - val_accuracy: 0.4596\n",
            "Epoch 220/500\n",
            "24/24 [==============================] - 0s 4ms/step - loss: 1.1804 - accuracy: 0.4724 - val_loss: 1.2127 - val_accuracy: 0.4569\n",
            "Epoch 221/500\n",
            "24/24 [==============================] - 0s 4ms/step - loss: 1.1789 - accuracy: 0.4777 - val_loss: 1.2157 - val_accuracy: 0.4610\n",
            "Epoch 222/500\n",
            "24/24 [==============================] - 0s 4ms/step - loss: 1.1804 - accuracy: 0.4751 - val_loss: 1.2124 - val_accuracy: 0.4583\n",
            "Epoch 223/500\n",
            "24/24 [==============================] - 0s 4ms/step - loss: 1.1794 - accuracy: 0.4782 - val_loss: 1.2123 - val_accuracy: 0.4589\n",
            "Epoch 224/500\n",
            "24/24 [==============================] - 0s 4ms/step - loss: 1.1787 - accuracy: 0.4760 - val_loss: 1.2135 - val_accuracy: 0.4555\n",
            "Epoch 225/500\n",
            "24/24 [==============================] - 0s 4ms/step - loss: 1.1787 - accuracy: 0.4780 - val_loss: 1.2122 - val_accuracy: 0.4579\n",
            "Epoch 226/500\n",
            "24/24 [==============================] - 0s 4ms/step - loss: 1.1805 - accuracy: 0.4744 - val_loss: 1.2126 - val_accuracy: 0.4572\n",
            "Epoch 227/500\n",
            "24/24 [==============================] - 0s 4ms/step - loss: 1.1800 - accuracy: 0.4787 - val_loss: 1.2126 - val_accuracy: 0.4593\n",
            "Epoch 228/500\n",
            "24/24 [==============================] - 0s 4ms/step - loss: 1.1794 - accuracy: 0.4780 - val_loss: 1.2121 - val_accuracy: 0.4596\n",
            "Epoch 229/500\n",
            "24/24 [==============================] - 0s 4ms/step - loss: 1.1799 - accuracy: 0.4761 - val_loss: 1.2126 - val_accuracy: 0.4586\n",
            "Epoch 230/500\n",
            "24/24 [==============================] - 0s 4ms/step - loss: 1.1797 - accuracy: 0.4770 - val_loss: 1.2121 - val_accuracy: 0.4607\n",
            "Epoch 231/500\n",
            "24/24 [==============================] - 0s 4ms/step - loss: 1.1801 - accuracy: 0.4748 - val_loss: 1.2143 - val_accuracy: 0.4589\n",
            "Epoch 232/500\n",
            "24/24 [==============================] - 0s 4ms/step - loss: 1.1798 - accuracy: 0.4716 - val_loss: 1.2126 - val_accuracy: 0.4576\n",
            "Epoch 233/500\n",
            "24/24 [==============================] - 0s 4ms/step - loss: 1.1794 - accuracy: 0.4770 - val_loss: 1.2112 - val_accuracy: 0.4610\n",
            "Epoch 234/500\n",
            "24/24 [==============================] - 0s 4ms/step - loss: 1.1808 - accuracy: 0.4746 - val_loss: 1.2126 - val_accuracy: 0.4572\n",
            "Epoch 235/500\n",
            "24/24 [==============================] - 0s 3ms/step - loss: 1.1791 - accuracy: 0.4760 - val_loss: 1.2114 - val_accuracy: 0.4607\n",
            "Epoch 236/500\n",
            "24/24 [==============================] - 0s 4ms/step - loss: 1.1790 - accuracy: 0.4810 - val_loss: 1.2142 - val_accuracy: 0.4607\n",
            "Epoch 237/500\n",
            "24/24 [==============================] - 0s 3ms/step - loss: 1.1795 - accuracy: 0.4748 - val_loss: 1.2115 - val_accuracy: 0.4627\n",
            "Epoch 238/500\n",
            "24/24 [==============================] - 0s 6ms/step - loss: 1.1782 - accuracy: 0.4763 - val_loss: 1.2113 - val_accuracy: 0.4614\n",
            "Epoch 239/500\n",
            "24/24 [==============================] - 0s 8ms/step - loss: 1.1775 - accuracy: 0.4738 - val_loss: 1.2117 - val_accuracy: 0.4617\n",
            "Epoch 240/500\n",
            "24/24 [==============================] - 0s 7ms/step - loss: 1.1791 - accuracy: 0.4763 - val_loss: 1.2123 - val_accuracy: 0.4576\n",
            "Epoch 241/500\n",
            "24/24 [==============================] - 0s 7ms/step - loss: 1.1778 - accuracy: 0.4771 - val_loss: 1.2115 - val_accuracy: 0.4596\n",
            "Epoch 242/500\n",
            "24/24 [==============================] - 0s 9ms/step - loss: 1.1779 - accuracy: 0.4777 - val_loss: 1.2114 - val_accuracy: 0.4610\n",
            "Epoch 243/500\n",
            "24/24 [==============================] - 0s 8ms/step - loss: 1.1787 - accuracy: 0.4771 - val_loss: 1.2122 - val_accuracy: 0.4579\n",
            "Epoch 244/500\n",
            "24/24 [==============================] - 0s 7ms/step - loss: 1.1777 - accuracy: 0.4751 - val_loss: 1.2106 - val_accuracy: 0.4631\n",
            "Epoch 245/500\n",
            "24/24 [==============================] - 0s 9ms/step - loss: 1.1776 - accuracy: 0.4748 - val_loss: 1.2122 - val_accuracy: 0.4593\n",
            "Epoch 246/500\n",
            "24/24 [==============================] - 0s 7ms/step - loss: 1.1773 - accuracy: 0.4766 - val_loss: 1.2110 - val_accuracy: 0.4589\n",
            "Epoch 247/500\n",
            "24/24 [==============================] - 0s 7ms/step - loss: 1.1773 - accuracy: 0.4758 - val_loss: 1.2114 - val_accuracy: 0.4600\n",
            "Epoch 248/500\n",
            "24/24 [==============================] - 0s 8ms/step - loss: 1.1783 - accuracy: 0.4804 - val_loss: 1.2109 - val_accuracy: 0.4572\n",
            "Epoch 249/500\n",
            "24/24 [==============================] - 0s 7ms/step - loss: 1.1771 - accuracy: 0.4743 - val_loss: 1.2126 - val_accuracy: 0.4610\n",
            "Epoch 250/500\n",
            "24/24 [==============================] - 0s 7ms/step - loss: 1.1783 - accuracy: 0.4804 - val_loss: 1.2126 - val_accuracy: 0.4593\n",
            "Epoch 251/500\n",
            "24/24 [==============================] - 0s 9ms/step - loss: 1.1779 - accuracy: 0.4749 - val_loss: 1.2115 - val_accuracy: 0.4614\n",
            "Epoch 252/500\n",
            "24/24 [==============================] - 0s 8ms/step - loss: 1.1780 - accuracy: 0.4799 - val_loss: 1.2125 - val_accuracy: 0.4603\n",
            "Epoch 253/500\n",
            "24/24 [==============================] - 0s 7ms/step - loss: 1.1775 - accuracy: 0.4783 - val_loss: 1.2123 - val_accuracy: 0.4593\n",
            "Epoch 254/500\n",
            "24/24 [==============================] - 0s 7ms/step - loss: 1.1783 - accuracy: 0.4749 - val_loss: 1.2108 - val_accuracy: 0.4607\n",
            "Epoch 255/500\n",
            "24/24 [==============================] - 0s 7ms/step - loss: 1.1778 - accuracy: 0.4768 - val_loss: 1.2123 - val_accuracy: 0.4610\n",
            "Epoch 256/500\n",
            "24/24 [==============================] - 0s 7ms/step - loss: 1.1775 - accuracy: 0.4758 - val_loss: 1.2101 - val_accuracy: 0.4576\n",
            "Epoch 257/500\n",
            "24/24 [==============================] - 0s 7ms/step - loss: 1.1771 - accuracy: 0.4756 - val_loss: 1.2097 - val_accuracy: 0.4607\n",
            "Epoch 258/500\n",
            "24/24 [==============================] - 0s 9ms/step - loss: 1.1773 - accuracy: 0.4766 - val_loss: 1.2114 - val_accuracy: 0.4624\n",
            "Epoch 259/500\n",
            "24/24 [==============================] - 0s 8ms/step - loss: 1.1779 - accuracy: 0.4744 - val_loss: 1.2121 - val_accuracy: 0.4548\n",
            "Epoch 260/500\n",
            "24/24 [==============================] - 0s 8ms/step - loss: 1.1778 - accuracy: 0.4731 - val_loss: 1.2113 - val_accuracy: 0.4596\n",
            "Epoch 261/500\n",
            "24/24 [==============================] - 0s 8ms/step - loss: 1.1777 - accuracy: 0.4787 - val_loss: 1.2105 - val_accuracy: 0.4617\n",
            "Epoch 262/500\n",
            "24/24 [==============================] - 0s 9ms/step - loss: 1.1768 - accuracy: 0.4746 - val_loss: 1.2100 - val_accuracy: 0.4596\n",
            "Epoch 263/500\n",
            "24/24 [==============================] - 0s 7ms/step - loss: 1.1773 - accuracy: 0.4787 - val_loss: 1.2110 - val_accuracy: 0.4589\n",
            "Epoch 264/500\n",
            "24/24 [==============================] - 0s 8ms/step - loss: 1.1778 - accuracy: 0.4755 - val_loss: 1.2120 - val_accuracy: 0.4627\n",
            "Epoch 265/500\n",
            "24/24 [==============================] - 0s 7ms/step - loss: 1.1777 - accuracy: 0.4812 - val_loss: 1.2109 - val_accuracy: 0.4583\n",
            "Epoch 266/500\n",
            "24/24 [==============================] - 0s 6ms/step - loss: 1.1782 - accuracy: 0.4744 - val_loss: 1.2109 - val_accuracy: 0.4593\n",
            "Epoch 267/500\n",
            "24/24 [==============================] - 0s 4ms/step - loss: 1.1773 - accuracy: 0.4782 - val_loss: 1.2111 - val_accuracy: 0.4593\n",
            "Epoch 268/500\n",
            "24/24 [==============================] - 0s 4ms/step - loss: 1.1765 - accuracy: 0.4773 - val_loss: 1.2102 - val_accuracy: 0.4589\n",
            "Epoch 269/500\n",
            "24/24 [==============================] - 0s 4ms/step - loss: 1.1782 - accuracy: 0.4761 - val_loss: 1.2101 - val_accuracy: 0.4593\n",
            "Epoch 270/500\n",
            "24/24 [==============================] - 0s 4ms/step - loss: 1.1762 - accuracy: 0.4788 - val_loss: 1.2100 - val_accuracy: 0.4593\n",
            "Epoch 271/500\n",
            "24/24 [==============================] - 0s 4ms/step - loss: 1.1772 - accuracy: 0.4731 - val_loss: 1.2107 - val_accuracy: 0.4586\n",
            "Epoch 272/500\n",
            "24/24 [==============================] - 0s 4ms/step - loss: 1.1772 - accuracy: 0.4753 - val_loss: 1.2100 - val_accuracy: 0.4593\n",
            "Epoch 273/500\n",
            "24/24 [==============================] - 0s 3ms/step - loss: 1.1770 - accuracy: 0.4821 - val_loss: 1.2107 - val_accuracy: 0.4614\n",
            "Epoch 274/500\n",
            "24/24 [==============================] - 0s 4ms/step - loss: 1.1764 - accuracy: 0.4795 - val_loss: 1.2098 - val_accuracy: 0.4607\n",
            "Epoch 275/500\n",
            "24/24 [==============================] - 0s 3ms/step - loss: 1.1764 - accuracy: 0.4768 - val_loss: 1.2102 - val_accuracy: 0.4593\n",
            "Epoch 276/500\n",
            "24/24 [==============================] - 0s 4ms/step - loss: 1.1765 - accuracy: 0.4778 - val_loss: 1.2105 - val_accuracy: 0.4603\n",
            "Epoch 277/500\n",
            "24/24 [==============================] - 0s 5ms/step - loss: 1.1762 - accuracy: 0.4777 - val_loss: 1.2118 - val_accuracy: 0.4596\n",
            "Epoch 278/500\n",
            "24/24 [==============================] - 0s 4ms/step - loss: 1.1765 - accuracy: 0.4756 - val_loss: 1.2101 - val_accuracy: 0.4583\n",
            "Epoch 279/500\n",
            "24/24 [==============================] - 0s 3ms/step - loss: 1.1760 - accuracy: 0.4763 - val_loss: 1.2101 - val_accuracy: 0.4620\n",
            "Epoch 280/500\n",
            "24/24 [==============================] - 0s 4ms/step - loss: 1.1762 - accuracy: 0.4755 - val_loss: 1.2095 - val_accuracy: 0.4593\n",
            "Epoch 281/500\n",
            "24/24 [==============================] - 0s 4ms/step - loss: 1.1758 - accuracy: 0.4780 - val_loss: 1.2095 - val_accuracy: 0.4603\n",
            "Epoch 282/500\n",
            "24/24 [==============================] - 0s 5ms/step - loss: 1.1756 - accuracy: 0.4812 - val_loss: 1.2103 - val_accuracy: 0.4627\n",
            "Epoch 283/500\n",
            "24/24 [==============================] - 0s 4ms/step - loss: 1.1757 - accuracy: 0.4790 - val_loss: 1.2099 - val_accuracy: 0.4631\n",
            "Epoch 284/500\n",
            "24/24 [==============================] - 0s 4ms/step - loss: 1.1756 - accuracy: 0.4783 - val_loss: 1.2107 - val_accuracy: 0.4589\n",
            "Epoch 285/500\n",
            "24/24 [==============================] - 0s 4ms/step - loss: 1.1760 - accuracy: 0.4797 - val_loss: 1.2111 - val_accuracy: 0.4620\n",
            "Epoch 286/500\n",
            "24/24 [==============================] - 0s 4ms/step - loss: 1.1773 - accuracy: 0.4749 - val_loss: 1.2113 - val_accuracy: 0.4565\n",
            "Epoch 287/500\n",
            "24/24 [==============================] - 0s 4ms/step - loss: 1.1757 - accuracy: 0.4780 - val_loss: 1.2106 - val_accuracy: 0.4634\n",
            "Epoch 288/500\n",
            "24/24 [==============================] - 0s 4ms/step - loss: 1.1756 - accuracy: 0.4778 - val_loss: 1.2093 - val_accuracy: 0.4579\n",
            "Epoch 289/500\n",
            "24/24 [==============================] - 0s 4ms/step - loss: 1.1754 - accuracy: 0.4787 - val_loss: 1.2101 - val_accuracy: 0.4593\n",
            "Epoch 290/500\n",
            "24/24 [==============================] - 0s 5ms/step - loss: 1.1755 - accuracy: 0.4783 - val_loss: 1.2097 - val_accuracy: 0.4586\n",
            "Epoch 291/500\n",
            "24/24 [==============================] - 0s 4ms/step - loss: 1.1761 - accuracy: 0.4785 - val_loss: 1.2106 - val_accuracy: 0.4600\n",
            "Epoch 292/500\n",
            "24/24 [==============================] - 0s 4ms/step - loss: 1.1771 - accuracy: 0.4761 - val_loss: 1.2095 - val_accuracy: 0.4596\n",
            "Epoch 293/500\n",
            "24/24 [==============================] - 0s 4ms/step - loss: 1.1759 - accuracy: 0.4749 - val_loss: 1.2097 - val_accuracy: 0.4620\n",
            "Epoch 294/500\n",
            "24/24 [==============================] - 0s 4ms/step - loss: 1.1751 - accuracy: 0.4810 - val_loss: 1.2098 - val_accuracy: 0.4600\n",
            "Epoch 295/500\n",
            "24/24 [==============================] - 0s 4ms/step - loss: 1.1759 - accuracy: 0.4739 - val_loss: 1.2104 - val_accuracy: 0.4620\n",
            "Epoch 296/500\n",
            "24/24 [==============================] - 0s 4ms/step - loss: 1.1756 - accuracy: 0.4766 - val_loss: 1.2095 - val_accuracy: 0.4614\n",
            "Epoch 297/500\n",
            "24/24 [==============================] - 0s 4ms/step - loss: 1.1754 - accuracy: 0.4766 - val_loss: 1.2100 - val_accuracy: 0.4586\n",
            "Epoch 298/500\n",
            "24/24 [==============================] - 0s 4ms/step - loss: 1.1762 - accuracy: 0.4816 - val_loss: 1.2099 - val_accuracy: 0.4624\n",
            "Epoch 299/500\n",
            "24/24 [==============================] - 0s 4ms/step - loss: 1.1769 - accuracy: 0.4749 - val_loss: 1.2094 - val_accuracy: 0.4596\n",
            "Epoch 300/500\n",
            "24/24 [==============================] - 0s 4ms/step - loss: 1.1751 - accuracy: 0.4770 - val_loss: 1.2093 - val_accuracy: 0.4600\n",
            "Epoch 301/500\n",
            "24/24 [==============================] - 0s 4ms/step - loss: 1.1761 - accuracy: 0.4795 - val_loss: 1.2102 - val_accuracy: 0.4614\n",
            "Epoch 302/500\n",
            "24/24 [==============================] - 0s 3ms/step - loss: 1.1752 - accuracy: 0.4809 - val_loss: 1.2086 - val_accuracy: 0.4610\n",
            "Epoch 303/500\n",
            "24/24 [==============================] - 0s 4ms/step - loss: 1.1746 - accuracy: 0.4787 - val_loss: 1.2096 - val_accuracy: 0.4589\n",
            "Epoch 304/500\n",
            "24/24 [==============================] - 0s 4ms/step - loss: 1.1753 - accuracy: 0.4770 - val_loss: 1.2096 - val_accuracy: 0.4572\n",
            "Epoch 305/500\n",
            "24/24 [==============================] - 0s 4ms/step - loss: 1.1757 - accuracy: 0.4782 - val_loss: 1.2093 - val_accuracy: 0.4610\n",
            "Epoch 306/500\n",
            "24/24 [==============================] - 0s 4ms/step - loss: 1.1751 - accuracy: 0.4805 - val_loss: 1.2097 - val_accuracy: 0.4572\n",
            "Epoch 307/500\n",
            "24/24 [==============================] - 0s 4ms/step - loss: 1.1747 - accuracy: 0.4753 - val_loss: 1.2094 - val_accuracy: 0.4600\n",
            "Epoch 308/500\n",
            "24/24 [==============================] - 0s 4ms/step - loss: 1.1751 - accuracy: 0.4775 - val_loss: 1.2103 - val_accuracy: 0.4607\n",
            "Epoch 309/500\n",
            "24/24 [==============================] - 0s 4ms/step - loss: 1.1749 - accuracy: 0.4787 - val_loss: 1.2084 - val_accuracy: 0.4624\n",
            "Epoch 310/500\n",
            "24/24 [==============================] - 0s 4ms/step - loss: 1.1744 - accuracy: 0.4771 - val_loss: 1.2091 - val_accuracy: 0.4572\n",
            "Epoch 311/500\n",
            "24/24 [==============================] - 0s 4ms/step - loss: 1.1748 - accuracy: 0.4760 - val_loss: 1.2095 - val_accuracy: 0.4620\n",
            "Epoch 312/500\n",
            "24/24 [==============================] - 0s 4ms/step - loss: 1.1747 - accuracy: 0.4804 - val_loss: 1.2081 - val_accuracy: 0.4579\n",
            "Epoch 313/500\n",
            "24/24 [==============================] - 0s 3ms/step - loss: 1.1752 - accuracy: 0.4800 - val_loss: 1.2087 - val_accuracy: 0.4624\n",
            "Epoch 314/500\n",
            "24/24 [==============================] - 0s 4ms/step - loss: 1.1751 - accuracy: 0.4770 - val_loss: 1.2086 - val_accuracy: 0.4620\n",
            "Epoch 315/500\n",
            "24/24 [==============================] - 0s 4ms/step - loss: 1.1747 - accuracy: 0.4805 - val_loss: 1.2083 - val_accuracy: 0.4658\n",
            "Epoch 316/500\n",
            "24/24 [==============================] - 0s 3ms/step - loss: 1.1753 - accuracy: 0.4771 - val_loss: 1.2097 - val_accuracy: 0.4596\n",
            "Epoch 317/500\n",
            "24/24 [==============================] - 0s 4ms/step - loss: 1.1736 - accuracy: 0.4783 - val_loss: 1.2084 - val_accuracy: 0.4610\n",
            "Epoch 318/500\n",
            "24/24 [==============================] - 0s 4ms/step - loss: 1.1743 - accuracy: 0.4816 - val_loss: 1.2081 - val_accuracy: 0.4627\n",
            "Epoch 319/500\n",
            "24/24 [==============================] - 0s 4ms/step - loss: 1.1745 - accuracy: 0.4809 - val_loss: 1.2076 - val_accuracy: 0.4596\n",
            "Epoch 320/500\n",
            "24/24 [==============================] - 0s 6ms/step - loss: 1.1754 - accuracy: 0.4748 - val_loss: 1.2092 - val_accuracy: 0.4586\n",
            "Epoch 321/500\n",
            "24/24 [==============================] - 0s 4ms/step - loss: 1.1749 - accuracy: 0.4724 - val_loss: 1.2089 - val_accuracy: 0.4589\n",
            "Epoch 322/500\n",
            "24/24 [==============================] - 0s 3ms/step - loss: 1.1743 - accuracy: 0.4804 - val_loss: 1.2083 - val_accuracy: 0.4610\n",
            "Epoch 323/500\n",
            "24/24 [==============================] - 0s 3ms/step - loss: 1.1743 - accuracy: 0.4805 - val_loss: 1.2087 - val_accuracy: 0.4586\n",
            "Epoch 324/500\n",
            "24/24 [==============================] - 0s 4ms/step - loss: 1.1742 - accuracy: 0.4760 - val_loss: 1.2086 - val_accuracy: 0.4586\n",
            "Epoch 325/500\n",
            "24/24 [==============================] - 0s 4ms/step - loss: 1.1739 - accuracy: 0.4792 - val_loss: 1.2089 - val_accuracy: 0.4579\n",
            "Epoch 326/500\n",
            "24/24 [==============================] - 0s 3ms/step - loss: 1.1747 - accuracy: 0.4761 - val_loss: 1.2088 - val_accuracy: 0.4607\n",
            "Epoch 327/500\n",
            "24/24 [==============================] - 0s 4ms/step - loss: 1.1740 - accuracy: 0.4810 - val_loss: 1.2097 - val_accuracy: 0.4603\n",
            "Epoch 328/500\n",
            "24/24 [==============================] - 0s 4ms/step - loss: 1.1755 - accuracy: 0.4719 - val_loss: 1.2086 - val_accuracy: 0.4631\n",
            "Epoch 329/500\n",
            "24/24 [==============================] - 0s 4ms/step - loss: 1.1742 - accuracy: 0.4812 - val_loss: 1.2085 - val_accuracy: 0.4641\n",
            "Epoch 330/500\n",
            "24/24 [==============================] - 0s 5ms/step - loss: 1.1743 - accuracy: 0.4702 - val_loss: 1.2085 - val_accuracy: 0.4600\n",
            "Epoch 331/500\n",
            "24/24 [==============================] - 0s 4ms/step - loss: 1.1746 - accuracy: 0.4788 - val_loss: 1.2092 - val_accuracy: 0.4610\n",
            "Epoch 332/500\n",
            "24/24 [==============================] - 0s 4ms/step - loss: 1.1753 - accuracy: 0.4778 - val_loss: 1.2103 - val_accuracy: 0.4617\n",
            "Epoch 333/500\n",
            "24/24 [==============================] - 0s 3ms/step - loss: 1.1746 - accuracy: 0.4768 - val_loss: 1.2093 - val_accuracy: 0.4603\n",
            "Epoch 334/500\n",
            "24/24 [==============================] - 0s 4ms/step - loss: 1.1740 - accuracy: 0.4805 - val_loss: 1.2084 - val_accuracy: 0.4638\n",
            "Epoch 335/500\n",
            "24/24 [==============================] - 0s 4ms/step - loss: 1.1744 - accuracy: 0.4782 - val_loss: 1.2088 - val_accuracy: 0.4607\n",
            "Epoch 336/500\n",
            "24/24 [==============================] - 0s 4ms/step - loss: 1.1742 - accuracy: 0.4765 - val_loss: 1.2089 - val_accuracy: 0.4627\n",
            "Epoch 337/500\n",
            "24/24 [==============================] - 0s 4ms/step - loss: 1.1743 - accuracy: 0.4814 - val_loss: 1.2085 - val_accuracy: 0.4596\n",
            "Epoch 338/500\n",
            "24/24 [==============================] - 0s 4ms/step - loss: 1.1741 - accuracy: 0.4794 - val_loss: 1.2073 - val_accuracy: 0.4638\n",
            "Epoch 339/500\n",
            "24/24 [==============================] - 0s 4ms/step - loss: 1.1749 - accuracy: 0.4748 - val_loss: 1.2082 - val_accuracy: 0.4655\n",
            "Epoch 340/500\n",
            "24/24 [==============================] - 0s 4ms/step - loss: 1.1742 - accuracy: 0.4821 - val_loss: 1.2080 - val_accuracy: 0.4614\n",
            "Epoch 341/500\n",
            "24/24 [==============================] - 0s 5ms/step - loss: 1.1733 - accuracy: 0.4785 - val_loss: 1.2085 - val_accuracy: 0.4593\n",
            "Epoch 342/500\n",
            "24/24 [==============================] - 0s 4ms/step - loss: 1.1740 - accuracy: 0.4777 - val_loss: 1.2085 - val_accuracy: 0.4617\n",
            "Epoch 343/500\n",
            "24/24 [==============================] - 0s 4ms/step - loss: 1.1736 - accuracy: 0.4787 - val_loss: 1.2088 - val_accuracy: 0.4627\n",
            "Epoch 344/500\n",
            "24/24 [==============================] - 0s 5ms/step - loss: 1.1732 - accuracy: 0.4777 - val_loss: 1.2081 - val_accuracy: 0.4624\n",
            "Epoch 345/500\n",
            "24/24 [==============================] - 0s 4ms/step - loss: 1.1733 - accuracy: 0.4788 - val_loss: 1.2082 - val_accuracy: 0.4617\n",
            "Epoch 346/500\n",
            "24/24 [==============================] - 0s 5ms/step - loss: 1.1745 - accuracy: 0.4790 - val_loss: 1.2083 - val_accuracy: 0.4648\n",
            "Epoch 347/500\n",
            "24/24 [==============================] - 0s 4ms/step - loss: 1.1737 - accuracy: 0.4775 - val_loss: 1.2082 - val_accuracy: 0.4638\n",
            "Epoch 348/500\n",
            "24/24 [==============================] - 0s 4ms/step - loss: 1.1736 - accuracy: 0.4822 - val_loss: 1.2077 - val_accuracy: 0.4644\n",
            "Epoch 349/500\n",
            "24/24 [==============================] - 0s 4ms/step - loss: 1.1750 - accuracy: 0.4765 - val_loss: 1.2083 - val_accuracy: 0.4603\n",
            "Epoch 350/500\n",
            "24/24 [==============================] - 0s 4ms/step - loss: 1.1735 - accuracy: 0.4795 - val_loss: 1.2086 - val_accuracy: 0.4593\n",
            "Epoch 351/500\n",
            "24/24 [==============================] - 0s 4ms/step - loss: 1.1736 - accuracy: 0.4805 - val_loss: 1.2070 - val_accuracy: 0.4638\n",
            "Epoch 352/500\n",
            "24/24 [==============================] - 0s 3ms/step - loss: 1.1733 - accuracy: 0.4804 - val_loss: 1.2091 - val_accuracy: 0.4589\n",
            "Epoch 353/500\n",
            "24/24 [==============================] - 0s 3ms/step - loss: 1.1743 - accuracy: 0.4746 - val_loss: 1.2084 - val_accuracy: 0.4607\n",
            "Epoch 354/500\n",
            "24/24 [==============================] - 0s 4ms/step - loss: 1.1732 - accuracy: 0.4799 - val_loss: 1.2085 - val_accuracy: 0.4624\n",
            "Epoch 355/500\n",
            "24/24 [==============================] - 0s 4ms/step - loss: 1.1730 - accuracy: 0.4788 - val_loss: 1.2083 - val_accuracy: 0.4624\n",
            "Epoch 356/500\n",
            "24/24 [==============================] - 0s 4ms/step - loss: 1.1732 - accuracy: 0.4790 - val_loss: 1.2078 - val_accuracy: 0.4627\n",
            "Epoch 357/500\n",
            "24/24 [==============================] - 0s 4ms/step - loss: 1.1735 - accuracy: 0.4809 - val_loss: 1.2086 - val_accuracy: 0.4662\n",
            "Epoch 358/500\n",
            "24/24 [==============================] - 0s 4ms/step - loss: 1.1747 - accuracy: 0.4771 - val_loss: 1.2087 - val_accuracy: 0.4651\n",
            "Epoch 359/500\n",
            "24/24 [==============================] - 0s 4ms/step - loss: 1.1727 - accuracy: 0.4809 - val_loss: 1.2084 - val_accuracy: 0.4641\n",
            "Epoch 360/500\n",
            "24/24 [==============================] - 0s 5ms/step - loss: 1.1730 - accuracy: 0.4792 - val_loss: 1.2090 - val_accuracy: 0.4658\n",
            "Epoch 361/500\n",
            "24/24 [==============================] - 0s 7ms/step - loss: 1.1727 - accuracy: 0.4810 - val_loss: 1.2077 - val_accuracy: 0.4662\n",
            "Epoch 362/500\n",
            "24/24 [==============================] - 0s 8ms/step - loss: 1.1726 - accuracy: 0.4822 - val_loss: 1.2086 - val_accuracy: 0.4641\n",
            "Epoch 363/500\n",
            "24/24 [==============================] - 0s 8ms/step - loss: 1.1731 - accuracy: 0.4792 - val_loss: 1.2082 - val_accuracy: 0.4600\n",
            "Epoch 364/500\n",
            "24/24 [==============================] - 0s 8ms/step - loss: 1.1745 - accuracy: 0.4805 - val_loss: 1.2098 - val_accuracy: 0.4634\n",
            "Epoch 365/500\n",
            "24/24 [==============================] - 0s 7ms/step - loss: 1.1726 - accuracy: 0.4805 - val_loss: 1.2080 - val_accuracy: 0.4648\n",
            "Epoch 366/500\n",
            "24/24 [==============================] - 0s 6ms/step - loss: 1.1726 - accuracy: 0.4775 - val_loss: 1.2088 - val_accuracy: 0.4655\n",
            "Epoch 367/500\n",
            "24/24 [==============================] - 0s 6ms/step - loss: 1.1734 - accuracy: 0.4788 - val_loss: 1.2084 - val_accuracy: 0.4662\n",
            "Epoch 368/500\n",
            "24/24 [==============================] - 0s 5ms/step - loss: 1.1735 - accuracy: 0.4819 - val_loss: 1.2078 - val_accuracy: 0.4641\n",
            "Epoch 369/500\n",
            "24/24 [==============================] - 0s 6ms/step - loss: 1.1722 - accuracy: 0.4816 - val_loss: 1.2082 - val_accuracy: 0.4662\n",
            "Epoch 370/500\n",
            "24/24 [==============================] - 0s 6ms/step - loss: 1.1726 - accuracy: 0.4802 - val_loss: 1.2090 - val_accuracy: 0.4627\n",
            "Epoch 371/500\n",
            "24/24 [==============================] - 0s 7ms/step - loss: 1.1726 - accuracy: 0.4824 - val_loss: 1.2080 - val_accuracy: 0.4634\n",
            "Epoch 372/500\n",
            "24/24 [==============================] - 0s 7ms/step - loss: 1.1730 - accuracy: 0.4800 - val_loss: 1.2104 - val_accuracy: 0.4679\n",
            "Epoch 373/500\n",
            "24/24 [==============================] - 0s 6ms/step - loss: 1.1739 - accuracy: 0.4777 - val_loss: 1.2086 - val_accuracy: 0.4644\n",
            "Epoch 374/500\n",
            "24/24 [==============================] - 0s 8ms/step - loss: 1.1726 - accuracy: 0.4826 - val_loss: 1.2085 - val_accuracy: 0.4631\n",
            "Epoch 375/500\n",
            "24/24 [==============================] - 0s 8ms/step - loss: 1.1727 - accuracy: 0.4788 - val_loss: 1.2083 - val_accuracy: 0.4620\n",
            "Epoch 376/500\n",
            "24/24 [==============================] - 0s 8ms/step - loss: 1.1721 - accuracy: 0.4836 - val_loss: 1.2079 - val_accuracy: 0.4655\n",
            "Epoch 377/500\n",
            "24/24 [==============================] - 0s 7ms/step - loss: 1.1727 - accuracy: 0.4777 - val_loss: 1.2085 - val_accuracy: 0.4644\n",
            "Epoch 378/500\n",
            "24/24 [==============================] - 0s 5ms/step - loss: 1.1734 - accuracy: 0.4824 - val_loss: 1.2070 - val_accuracy: 0.4655\n",
            "Epoch 379/500\n",
            "24/24 [==============================] - 0s 6ms/step - loss: 1.1724 - accuracy: 0.4821 - val_loss: 1.2076 - val_accuracy: 0.4638\n",
            "Epoch 380/500\n",
            "24/24 [==============================] - 0s 4ms/step - loss: 1.1724 - accuracy: 0.4834 - val_loss: 1.2076 - val_accuracy: 0.4693\n",
            "Epoch 381/500\n",
            "24/24 [==============================] - 0s 4ms/step - loss: 1.1725 - accuracy: 0.4809 - val_loss: 1.2088 - val_accuracy: 0.4651\n",
            "Epoch 382/500\n",
            "24/24 [==============================] - 0s 4ms/step - loss: 1.1726 - accuracy: 0.4800 - val_loss: 1.2082 - val_accuracy: 0.4634\n",
            "Epoch 383/500\n",
            "24/24 [==============================] - 0s 4ms/step - loss: 1.1729 - accuracy: 0.4841 - val_loss: 1.2080 - val_accuracy: 0.4662\n",
            "Epoch 384/500\n",
            "24/24 [==============================] - 0s 4ms/step - loss: 1.1725 - accuracy: 0.4795 - val_loss: 1.2081 - val_accuracy: 0.4689\n",
            "Epoch 385/500\n",
            "24/24 [==============================] - 0s 4ms/step - loss: 1.1726 - accuracy: 0.4827 - val_loss: 1.2071 - val_accuracy: 0.4634\n",
            "Epoch 386/500\n",
            "24/24 [==============================] - 0s 4ms/step - loss: 1.1748 - accuracy: 0.4768 - val_loss: 1.2094 - val_accuracy: 0.4655\n",
            "Epoch 387/500\n",
            "24/24 [==============================] - 0s 4ms/step - loss: 1.1728 - accuracy: 0.4788 - val_loss: 1.2073 - val_accuracy: 0.4679\n",
            "Epoch 388/500\n",
            "24/24 [==============================] - 0s 4ms/step - loss: 1.1720 - accuracy: 0.4838 - val_loss: 1.2089 - val_accuracy: 0.4682\n",
            "Epoch 389/500\n",
            "24/24 [==============================] - 0s 5ms/step - loss: 1.1725 - accuracy: 0.4826 - val_loss: 1.2068 - val_accuracy: 0.4614\n",
            "Epoch 390/500\n",
            "24/24 [==============================] - 0s 4ms/step - loss: 1.1721 - accuracy: 0.4787 - val_loss: 1.2076 - val_accuracy: 0.4675\n",
            "Epoch 391/500\n",
            "24/24 [==============================] - 0s 4ms/step - loss: 1.1720 - accuracy: 0.4788 - val_loss: 1.2077 - val_accuracy: 0.4655\n",
            "Epoch 392/500\n",
            "24/24 [==============================] - 0s 4ms/step - loss: 1.1717 - accuracy: 0.4810 - val_loss: 1.2080 - val_accuracy: 0.4651\n",
            "Epoch 393/500\n",
            "24/24 [==============================] - 0s 4ms/step - loss: 1.1726 - accuracy: 0.4821 - val_loss: 1.2086 - val_accuracy: 0.4638\n",
            "Epoch 394/500\n",
            "24/24 [==============================] - 0s 5ms/step - loss: 1.1726 - accuracy: 0.4765 - val_loss: 1.2076 - val_accuracy: 0.4658\n",
            "Epoch 395/500\n",
            "24/24 [==============================] - 0s 4ms/step - loss: 1.1711 - accuracy: 0.4871 - val_loss: 1.2084 - val_accuracy: 0.4638\n",
            "Epoch 396/500\n",
            "24/24 [==============================] - 0s 4ms/step - loss: 1.1721 - accuracy: 0.4800 - val_loss: 1.2072 - val_accuracy: 0.4682\n",
            "Epoch 397/500\n",
            "24/24 [==============================] - 0s 4ms/step - loss: 1.1720 - accuracy: 0.4849 - val_loss: 1.2078 - val_accuracy: 0.4641\n",
            "Epoch 398/500\n",
            "24/24 [==============================] - 0s 4ms/step - loss: 1.1724 - accuracy: 0.4785 - val_loss: 1.2077 - val_accuracy: 0.4651\n",
            "Epoch 399/500\n",
            "24/24 [==============================] - 0s 4ms/step - loss: 1.1719 - accuracy: 0.4834 - val_loss: 1.2087 - val_accuracy: 0.4648\n",
            "Epoch 400/500\n",
            "24/24 [==============================] - 0s 4ms/step - loss: 1.1718 - accuracy: 0.4782 - val_loss: 1.2073 - val_accuracy: 0.4655\n",
            "Epoch 401/500\n",
            "24/24 [==============================] - 0s 4ms/step - loss: 1.1727 - accuracy: 0.4841 - val_loss: 1.2106 - val_accuracy: 0.4641\n",
            "Epoch 402/500\n",
            "24/24 [==============================] - 0s 4ms/step - loss: 1.1717 - accuracy: 0.4807 - val_loss: 1.2071 - val_accuracy: 0.4658\n",
            "Epoch 403/500\n",
            "24/24 [==============================] - 0s 4ms/step - loss: 1.1717 - accuracy: 0.4790 - val_loss: 1.2070 - val_accuracy: 0.4644\n",
            "Epoch 404/500\n",
            "24/24 [==============================] - 0s 4ms/step - loss: 1.1723 - accuracy: 0.4821 - val_loss: 1.2087 - val_accuracy: 0.4655\n",
            "Epoch 405/500\n",
            "24/24 [==============================] - 0s 4ms/step - loss: 1.1720 - accuracy: 0.4778 - val_loss: 1.2081 - val_accuracy: 0.4651\n",
            "Epoch 406/500\n",
            "24/24 [==============================] - 0s 4ms/step - loss: 1.1725 - accuracy: 0.4766 - val_loss: 1.2075 - val_accuracy: 0.4672\n",
            "Epoch 407/500\n",
            "24/24 [==============================] - 0s 5ms/step - loss: 1.1728 - accuracy: 0.4790 - val_loss: 1.2087 - val_accuracy: 0.4665\n",
            "Epoch 408/500\n",
            "24/24 [==============================] - 0s 4ms/step - loss: 1.1721 - accuracy: 0.4788 - val_loss: 1.2077 - val_accuracy: 0.4675\n",
            "Epoch 409/500\n",
            "24/24 [==============================] - 0s 4ms/step - loss: 1.1723 - accuracy: 0.4817 - val_loss: 1.2068 - val_accuracy: 0.4662\n",
            "Epoch 410/500\n",
            "24/24 [==============================] - 0s 4ms/step - loss: 1.1716 - accuracy: 0.4829 - val_loss: 1.2076 - val_accuracy: 0.4658\n",
            "Epoch 411/500\n",
            "24/24 [==============================] - 0s 4ms/step - loss: 1.1729 - accuracy: 0.4829 - val_loss: 1.2120 - val_accuracy: 0.4627\n",
            "Epoch 412/500\n",
            "24/24 [==============================] - 0s 4ms/step - loss: 1.1749 - accuracy: 0.4810 - val_loss: 1.2070 - val_accuracy: 0.4648\n",
            "Epoch 413/500\n",
            "24/24 [==============================] - 0s 4ms/step - loss: 1.1722 - accuracy: 0.4778 - val_loss: 1.2069 - val_accuracy: 0.4672\n",
            "Epoch 414/500\n",
            "24/24 [==============================] - 0s 3ms/step - loss: 1.1721 - accuracy: 0.4821 - val_loss: 1.2074 - val_accuracy: 0.4675\n",
            "Epoch 415/500\n",
            "24/24 [==============================] - 0s 4ms/step - loss: 1.1718 - accuracy: 0.4841 - val_loss: 1.2082 - val_accuracy: 0.4682\n",
            "Epoch 416/500\n",
            "24/24 [==============================] - 0s 4ms/step - loss: 1.1719 - accuracy: 0.4841 - val_loss: 1.2075 - val_accuracy: 0.4648\n",
            "Epoch 417/500\n",
            "24/24 [==============================] - 0s 4ms/step - loss: 1.1720 - accuracy: 0.4804 - val_loss: 1.2079 - val_accuracy: 0.4627\n",
            "Epoch 418/500\n",
            "24/24 [==============================] - 0s 5ms/step - loss: 1.1721 - accuracy: 0.4794 - val_loss: 1.2084 - val_accuracy: 0.4665\n",
            "Epoch 419/500\n",
            "24/24 [==============================] - 0s 5ms/step - loss: 1.1721 - accuracy: 0.4816 - val_loss: 1.2082 - val_accuracy: 0.4679\n",
            "Epoch 420/500\n",
            "24/24 [==============================] - 0s 5ms/step - loss: 1.1712 - accuracy: 0.4831 - val_loss: 1.2067 - val_accuracy: 0.4651\n",
            "Epoch 421/500\n",
            "24/24 [==============================] - 0s 5ms/step - loss: 1.1708 - accuracy: 0.4810 - val_loss: 1.2087 - val_accuracy: 0.4651\n",
            "Epoch 422/500\n",
            "24/24 [==============================] - 0s 4ms/step - loss: 1.1718 - accuracy: 0.4788 - val_loss: 1.2071 - val_accuracy: 0.4710\n",
            "Epoch 423/500\n",
            "24/24 [==============================] - 0s 4ms/step - loss: 1.1707 - accuracy: 0.4826 - val_loss: 1.2079 - val_accuracy: 0.4706\n",
            "Epoch 424/500\n",
            "24/24 [==============================] - 0s 4ms/step - loss: 1.1710 - accuracy: 0.4809 - val_loss: 1.2071 - val_accuracy: 0.4686\n",
            "Epoch 425/500\n",
            "24/24 [==============================] - 0s 5ms/step - loss: 1.1709 - accuracy: 0.4821 - val_loss: 1.2067 - val_accuracy: 0.4668\n",
            "Epoch 426/500\n",
            "24/24 [==============================] - 0s 4ms/step - loss: 1.1716 - accuracy: 0.4800 - val_loss: 1.2085 - val_accuracy: 0.4672\n",
            "Epoch 427/500\n",
            "24/24 [==============================] - 0s 4ms/step - loss: 1.1732 - accuracy: 0.4782 - val_loss: 1.2067 - val_accuracy: 0.4679\n",
            "Epoch 428/500\n",
            "24/24 [==============================] - 0s 4ms/step - loss: 1.1717 - accuracy: 0.4778 - val_loss: 1.2073 - val_accuracy: 0.4675\n",
            "Epoch 429/500\n",
            "24/24 [==============================] - 0s 4ms/step - loss: 1.1715 - accuracy: 0.4788 - val_loss: 1.2069 - val_accuracy: 0.4644\n",
            "Epoch 430/500\n",
            "24/24 [==============================] - 0s 4ms/step - loss: 1.1727 - accuracy: 0.4816 - val_loss: 1.2071 - val_accuracy: 0.4703\n",
            "Epoch 431/500\n",
            "24/24 [==============================] - 0s 4ms/step - loss: 1.1722 - accuracy: 0.4795 - val_loss: 1.2073 - val_accuracy: 0.4668\n",
            "Epoch 432/500\n",
            "24/24 [==============================] - 0s 4ms/step - loss: 1.1704 - accuracy: 0.4829 - val_loss: 1.2078 - val_accuracy: 0.4638\n",
            "Epoch 433/500\n",
            "24/24 [==============================] - 0s 4ms/step - loss: 1.1714 - accuracy: 0.4836 - val_loss: 1.2076 - val_accuracy: 0.4665\n",
            "Epoch 434/500\n",
            "24/24 [==============================] - 0s 4ms/step - loss: 1.1711 - accuracy: 0.4792 - val_loss: 1.2073 - val_accuracy: 0.4665\n",
            "Epoch 435/500\n",
            "24/24 [==============================] - 0s 4ms/step - loss: 1.1704 - accuracy: 0.4836 - val_loss: 1.2075 - val_accuracy: 0.4693\n",
            "Epoch 436/500\n",
            "24/24 [==============================] - 0s 4ms/step - loss: 1.1710 - accuracy: 0.4861 - val_loss: 1.2064 - val_accuracy: 0.4679\n",
            "Epoch 437/500\n",
            "24/24 [==============================] - 0s 6ms/step - loss: 1.1710 - accuracy: 0.4824 - val_loss: 1.2079 - val_accuracy: 0.4693\n",
            "Epoch 438/500\n",
            "24/24 [==============================] - 0s 5ms/step - loss: 1.1706 - accuracy: 0.4807 - val_loss: 1.2068 - val_accuracy: 0.4672\n",
            "Epoch 439/500\n",
            "24/24 [==============================] - 0s 4ms/step - loss: 1.1709 - accuracy: 0.4831 - val_loss: 1.2081 - val_accuracy: 0.4696\n",
            "Epoch 440/500\n",
            "24/24 [==============================] - 0s 4ms/step - loss: 1.1721 - accuracy: 0.4814 - val_loss: 1.2065 - val_accuracy: 0.4706\n",
            "Epoch 441/500\n",
            "24/24 [==============================] - 0s 4ms/step - loss: 1.1710 - accuracy: 0.4822 - val_loss: 1.2066 - val_accuracy: 0.4668\n",
            "Epoch 442/500\n",
            "24/24 [==============================] - 0s 4ms/step - loss: 1.1706 - accuracy: 0.4834 - val_loss: 1.2078 - val_accuracy: 0.4699\n",
            "Epoch 443/500\n",
            "24/24 [==============================] - 0s 4ms/step - loss: 1.1719 - accuracy: 0.4783 - val_loss: 1.2065 - val_accuracy: 0.4662\n",
            "Epoch 444/500\n",
            "24/24 [==============================] - 0s 3ms/step - loss: 1.1713 - accuracy: 0.4836 - val_loss: 1.2071 - val_accuracy: 0.4693\n",
            "Epoch 445/500\n",
            "24/24 [==============================] - 0s 4ms/step - loss: 1.1711 - accuracy: 0.4827 - val_loss: 1.2070 - val_accuracy: 0.4696\n",
            "Epoch 446/500\n",
            "24/24 [==============================] - 0s 4ms/step - loss: 1.1710 - accuracy: 0.4817 - val_loss: 1.2098 - val_accuracy: 0.4720\n",
            "Epoch 447/500\n",
            "24/24 [==============================] - 0s 5ms/step - loss: 1.1706 - accuracy: 0.4856 - val_loss: 1.2065 - val_accuracy: 0.4662\n",
            "Epoch 448/500\n",
            "24/24 [==============================] - 0s 4ms/step - loss: 1.1703 - accuracy: 0.4819 - val_loss: 1.2061 - val_accuracy: 0.4662\n",
            "Epoch 449/500\n",
            "24/24 [==============================] - 0s 3ms/step - loss: 1.1711 - accuracy: 0.4831 - val_loss: 1.2064 - val_accuracy: 0.4693\n",
            "Epoch 450/500\n",
            "24/24 [==============================] - 0s 4ms/step - loss: 1.1706 - accuracy: 0.4816 - val_loss: 1.2065 - val_accuracy: 0.4662\n",
            "Epoch 451/500\n",
            "24/24 [==============================] - 0s 4ms/step - loss: 1.1705 - accuracy: 0.4816 - val_loss: 1.2066 - val_accuracy: 0.4675\n",
            "Epoch 452/500\n",
            "24/24 [==============================] - 0s 4ms/step - loss: 1.1728 - accuracy: 0.4775 - val_loss: 1.2076 - val_accuracy: 0.4686\n",
            "Epoch 453/500\n",
            "24/24 [==============================] - 0s 4ms/step - loss: 1.1715 - accuracy: 0.4797 - val_loss: 1.2091 - val_accuracy: 0.4665\n",
            "Epoch 454/500\n",
            "24/24 [==============================] - 0s 4ms/step - loss: 1.1717 - accuracy: 0.4794 - val_loss: 1.2078 - val_accuracy: 0.4644\n",
            "Epoch 455/500\n",
            "24/24 [==============================] - 0s 4ms/step - loss: 1.1700 - accuracy: 0.4851 - val_loss: 1.2066 - val_accuracy: 0.4699\n",
            "Epoch 456/500\n",
            "24/24 [==============================] - 0s 4ms/step - loss: 1.1708 - accuracy: 0.4787 - val_loss: 1.2091 - val_accuracy: 0.4672\n",
            "Epoch 457/500\n",
            "24/24 [==============================] - 0s 6ms/step - loss: 1.1705 - accuracy: 0.4851 - val_loss: 1.2065 - val_accuracy: 0.4710\n",
            "Epoch 458/500\n",
            "24/24 [==============================] - 0s 7ms/step - loss: 1.1703 - accuracy: 0.4760 - val_loss: 1.2087 - val_accuracy: 0.4668\n",
            "Epoch 459/500\n",
            "24/24 [==============================] - 0s 5ms/step - loss: 1.1725 - accuracy: 0.4812 - val_loss: 1.2067 - val_accuracy: 0.4668\n",
            "Epoch 460/500\n",
            "24/24 [==============================] - 0s 4ms/step - loss: 1.1706 - accuracy: 0.4841 - val_loss: 1.2073 - val_accuracy: 0.4696\n",
            "Epoch 461/500\n",
            "24/24 [==============================] - 0s 5ms/step - loss: 1.1707 - accuracy: 0.4794 - val_loss: 1.2076 - val_accuracy: 0.4589\n",
            "Epoch 462/500\n",
            "24/24 [==============================] - 0s 5ms/step - loss: 1.1714 - accuracy: 0.4810 - val_loss: 1.2072 - val_accuracy: 0.4668\n",
            "Epoch 463/500\n",
            "24/24 [==============================] - 0s 5ms/step - loss: 1.1707 - accuracy: 0.4838 - val_loss: 1.2071 - val_accuracy: 0.4696\n",
            "Epoch 464/500\n",
            "24/24 [==============================] - 0s 4ms/step - loss: 1.1710 - accuracy: 0.4804 - val_loss: 1.2063 - val_accuracy: 0.4699\n",
            "Epoch 465/500\n",
            "24/24 [==============================] - 0s 4ms/step - loss: 1.1706 - accuracy: 0.4870 - val_loss: 1.2061 - val_accuracy: 0.4737\n",
            "Epoch 466/500\n",
            "24/24 [==============================] - 0s 4ms/step - loss: 1.1699 - accuracy: 0.4827 - val_loss: 1.2064 - val_accuracy: 0.4696\n",
            "Epoch 467/500\n",
            "24/24 [==============================] - 0s 4ms/step - loss: 1.1704 - accuracy: 0.4839 - val_loss: 1.2062 - val_accuracy: 0.4689\n",
            "Epoch 468/500\n",
            "24/24 [==============================] - 0s 4ms/step - loss: 1.1718 - accuracy: 0.4805 - val_loss: 1.2060 - val_accuracy: 0.4706\n",
            "Epoch 469/500\n",
            "24/24 [==============================] - 0s 4ms/step - loss: 1.1691 - accuracy: 0.4844 - val_loss: 1.2067 - val_accuracy: 0.4689\n",
            "Epoch 470/500\n",
            "24/24 [==============================] - 0s 4ms/step - loss: 1.1708 - accuracy: 0.4819 - val_loss: 1.2072 - val_accuracy: 0.4686\n",
            "Epoch 471/500\n",
            "24/24 [==============================] - 0s 4ms/step - loss: 1.1697 - accuracy: 0.4838 - val_loss: 1.2058 - val_accuracy: 0.4679\n",
            "Epoch 472/500\n",
            "24/24 [==============================] - 0s 7ms/step - loss: 1.1709 - accuracy: 0.4807 - val_loss: 1.2058 - val_accuracy: 0.4693\n",
            "Epoch 473/500\n",
            "24/24 [==============================] - 0s 8ms/step - loss: 1.1703 - accuracy: 0.4819 - val_loss: 1.2051 - val_accuracy: 0.4689\n",
            "Epoch 474/500\n",
            "24/24 [==============================] - 0s 7ms/step - loss: 1.1704 - accuracy: 0.4834 - val_loss: 1.2069 - val_accuracy: 0.4710\n",
            "Epoch 475/500\n",
            "24/24 [==============================] - 0s 7ms/step - loss: 1.1732 - accuracy: 0.4783 - val_loss: 1.2106 - val_accuracy: 0.4665\n",
            "Epoch 476/500\n",
            "24/24 [==============================] - 0s 8ms/step - loss: 1.1710 - accuracy: 0.4817 - val_loss: 1.2060 - val_accuracy: 0.4710\n",
            "Epoch 477/500\n",
            "24/24 [==============================] - 0s 7ms/step - loss: 1.1700 - accuracy: 0.4865 - val_loss: 1.2067 - val_accuracy: 0.4662\n",
            "Epoch 478/500\n",
            "24/24 [==============================] - 0s 9ms/step - loss: 1.1696 - accuracy: 0.4848 - val_loss: 1.2067 - val_accuracy: 0.4682\n",
            "Epoch 479/500\n",
            "24/24 [==============================] - 0s 9ms/step - loss: 1.1692 - accuracy: 0.4860 - val_loss: 1.2060 - val_accuracy: 0.4710\n",
            "Epoch 480/500\n",
            "24/24 [==============================] - 0s 9ms/step - loss: 1.1699 - accuracy: 0.4809 - val_loss: 1.2059 - val_accuracy: 0.4624\n",
            "Epoch 481/500\n",
            "24/24 [==============================] - 0s 8ms/step - loss: 1.1724 - accuracy: 0.4821 - val_loss: 1.2067 - val_accuracy: 0.4693\n",
            "Epoch 482/500\n",
            "24/24 [==============================] - 0s 8ms/step - loss: 1.1711 - accuracy: 0.4846 - val_loss: 1.2060 - val_accuracy: 0.4699\n",
            "Epoch 483/500\n",
            "24/24 [==============================] - 0s 8ms/step - loss: 1.1699 - accuracy: 0.4844 - val_loss: 1.2063 - val_accuracy: 0.4689\n",
            "Epoch 484/500\n",
            "24/24 [==============================] - 0s 7ms/step - loss: 1.1693 - accuracy: 0.4844 - val_loss: 1.2062 - val_accuracy: 0.4748\n",
            "Epoch 485/500\n",
            "24/24 [==============================] - 0s 7ms/step - loss: 1.1689 - accuracy: 0.4843 - val_loss: 1.2063 - val_accuracy: 0.4682\n",
            "Epoch 486/500\n",
            "24/24 [==============================] - 0s 8ms/step - loss: 1.1695 - accuracy: 0.4858 - val_loss: 1.2057 - val_accuracy: 0.4710\n",
            "Epoch 487/500\n",
            "24/24 [==============================] - 0s 6ms/step - loss: 1.1697 - accuracy: 0.4795 - val_loss: 1.2052 - val_accuracy: 0.4723\n",
            "Epoch 488/500\n",
            "24/24 [==============================] - 0s 4ms/step - loss: 1.1712 - accuracy: 0.4832 - val_loss: 1.2061 - val_accuracy: 0.4727\n",
            "Epoch 489/500\n",
            "24/24 [==============================] - 0s 4ms/step - loss: 1.1721 - accuracy: 0.4809 - val_loss: 1.2069 - val_accuracy: 0.4689\n",
            "Epoch 490/500\n",
            "24/24 [==============================] - 0s 4ms/step - loss: 1.1694 - accuracy: 0.4873 - val_loss: 1.2055 - val_accuracy: 0.4699\n",
            "Epoch 491/500\n",
            "24/24 [==============================] - 0s 4ms/step - loss: 1.1708 - accuracy: 0.4838 - val_loss: 1.2056 - val_accuracy: 0.4713\n",
            "Epoch 492/500\n",
            "24/24 [==============================] - 0s 4ms/step - loss: 1.1693 - accuracy: 0.4865 - val_loss: 1.2053 - val_accuracy: 0.4699\n",
            "Epoch 493/500\n",
            "24/24 [==============================] - 0s 4ms/step - loss: 1.1695 - accuracy: 0.4846 - val_loss: 1.2059 - val_accuracy: 0.4717\n",
            "Epoch 494/500\n",
            "24/24 [==============================] - 0s 4ms/step - loss: 1.1698 - accuracy: 0.4861 - val_loss: 1.2052 - val_accuracy: 0.4720\n",
            "Epoch 495/500\n",
            "24/24 [==============================] - 0s 4ms/step - loss: 1.1697 - accuracy: 0.4829 - val_loss: 1.2056 - val_accuracy: 0.4682\n",
            "Epoch 496/500\n",
            "24/24 [==============================] - 0s 4ms/step - loss: 1.1692 - accuracy: 0.4846 - val_loss: 1.2063 - val_accuracy: 0.4737\n",
            "Epoch 497/500\n",
            "24/24 [==============================] - 0s 4ms/step - loss: 1.1690 - accuracy: 0.4846 - val_loss: 1.2058 - val_accuracy: 0.4748\n",
            "Epoch 498/500\n",
            "24/24 [==============================] - 0s 4ms/step - loss: 1.1697 - accuracy: 0.4809 - val_loss: 1.2057 - val_accuracy: 0.4723\n",
            "Epoch 499/500\n",
            "24/24 [==============================] - 0s 4ms/step - loss: 1.1697 - accuracy: 0.4822 - val_loss: 1.2057 - val_accuracy: 0.4723\n",
            "Epoch 500/500\n",
            "24/24 [==============================] - 0s 4ms/step - loss: 1.1701 - accuracy: 0.4834 - val_loss: 1.2059 - val_accuracy: 0.4710\n"
          ]
        },
        {
          "output_type": "execute_result",
          "data": {
            "text/plain": [
              "<keras.callbacks.History at 0x79619c7f3790>"
            ]
          },
          "metadata": {},
          "execution_count": 49
        }
      ]
    },
    {
      "cell_type": "code",
      "source": [
        "metrics = pd.DataFrame(ai_brain.history.history)"
      ],
      "metadata": {
        "id": "u8fXf0XLB92V"
      },
      "execution_count": null,
      "outputs": []
    },
    {
      "cell_type": "code",
      "source": [
        "metrics.head()"
      ],
      "metadata": {
        "colab": {
          "base_uri": "https://localhost:8080/",
          "height": 206
        },
        "id": "gKYPLOWMCZ7G",
        "outputId": "bdebb1ea-8ee9-4ddf-dc8b-6f7d23e1b0d5"
      },
      "execution_count": null,
      "outputs": [
        {
          "output_type": "execute_result",
          "data": {
            "text/plain": [
              "       loss  accuracy  val_loss  val_accuracy\n",
              "0  2.354528  0.223764  1.950311      0.227757\n",
              "1  1.720436  0.242552  1.557551      0.246651\n",
              "2  1.486328  0.252370  1.450531      0.263483\n",
              "3  1.419519  0.272512  1.405068      0.288904\n",
              "4  1.384053  0.301286  1.377387      0.298523"
            ],
            "text/html": [
              "\n",
              "  <div id=\"df-285a560c-8e93-4225-a912-8c7102c94f1d\" class=\"colab-df-container\">\n",
              "    <div>\n",
              "<style scoped>\n",
              "    .dataframe tbody tr th:only-of-type {\n",
              "        vertical-align: middle;\n",
              "    }\n",
              "\n",
              "    .dataframe tbody tr th {\n",
              "        vertical-align: top;\n",
              "    }\n",
              "\n",
              "    .dataframe thead th {\n",
              "        text-align: right;\n",
              "    }\n",
              "</style>\n",
              "<table border=\"1\" class=\"dataframe\">\n",
              "  <thead>\n",
              "    <tr style=\"text-align: right;\">\n",
              "      <th></th>\n",
              "      <th>loss</th>\n",
              "      <th>accuracy</th>\n",
              "      <th>val_loss</th>\n",
              "      <th>val_accuracy</th>\n",
              "    </tr>\n",
              "  </thead>\n",
              "  <tbody>\n",
              "    <tr>\n",
              "      <th>0</th>\n",
              "      <td>2.354528</td>\n",
              "      <td>0.223764</td>\n",
              "      <td>1.950311</td>\n",
              "      <td>0.227757</td>\n",
              "    </tr>\n",
              "    <tr>\n",
              "      <th>1</th>\n",
              "      <td>1.720436</td>\n",
              "      <td>0.242552</td>\n",
              "      <td>1.557551</td>\n",
              "      <td>0.246651</td>\n",
              "    </tr>\n",
              "    <tr>\n",
              "      <th>2</th>\n",
              "      <td>1.486328</td>\n",
              "      <td>0.252370</td>\n",
              "      <td>1.450531</td>\n",
              "      <td>0.263483</td>\n",
              "    </tr>\n",
              "    <tr>\n",
              "      <th>3</th>\n",
              "      <td>1.419519</td>\n",
              "      <td>0.272512</td>\n",
              "      <td>1.405068</td>\n",
              "      <td>0.288904</td>\n",
              "    </tr>\n",
              "    <tr>\n",
              "      <th>4</th>\n",
              "      <td>1.384053</td>\n",
              "      <td>0.301286</td>\n",
              "      <td>1.377387</td>\n",
              "      <td>0.298523</td>\n",
              "    </tr>\n",
              "  </tbody>\n",
              "</table>\n",
              "</div>\n",
              "    <div class=\"colab-df-buttons\">\n",
              "\n",
              "  <div class=\"colab-df-container\">\n",
              "    <button class=\"colab-df-convert\" onclick=\"convertToInteractive('df-285a560c-8e93-4225-a912-8c7102c94f1d')\"\n",
              "            title=\"Convert this dataframe to an interactive table.\"\n",
              "            style=\"display:none;\">\n",
              "\n",
              "  <svg xmlns=\"http://www.w3.org/2000/svg\" height=\"24px\" viewBox=\"0 -960 960 960\">\n",
              "    <path d=\"M120-120v-720h720v720H120Zm60-500h600v-160H180v160Zm220 220h160v-160H400v160Zm0 220h160v-160H400v160ZM180-400h160v-160H180v160Zm440 0h160v-160H620v160ZM180-180h160v-160H180v160Zm440 0h160v-160H620v160Z\"/>\n",
              "  </svg>\n",
              "    </button>\n",
              "\n",
              "  <style>\n",
              "    .colab-df-container {\n",
              "      display:flex;\n",
              "      gap: 12px;\n",
              "    }\n",
              "\n",
              "    .colab-df-convert {\n",
              "      background-color: #E8F0FE;\n",
              "      border: none;\n",
              "      border-radius: 50%;\n",
              "      cursor: pointer;\n",
              "      display: none;\n",
              "      fill: #1967D2;\n",
              "      height: 32px;\n",
              "      padding: 0 0 0 0;\n",
              "      width: 32px;\n",
              "    }\n",
              "\n",
              "    .colab-df-convert:hover {\n",
              "      background-color: #E2EBFA;\n",
              "      box-shadow: 0px 1px 2px rgba(60, 64, 67, 0.3), 0px 1px 3px 1px rgba(60, 64, 67, 0.15);\n",
              "      fill: #174EA6;\n",
              "    }\n",
              "\n",
              "    .colab-df-buttons div {\n",
              "      margin-bottom: 4px;\n",
              "    }\n",
              "\n",
              "    [theme=dark] .colab-df-convert {\n",
              "      background-color: #3B4455;\n",
              "      fill: #D2E3FC;\n",
              "    }\n",
              "\n",
              "    [theme=dark] .colab-df-convert:hover {\n",
              "      background-color: #434B5C;\n",
              "      box-shadow: 0px 1px 3px 1px rgba(0, 0, 0, 0.15);\n",
              "      filter: drop-shadow(0px 1px 2px rgba(0, 0, 0, 0.3));\n",
              "      fill: #FFFFFF;\n",
              "    }\n",
              "  </style>\n",
              "\n",
              "    <script>\n",
              "      const buttonEl =\n",
              "        document.querySelector('#df-285a560c-8e93-4225-a912-8c7102c94f1d button.colab-df-convert');\n",
              "      buttonEl.style.display =\n",
              "        google.colab.kernel.accessAllowed ? 'block' : 'none';\n",
              "\n",
              "      async function convertToInteractive(key) {\n",
              "        const element = document.querySelector('#df-285a560c-8e93-4225-a912-8c7102c94f1d');\n",
              "        const dataTable =\n",
              "          await google.colab.kernel.invokeFunction('convertToInteractive',\n",
              "                                                    [key], {});\n",
              "        if (!dataTable) return;\n",
              "\n",
              "        const docLinkHtml = 'Like what you see? Visit the ' +\n",
              "          '<a target=\"_blank\" href=https://colab.research.google.com/notebooks/data_table.ipynb>data table notebook</a>'\n",
              "          + ' to learn more about interactive tables.';\n",
              "        element.innerHTML = '';\n",
              "        dataTable['output_type'] = 'display_data';\n",
              "        await google.colab.output.renderOutput(dataTable, element);\n",
              "        const docLink = document.createElement('div');\n",
              "        docLink.innerHTML = docLinkHtml;\n",
              "        element.appendChild(docLink);\n",
              "      }\n",
              "    </script>\n",
              "  </div>\n",
              "\n",
              "\n",
              "<div id=\"df-9440d51d-17c6-416b-881f-e33d13da6a94\">\n",
              "  <button class=\"colab-df-quickchart\" onclick=\"quickchart('df-9440d51d-17c6-416b-881f-e33d13da6a94')\"\n",
              "            title=\"Suggest charts.\"\n",
              "            style=\"display:none;\">\n",
              "\n",
              "<svg xmlns=\"http://www.w3.org/2000/svg\" height=\"24px\"viewBox=\"0 0 24 24\"\n",
              "     width=\"24px\">\n",
              "    <g>\n",
              "        <path d=\"M19 3H5c-1.1 0-2 .9-2 2v14c0 1.1.9 2 2 2h14c1.1 0 2-.9 2-2V5c0-1.1-.9-2-2-2zM9 17H7v-7h2v7zm4 0h-2V7h2v10zm4 0h-2v-4h2v4z\"/>\n",
              "    </g>\n",
              "</svg>\n",
              "  </button>\n",
              "\n",
              "<style>\n",
              "  .colab-df-quickchart {\n",
              "    background-color: #E8F0FE;\n",
              "    border: none;\n",
              "    border-radius: 50%;\n",
              "    cursor: pointer;\n",
              "    display: none;\n",
              "    fill: #1967D2;\n",
              "    height: 32px;\n",
              "    padding: 0 0 0 0;\n",
              "    width: 32px;\n",
              "  }\n",
              "\n",
              "  .colab-df-quickchart:hover {\n",
              "    background-color: #E2EBFA;\n",
              "    box-shadow: 0px 1px 2px rgba(60, 64, 67, 0.3), 0px 1px 3px 1px rgba(60, 64, 67, 0.15);\n",
              "    fill: #174EA6;\n",
              "  }\n",
              "\n",
              "  [theme=dark] .colab-df-quickchart {\n",
              "    background-color: #3B4455;\n",
              "    fill: #D2E3FC;\n",
              "  }\n",
              "\n",
              "  [theme=dark] .colab-df-quickchart:hover {\n",
              "    background-color: #434B5C;\n",
              "    box-shadow: 0px 1px 3px 1px rgba(0, 0, 0, 0.15);\n",
              "    filter: drop-shadow(0px 1px 2px rgba(0, 0, 0, 0.3));\n",
              "    fill: #FFFFFF;\n",
              "  }\n",
              "</style>\n",
              "\n",
              "  <script>\n",
              "    async function quickchart(key) {\n",
              "      const charts = await google.colab.kernel.invokeFunction(\n",
              "          'suggestCharts', [key], {});\n",
              "    }\n",
              "    (() => {\n",
              "      let quickchartButtonEl =\n",
              "        document.querySelector('#df-9440d51d-17c6-416b-881f-e33d13da6a94 button');\n",
              "      quickchartButtonEl.style.display =\n",
              "        google.colab.kernel.accessAllowed ? 'block' : 'none';\n",
              "    })();\n",
              "  </script>\n",
              "</div>\n",
              "    </div>\n",
              "  </div>\n"
            ]
          },
          "metadata": {},
          "execution_count": 51
        }
      ]
    },
    {
      "cell_type": "code",
      "source": [
        "metrics[['accuracy','val_accuracy']].plot()"
      ],
      "metadata": {
        "colab": {
          "base_uri": "https://localhost:8080/",
          "height": 453
        },
        "id": "_xrEWi_fCZ-j",
        "outputId": "02c427da-cbb2-4e6a-c92f-d5ca31cf1d8f"
      },
      "execution_count": null,
      "outputs": [
        {
          "output_type": "execute_result",
          "data": {
            "text/plain": [
              "<Axes: >"
            ]
          },
          "metadata": {},
          "execution_count": 52
        },
        {
          "output_type": "display_data",
          "data": {
            "text/plain": [
              "<Figure size 640x480 with 1 Axes>"
            ],
            "image/png": "[encoded data removed]"
          },
          "metadata": {}
        }
      ]
    },
    {
      "cell_type": "code",
      "source": [
        "metrics[['loss','val_loss']].plot()"
      ],
      "metadata": {
        "colab": {
          "base_uri": "https://localhost:8080/",
          "height": 449
        },
        "id": "7LwIsUppCg9A",
        "outputId": "b0dc1b3f-7446-430b-d2d4-2548172510a0"
      },
      "execution_count": null,
      "outputs": [
        {
          "output_type": "execute_result",
          "data": {
            "text/plain": [
              "<Axes: >"
            ]
          },
          "metadata": {},
          "execution_count": 53
        },
        {
          "output_type": "display_data",
          "data": {
            "text/plain": [
              "<Figure size 640x480 with 1 Axes>"
            ],
            "image/png": "[encoded data removed]"
          },
          "metadata": {}
        }
      ]
    },
    {
      "cell_type": "code",
      "source": [
        "x_test_predictions = np.argmax(ai_brain.predict(X_test_scaled), axis=1)"
      ],
      "metadata": {
        "colab": {
          "base_uri": "https://localhost:8080/"
        },
        "id": "CWa9CWAvCph3",
        "outputId": "3ff9f7cf-509b-483e-eb19-9f9b38acfe6a"
      },
      "execution_count": null,
      "outputs": [
        {
          "output_type": "stream",
          "name": "stdout",
          "text": [
            "91/91 [==============================] - 0s 1ms/step\n"
          ]
        }
      ]
    },
    {
      "cell_type": "code",
      "source": [
        "x_test_predictions.shape"
      ],
      "metadata": {
        "colab": {
          "base_uri": "https://localhost:8080/"
        },
        "id": "pZkkIu4uCplk",
        "outputId": "522b8593-803f-4a94-d5fb-e888b63701c7"
      },
      "execution_count": null,
      "outputs": [
        {
          "output_type": "execute_result",
          "data": {
            "text/plain": [
              "(2911,)"
            ]
          },
          "metadata": {},
          "execution_count": 55
        }
      ]
    },
    {
      "cell_type": "code",
      "source": [
        "y_test_truevalue = np.argmax(y_test,axis=1)"
      ],
      "metadata": {
        "id": "6GmTfRL0C_Qz"
      },
      "execution_count": null,
      "outputs": []
    },
    {
      "cell_type": "code",
      "source": [
        "y_test_truevalue.shape"
      ],
      "metadata": {
        "colab": {
          "base_uri": "https://localhost:8080/"
        },
        "id": "8V4LHWslDAzA",
        "outputId": "d6063726-ccca-4d39-9ef0-5effc5d632aa"
      },
      "execution_count": null,
      "outputs": [
        {
          "output_type": "execute_result",
          "data": {
            "text/plain": [
              "(2911,)"
            ]
          },
          "metadata": {},
          "execution_count": 57
        }
      ]
    },
    {
      "cell_type": "code",
      "source": [
        "\n",
        "print(confusion_matrix(y_test_truevalue,x_test_predictions))"
      ],
      "metadata": {
        "colab": {
          "base_uri": "https://localhost:8080/"
        },
        "id": "zSJTY_mRDA2Z",
        "outputId": "364392b9-cd60-4353-bf62-a30206d11f33"
      },
      "execution_count": null,
      "outputs": [
        {
          "output_type": "stream",
          "name": "stdout",
          "text": [
            "[[401  93 110 153]\n",
            " [242 151 197  96]\n",
            " [146  96 354  90]\n",
            " [210  54  53 465]]\n"
          ]
        }
      ]
    },
    {
      "cell_type": "code",
      "source": [
        "print(classification_report(y_test_truevalue,x_test_predictions))\n"
      ],
      "metadata": {
        "colab": {
          "base_uri": "https://localhost:8080/"
        },
        "id": "IRZMKevTDJcN",
        "outputId": "25053d6c-4336-4624-8146-d6869c934e12"
      },
      "execution_count": null,
      "outputs": [
        {
          "output_type": "stream",
          "name": "stdout",
          "text": [
            "              precision    recall  f1-score   support\n",
            "\n",
            "           0       0.40      0.53      0.46       757\n",
            "           1       0.38      0.22      0.28       686\n",
            "           2       0.50      0.52      0.51       686\n",
            "           3       0.58      0.59      0.59       782\n",
            "\n",
            "    accuracy                           0.47      2911\n",
            "   macro avg       0.46      0.47      0.46      2911\n",
            "weighted avg       0.47      0.47      0.46      2911\n",
            "\n"
          ]
        }
      ]
    },
    {
      "cell_type": "code",
      "source": [
        "ai_brain.save('customer_classification_model.h5')"
      ],
      "metadata": {
        "id": "xI7_kQKhDJeH"
      },
      "execution_count": null,
      "outputs": []
    },
    {
      "cell_type": "code",
      "source": [
        "with open('customer_data.pickle', 'wb') as fh:\n",
        "   pickle.dump([X_train_scaled,y_train,X_test_scaled,y_test,customers_1,customer_df_cleaned,scaler_age,enc,one_hot_enc,le], fh)\n"
      ],
      "metadata": {
        "id": "oTEIGAHbDJhp"
      },
      "execution_count": null,
      "outputs": []
    },
    {
      "cell_type": "code",
      "source": [
        "ai_brain = load_model('customer_classification_model.h5')"
      ],
      "metadata": {
        "id": "rll7s7NSDUpv"
      },
      "execution_count": null,
      "outputs": []
    },
    {
      "cell_type": "code",
      "source": [
        "with open('customer_data.pickle', 'rb') as fh:\n",
        "   [X_train_scaled,y_train,X_test_scaled,y_test,customers_1,customer_df_cleaned,scaler_age,enc,one_hot_enc,le]=pickle.load(fh)\n",
        "\n"
      ],
      "metadata": {
        "id": "LVPeZJjEDjEv"
      },
      "execution_count": null,
      "outputs": []
    },
    {
      "cell_type": "code",
      "source": [
        "x_single_prediction = np.argmax(ai_brain.predict(X_test_scaled[1:2,:]), axis=1)\n"
      ],
      "metadata": {
        "colab": {
          "base_uri": "https://localhost:8080/"
        },
        "id": "_-rV4Lm3Dkz1",
        "outputId": "75fdf69d-48ae-4965-9812-88b06f00efb0"
      },
      "execution_count": null,
      "outputs": [
        {
          "output_type": "stream",
          "name": "stdout",
          "text": [
            "1/1 [==============================] - 0s 54ms/step\n"
          ]
        }
      ]
    },
    {
      "cell_type": "code",
      "source": [
        "print(x_single_prediction)"
      ],
      "metadata": {
        "id": "jb_2IU2oDrhA",
        "outputId": "378910f4-f6b7-4f7f-964d-843596dad223",
        "colab": {
          "base_uri": "https://localhost:8080/"
        }
      },
      "execution_count": null,
      "outputs": [
        {
          "output_type": "stream",
          "name": "stdout",
          "text": [
            "[2]\n"
          ]
        }
      ]
    },
    {
      "cell_type": "code",
      "source": [
        "print(le.inverse_transform(x_single_prediction))\n"
      ],
      "metadata": {
        "colab": {
          "base_uri": "https://localhost:8080/"
        },
        "id": "psy4H8LTgHQ8",
        "outputId": "59920ec3-42ec-42f2-bc14-8e7b16c2b3df"
      },
      "execution_count": null,
      "outputs": [
        {
          "output_type": "stream",
          "name": "stdout",
          "text": [
            "['C']\n"
          ]
        }
      ]
    }
  ]
}